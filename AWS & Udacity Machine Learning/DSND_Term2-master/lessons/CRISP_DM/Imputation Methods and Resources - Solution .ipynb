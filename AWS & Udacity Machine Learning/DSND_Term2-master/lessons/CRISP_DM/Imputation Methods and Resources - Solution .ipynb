{
 "cells": [
  {
   "cell_type": "markdown",
   "metadata": {},
   "source": [
    "### Imputation Methods and Resources\n",
    "\n",
    "One of the most common methods for working with missing values is by imputing the missing values.  Imputation means that you input a value for values that were originally missing. \n",
    "\n",
    "It is very common to impute in the following ways:\n",
    "1. Impute the **mean** of a column.<br><br>\n",
    "\n",
    "2. If you are working with categorical data or a variable with outliers, then use the **mode** of the column.<br><br>\n",
    "\n",
    "3. Impute 0, a very small number, or a very large number to differentiate missing values from other values.<br><br>\n",
    "\n",
    "4. Use knn to impute values based on features that are most similar.<br><br>\n",
    "\n",
    "In general, you should try to be more careful with missing data in understanding the real world implications and reasons for why the missing values exist.  At the same time, these solutions are very quick, and they enable you to get models off the ground.  You can then iterate on your feature engineering to be more careful as time permits.\n",
    "\n",
    "Let's take a look at how some of them work. Chris' content is again very helpful for many of these items - and you can access it [here](https://chrisalbon.com/).  He uses the [sklearn.preprocessing library](http://scikit-learn.org/stable/modules/preprocessing.html).  There are also a ton of ways to fill in missing values directly using pandas, which can be found [here](https://pandas.pydata.org/pandas-docs/stable/generated/pandas.DataFrame.fillna.html)\n",
    "\n",
    "Create the dataset you will be using for this notebook using the code below.\n"
   ]
  },
  {
   "cell_type": "code",
   "execution_count": null,
   "metadata": {},
   "outputs": [],
   "source": [
    "import pandas as pd\n",
    "import numpy as np\n",
    "import ImputationMethods as t\n",
    "\n",
    "df = pd.DataFrame({'A':[np.nan, 2, np.nan, 0, 7, 10, 15],\n",
    "                   'B':[3, 4, 5, 1, 2, 3, 5],\n",
    "                   'C':[np.nan, np.nan, np.nan, np.nan, np.nan, np.nan, np.nan],\n",
    "                   'D':[np.nan, True, np.nan, False, True, False, np.nan],\n",
    "                   'E':['Yes', 'No', 'Maybe', np.nan, np.nan, 'Yes', np.nan]})\n",
    "\n",
    "df"
   ]
  },
  {
   "cell_type": "markdown",
   "metadata": {},
   "source": [
    "#### Question 1\n",
    "\n",
    "**1.** Use the dictionary below to label the columns as the appropriate data type."
   ]
  },
  {
   "cell_type": "code",
   "execution_count": null,
   "metadata": {},
   "outputs": [],
   "source": [
    "a = 'categorical'\n",
    "b = 'quantitative'\n",
    "c = 'we cannot tell'\n",
    "d = 'boolean - can treat either way'\n",
    "\n",
    "question1_solution = {'Column A is': b,\n",
    "                      'Column B is': b,\n",
    "                      'Column C is': c,\n",
    "                      'Column D is': d,\n",
    "                      'Column E is': a,\n",
    "                     }\n",
    "\n",
    "# Check your answer\n",
    "t.var_test(question1_solution)"
   ]
  },
  {
   "cell_type": "markdown",
   "metadata": {},
   "source": [
    "#### Question 2\n",
    "\n",
    "**2.** Are there any columns or rows that you feel comfortable dropping in this dataframe?"
   ]
  },
  {
   "cell_type": "code",
   "execution_count": null,
   "metadata": {},
   "outputs": [],
   "source": [
    "a = \"Yes\"\n",
    "b = \"No\"\n",
    "\n",
    "should_we_drop = a\n",
    "\n",
    "#Check your answer\n",
    "t.can_we_drop(should_we_drop)"
   ]
  },
  {
   "cell_type": "code",
   "execution_count": null,
   "metadata": {},
   "outputs": [],
   "source": [
    "new_df = df.drop('C', axis = 1)# Use this cell to drop any columns or rows you feel comfortable dropping based on the above"
   ]
  },
  {
   "cell_type": "markdown",
   "metadata": {},
   "source": [
    "#### Question 3\n",
    "\n",
    "**3.** Using **new_df**, I wrote a lambda function that you can use to impute the mean for the columns of your dataframe using the **apply** method.  Use as many cells as you need to correctly fill in the dictionary **impute_q3** to answer a few questions about your findings."
   ]
  },
  {
   "cell_type": "code",
   "execution_count": null,
   "metadata": {},
   "outputs": [],
   "source": [
    "fill_mean = lambda col: col.fillna(col.mean())\n",
    "\n",
    "try:\n",
    "    new_df.apply(fill_mean, axis=0)\n",
    "except:\n",
    "    print('That broke...because column E is a string.')"
   ]
  },
  {
   "cell_type": "code",
   "execution_count": null,
   "metadata": {},
   "outputs": [],
   "source": [
    "new_df[['A', 'B', 'D']].apply(fill_mean, axis=0)"
   ]
  },
  {
   "cell_type": "code",
   "execution_count": null,
   "metadata": {},
   "outputs": [],
   "source": [
    "a = \"fills with the mean, but that doesn't actually make sense in this case.\"\n",
    "b = \"gives an error.\"\n",
    "c = \"is no problem - it fills the NaN values with the mean as expected.\"\n",
    "\n",
    "\n",
    "impute_q3 = {'Filling column A': c,\n",
    "             'Filling column D': a,\n",
    "             'Filling column E': b    \n",
    "}\n",
    "\n",
    "#Check your answer\n",
    "t.impute_q3_check(impute_q3)"
   ]
  },
  {
   "cell_type": "markdown",
   "metadata": {},
   "source": [
    "#### Question 4\n",
    "\n",
    "**4.** Given the results above, it might make more sense to fill some columns with the mode.  Write your own function to fill a column with the mode value, and use it on the two columns that might benefit from this type of imputation.  Use the dictionary **impute_q4** to answer some questions about your findings."
   ]
  },
  {
   "cell_type": "code",
   "execution_count": null,
   "metadata": {},
   "outputs": [],
   "source": [
    "fill_mode = lambda col: col.fillna(col.mode()[0])\n",
    "\n",
    "new_df.apply(fill_mode, axis=0)"
   ]
  },
  {
   "cell_type": "code",
   "execution_count": null,
   "metadata": {},
   "outputs": [],
   "source": [
    "a = \"Did not impute the mode.\"\n",
    "b = \"Imputes the mode.\"\n",
    "\n",
    "\n",
    "impute_q4 = {'Filling column A': a,\n",
    "             'Filling column D': a,\n",
    "             'Filling column E': b}\n",
    "\n",
    "\n",
    "#Check your answer\n",
    "t.impute_q4_check(impute_q4)"
   ]
  },
  {
   "cell_type": "markdown",
   "metadata": {},
   "source": [
    "You saw two of the most common ways to impute values in this notebook, and hopefully, you realized that even these methods have complications.  Again, these methods can be a great first step to get your models off the ground, but there are potentially detrimental aspects to the bias introduced into your models using these methods."
   ]
  },
  {
   "cell_type": "code",
   "execution_count": null,
   "metadata": {},
   "outputs": [],
   "source": []
  }
 ],
 "metadata": {
  "kernelspec": {
   "display_name": "Python 3",
   "language": "python",
   "name": "python3"
  },
  "language_info": {
   "codemirror_mode": {
    "name": "ipython",
    "version": 3
   },
   "file_extension": ".py",
   "mimetype": "text/x-python",
   "name": "python",
   "nbconvert_exporter": "python",
   "pygments_lexer": "ipython3",
   "version": "3.8.5"
  }
 },
 "nbformat": 4,
 "nbformat_minor": 2
}
