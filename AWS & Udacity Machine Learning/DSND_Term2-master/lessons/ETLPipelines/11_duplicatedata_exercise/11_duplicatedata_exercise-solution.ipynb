{
 "cells": [
  {
   "cell_type": "markdown",
   "metadata": {},
   "source": [
    "# Duplicate Data\n",
    "\n",
    "A data set might have duplicate data: in other words, the same record is represented multiple times. Sometimes, it's easy to find and eliminate duplicate data like when two records are exactly the same. At other times, like what was discussed in the video, duplicate data is hard to spot. \n",
    "\n",
    "# Exercise 1\n",
    "\n",
    "From the World Bank GDP data, count the number of countries that have had a project totalamt greater than 1 billion dollars (1,000,000,000). To get the count, you'll have to remove duplicate data rows."
   ]
  },
  {
   "cell_type": "code",
   "execution_count": null,
   "metadata": {},
   "outputs": [],
   "source": [
    "import pandas as pd\n",
    "\n",
    "# read in the projects data set and do some basic wrangling \n",
    "projects = pd.read_csv('../data/projects_data.csv', dtype=str)\n",
    "projects.drop('Unnamed: 56', axis=1, inplace=True)\n",
    "projects['totalamt'] = pd.to_numeric(projects['totalamt'].str.replace(',', ''))\n",
    "projects['countryname'] = projects['countryname'].str.split(';', expand=True)[0]\n",
    "projects['boardapprovaldate'] = pd.to_datetime(projects['boardapprovaldate'])\n",
    "\n",
    "# TODO: filter the data frame for projects over 1 billion dollars\n",
    "# TODO: count the number of unique countries in the results\n",
    "projects[projects['totalamt'] > 1000000000]['countryname'].nunique()"
   ]
  },
  {
   "cell_type": "markdown",
   "metadata": {},
   "source": [
    "# Exercise 2 (challenge)\n",
    "\n",
    "This exercise is more challenging. The projects data set contains data about Yugoslavia, which was an Eastern European country until 1992. Yugoslavia eventually broke up into 7 countries: Bosnia and Herzegovina, Croatia, Kosovo, Macedonia, Montenegro, Serbia, and Slovenia.\n",
    "\n",
    "But the projects dataset has some ambiguity in how it treats Yugoslavia and the 7 countries that came from Yugoslavia. Your task is to find Yugoslavia projects that are probably represented multiple times in the data set."
   ]
  },
  {
   "cell_type": "code",
   "execution_count": null,
   "metadata": {},
   "outputs": [],
   "source": [
    "# TODO: output all projects for the 'Socialist Federal Republic of Yugoslavia'\n",
    "# HINT: You can use the exact country name or use the pandas str.contains() method to search for Yugoslavia\n",
    "projects[projects['countryname'].str.contains('Yugoslavia')]"
   ]
  },
  {
   "cell_type": "markdown",
   "metadata": {},
   "source": [
    "Yugoslavia officially ended on [April 27th, 1992](https://en.wikipedia.org/wiki/Yugoslavia). \n",
    "\n",
    "In the code cell below, filter for projects with a 'boardapprovaldate' prior to April 27th, 1992 **and** with 'countryname' Bosnia and Herzegovina, Croatia, Kosovo, Macedonia, Serbia **or** Slovenia. You'll see there are a total of 12 projects in the data set that match this criteria. Save the results in the republics variable"
   ]
  },
  {
   "cell_type": "code",
   "execution_count": null,
   "metadata": {},
   "outputs": [],
   "source": [
    "import datetime\n",
    "\n",
    "# TODO: filter the projects data set for project boardapprovaldate prior to April 27th, 1992 AND with countryname\n",
    "#  of either 'Bosnia and Herzegovina', 'Croatia', 'Kosovo', 'Macedonia', 'Serbia', or 'Sovenia'. Store the\n",
    "#  results in the republics variable\n",
    "republics = projects[(projects['boardapprovaldate'] < datetime.date(1992, 4, 27)) &\n",
    "         ((projects['countryname'].str.contains('Bosnia')) | \n",
    "         (projects['countryname'].str.contains('Croatia')) | \n",
    "         (projects['countryname'].str.contains('Kosovo')) | \n",
    "         (projects['countryname'].str.contains('Macedonia')) | \n",
    "         (projects['countryname'].str.contains('Montenegro')) | \n",
    "         (projects['countryname'].str.contains('Serbia')) | \n",
    "         (projects['countryname'].str.contains('Slovenia')))][['regionname', \n",
    "                                                                   'countryname', \n",
    "                                                                   'lendinginstr', \n",
    "                                                                   'totalamt', \n",
    "                                                                   'boardapprovaldate',\n",
    "                                                               'location', \n",
    "                                                               'GeoLocID', \n",
    "                                                               'GeoLocName',\n",
    "                                                               'Latitude', \n",
    "                                                               'Longitude', \n",
    "                                                               'Country', \n",
    "                                                               'project_name']].sort_values('boardapprovaldate')\n",
    "\n",
    "republics"
   ]
  },
  {
   "cell_type": "markdown",
   "metadata": {},
   "source": [
    "Are these projects also represented in the data labeled Yugoslavia? In the code cell below, filter for Yugoslavia projects approved between February 1st, 1980 and May 23rd, 1989 which are the minimum and maximum dates in the results above. Store the results in the yugoslavia variable.\n",
    "\n",
    "The goal is to see if there are any projects represented more than once in the data set."
   ]
  },
  {
   "cell_type": "code",
   "execution_count": null,
   "metadata": {},
   "outputs": [],
   "source": [
    "# Return Yugoslavia projects that might overlap with the other country projects\n",
    "yugoslavia = projects[(projects['countryname'].str.contains('Yugoslavia')) & \n",
    "         (projects['boardapprovaldate'] >= datetime.date(1980, 2, 1)) &\n",
    "         (projects['boardapprovaldate'] <= datetime.date(1989, 5, 23))][['regionname', \n",
    "                                                                   'countryname', \n",
    "                                                                   'lendinginstr', \n",
    "                                                                   'totalamt', \n",
    "                                                                   'boardapprovaldate',\n",
    "                                                               'location', \n",
    "                                                               'GeoLocID', \n",
    "                                                               'GeoLocName',\n",
    "                                                               'Latitude', \n",
    "                                                               'Longitude', \n",
    "                                                               'Country', \n",
    "                                                                        'project_name']].sort_values('boardapprovaldate')\n",
    "yugoslavia"
   ]
  },
  {
   "cell_type": "markdown",
   "metadata": {},
   "source": [
    "And as a final step, try to see if there are any projects in the republics variable and yugoslavia variable that could be the same project.\n",
    "\n",
    "There are multiple ways to do that. As a suggestion, find unique dates in the republics variable. Then separately find unique dates in the yugoslavia variable. Concatenate (ie append) the results together. And then count the number of times each date occurs in this list. If a date occurs twice, that means the same boardapprovaldate appeared in both the Yugoslavia data as well as in the republics data.\n",
    "\n",
    "You'll should find that there are three suspicious cases:\n",
    "\n",
    "* July 26th, 1983\n",
    "* March 31st, 1987\n",
    "* October 13th, 1987\n",
    "* May 23rd, 1989"
   ]
  },
  {
   "cell_type": "code",
   "execution_count": null,
   "metadata": {},
   "outputs": [],
   "source": [
    "import numpy as np\n",
    "\n",
    "# TODO: find the unique dates in the republics variable\n",
    "republic_unique_dates = republics['boardapprovaldate'].unique()\n",
    "\n",
    "# TODO: find the unique dates in the yugoslavia variable\n",
    "yugoslavia_unique_dates = yugoslavia['boardapprovaldate'].unique()\n",
    "\n",
    "# TODO: make a list of the results appending one list to the other\n",
    "dates = np.append(republic_unique_dates, yugoslavia_unique_dates)\n",
    "\n",
    "# TODO: print out the dates that appeared twice in the results\n",
    "unique_dates, count = np.unique(dates, return_counts=True)\n",
    "\n",
    "for i in range(len(unique_dates)):\n",
    "    if count[i] == 2:\n",
    "        print(unique_dates[i])"
   ]
  },
  {
   "cell_type": "markdown",
   "metadata": {},
   "source": [
    "# Conclusion\n",
    "\n",
    "On July 26th, 1983, for example, projects were approved for Bosnia and Herzegovina, Croatia, Macedonia, Slovenia, and Yugoslavia. The code below shows the projects for that date. You'll notice that Yugoslavia had two projects, one of which was called \"Power Transmission Project (03) Energy Managem...\". The projects in the other countries were all called \"POWER TRANS.III\". \n",
    "\n",
    "This looks like a case of duplicate data. What you end up doing with this knowledge would depend on the context. For example, if you wanted to get a true count for the total number of projects in the data set, should all of these projects be counted as one project? \n",
    "\n",
    "Run the code cell below to see the projects in question."
   ]
  },
  {
   "cell_type": "code",
   "execution_count": null,
   "metadata": {},
   "outputs": [],
   "source": [
    "import datetime\n",
    "\n",
    "# run this code cell to see the duplicate data\n",
    "pd.concat([yugoslavia[yugoslavia['boardapprovaldate'] == datetime.date(1983, 7, 26)], republics[republics['boardapprovaldate'] == datetime.date(1983, 7, 26)]])"
   ]
  },
  {
   "cell_type": "code",
   "execution_count": null,
   "metadata": {},
   "outputs": [],
   "source": []
  }
 ],
 "metadata": {
  "kernelspec": {
   "display_name": "Python 3",
   "language": "python",
   "name": "python3"
  },
  "language_info": {
   "codemirror_mode": {
    "name": "ipython",
    "version": 3
   },
   "file_extension": ".py",
   "mimetype": "text/x-python",
   "name": "python",
   "nbconvert_exporter": "python",
   "pygments_lexer": "ipython3",
   "version": "3.6.3"
  }
 },
 "nbformat": 4,
 "nbformat_minor": 2
}
