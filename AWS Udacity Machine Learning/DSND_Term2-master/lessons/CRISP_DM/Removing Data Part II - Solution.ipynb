{
 "cells": [
  {
   "cell_type": "markdown",
   "metadata": {},
   "source": [
    "#### Removing Data Part II\n",
    "\n",
    "So, you now have seen how we can fit a model by dropping rows with missing values.  This is great in that sklearn doesn't break! However, this means future observations will not obtain a prediction if they have missing values in any of the columns.\n",
    "\n",
    "In this notebook, you will answer a few questions about what happened in the last screencast, and take a few additional steps."
   ]
  },
  {
   "cell_type": "code",
   "execution_count": null,
   "metadata": {},
   "outputs": [],
   "source": [
    "import numpy as np\n",
    "import pandas as pd\n",
    "import matplotlib.pyplot as plt\n",
    "from sklearn.linear_model import LinearRegression\n",
    "from sklearn.model_selection import train_test_split\n",
    "from sklearn.metrics import r2_score, mean_squared_error\n",
    "import seaborn as sns\n",
    "import RemovingData as t\n",
    "%matplotlib inline\n",
    "\n",
    "df = pd.read_csv('./survey_results_public.csv')\n",
    "\n",
    "#Subset to only quantitative vars\n",
    "num_vars = df[['Salary', 'CareerSatisfaction', 'HoursPerWeek', 'JobSatisfaction', 'StackOverflowSatisfaction']]\n",
    "\n",
    "\n",
    "num_vars.head()"
   ]
  },
  {
   "cell_type": "markdown",
   "metadata": {},
   "source": [
    "#### Question 1\n",
    "\n",
    "**1.** What proportion of individuals in the dataset reported a salary?"
   ]
  },
  {
   "cell_type": "code",
   "execution_count": null,
   "metadata": {},
   "outputs": [],
   "source": [
    "prop_sals = 1 - df.isnull()['Salary'].mean()# Proportion of individuals in the dataset with salary reported\n",
    "\n",
    "prop_sals"
   ]
  },
  {
   "cell_type": "code",
   "execution_count": null,
   "metadata": {},
   "outputs": [],
   "source": [
    "t.prop_sals_test(prop_sals) #test"
   ]
  },
  {
   "cell_type": "markdown",
   "metadata": {},
   "source": [
    "#### Question 2\n",
    "\n",
    "**2.** Remove the rows associated with nan values in Salary (only Salary) from the dataframe **num_vars**.  Store the dataframe with these rows removed in **sal_rem**."
   ]
  },
  {
   "cell_type": "code",
   "execution_count": null,
   "metadata": {},
   "outputs": [],
   "source": [
    "sal_rm = num_vars.dropna(subset=['Salary'], axis=0)# dataframe with rows for nan Salaries removed\n",
    "\n",
    "sal_rm.head()"
   ]
  },
  {
   "cell_type": "code",
   "execution_count": null,
   "metadata": {},
   "outputs": [],
   "source": [
    "t.sal_rm_test(sal_rm) #test"
   ]
  },
  {
   "cell_type": "markdown",
   "metadata": {},
   "source": [
    "#### Question 3\n",
    "\n",
    "**3.** Using **sal_rm**, create **X** be a dataframe (matrix) of all of the numeric feature variables.  Then, let **y** be the response vector you would like to predict (Salary).  Run the cell below once you have split the data, and use the result of the code to assign the correct letter to **question3_solution**."
   ]
  },
  {
   "cell_type": "code",
   "execution_count": null,
   "metadata": {},
   "outputs": [],
   "source": [
    "X = sal_rm[['CareerSatisfaction', 'HoursPerWeek', 'JobSatisfaction', 'StackOverflowSatisfaction']]\n",
    "y = sal_rm['Salary']\n",
    "\n",
    "# Split data into training and test data, and fit a linear model\n",
    "X_train, X_test, y_train, y_test = train_test_split(X, y , test_size=.30, random_state=42)\n",
    "lm_model = LinearRegression(normalize=True)\n",
    "\n",
    "# If our model works, it should just fit our model to the data. Otherwise, it will let us know.\n",
    "try:\n",
    "    lm_model.fit(X_train, y_train)\n",
    "except:\n",
    "    print(\"Oh no! It doesn't work!!!\")\n"
   ]
  },
  {
   "cell_type": "code",
   "execution_count": null,
   "metadata": {},
   "outputs": [],
   "source": [
    "a = 'Python just likes to break sometimes for no reason at all.' \n",
    "b = 'It worked, because Python is magic.'\n",
    "c = 'It broke because we still have missing values in X'\n",
    "\n",
    "question3_solution = c\n",
    "\n",
    "#test\n",
    "t.question3_check(question3_solution)"
   ]
  },
  {
   "cell_type": "markdown",
   "metadata": {},
   "source": [
    "#### Question 4\n",
    "\n",
    "**4.** Remove the rows associated with nan values in any column from **num_vars** (this was the removal process used in the screencast).  Store the dataframe with these rows removed in **all_rem**."
   ]
  },
  {
   "cell_type": "code",
   "execution_count": null,
   "metadata": {},
   "outputs": [],
   "source": [
    "all_rm = num_vars.dropna(axis=0) # dataframe with rows for nan Salaries removed\n",
    "\n",
    "all_rm.head()"
   ]
  },
  {
   "cell_type": "code",
   "execution_count": null,
   "metadata": {},
   "outputs": [],
   "source": [
    "t.all_rm_test(all_rm) #test"
   ]
  },
  {
   "cell_type": "markdown",
   "metadata": {},
   "source": [
    "#### Question 5\n",
    "\n",
    "**5.** Using **all_rm**, create **X_2** be a dataframe (matrix) of all of the numeric feature variables.  Then, let **y_2** be the response vector you would like to predict (Salary).  Run the cell below once you have split the data, and use the result of the code to assign the correct letter to **question5_solution**."
   ]
  },
  {
   "cell_type": "code",
   "execution_count": null,
   "metadata": {},
   "outputs": [],
   "source": [
    "X_2 = all_rm[['CareerSatisfaction', 'HoursPerWeek', 'JobSatisfaction', 'StackOverflowSatisfaction']]\n",
    "y_2 = all_rm['Salary']\n",
    "\n",
    "# Split data into training and test data, and fit a linear model\n",
    "X_2_train, X_2_test, y_2_train, y_2_test = train_test_split(X_2, y_2 , test_size=.30, random_state=42)\n",
    "lm_2_model = LinearRegression(normalize=True)\n",
    "\n",
    "# If our model works, it should just fit our model to the data. Otherwise, it will let us know.\n",
    "try:\n",
    "    lm_2_model.fit(X_2_train, y_2_train)\n",
    "except:\n",
    "    print(\"Oh no! It doesn't work!!!\")"
   ]
  },
  {
   "cell_type": "code",
   "execution_count": null,
   "metadata": {},
   "outputs": [],
   "source": [
    "a = 'Python just likes to break sometimes for no reason at all.' \n",
    "b = 'It worked, because Python is magic.'\n",
    "c = 'It broke because we still have missing values in X'\n",
    "\n",
    "question5_solution = b\n",
    "\n",
    "#test\n",
    "t.question5_check(question5_solution)"
   ]
  },
  {
   "cell_type": "markdown",
   "metadata": {},
   "source": [
    "#### Question 6\n",
    "\n",
    "**6.** Now, use **lm_2_model** to predict the **y_2_test** response values, and obtain an r-squared value for how well the predicted values compare to the actual test values.  "
   ]
  },
  {
   "cell_type": "code",
   "execution_count": null,
   "metadata": {},
   "outputs": [],
   "source": [
    "y_test_preds = lm_2_model.predict(X_2_test)# Predictions here\n",
    "r2_test = r2_score(y_2_test, y_test_preds) # Rsquared here\n",
    "\n",
    "# Print r2 to see result\n",
    "r2_test"
   ]
  },
  {
   "cell_type": "code",
   "execution_count": null,
   "metadata": {},
   "outputs": [],
   "source": [
    "t.r2_test_check(r2_test)"
   ]
  },
  {
   "cell_type": "markdown",
   "metadata": {},
   "source": [
    "#### Question 7\n",
    "\n",
    "**7.** Use what you have learned in this notebook (and as many cells as you need to find the answers) to complete the dictionary with the variables that link to the corresponding descriptions."
   ]
  },
  {
   "cell_type": "code",
   "execution_count": null,
   "metadata": {},
   "outputs": [],
   "source": [
    "a = 5009\n",
    "b = 'Other'\n",
    "c = 645\n",
    "d = 'We still want to predict their salary'\n",
    "e = 'We do not care to predict their salary'\n",
    "f = False\n",
    "g = True\n",
    "\n",
    "question7_solution = {'The number of reported salaries in the original dataset': a,\n",
    "                       'The number of test salaries predicted using our model': c,\n",
    "                       'If an individual does not rate stackoverflow, but has a salary': d,\n",
    "                       'If an individual does not have a a job satisfaction, but has a salary': d,\n",
    "                       'Our model predicts salaries for the two individuals described above.': f}\n",
    "                      \n",
    "                      \n",
    "#Check your answers against the solution - you should be told you were right if your answers are correct!                     \n",
    "t.question7_check(question7_solution)"
   ]
  },
  {
   "cell_type": "code",
   "execution_count": null,
   "metadata": {},
   "outputs": [],
   "source": [
    "print(\"The number of salaries in the original dataframe is \" + str(np.sum(df.Salary.notnull()))) \n",
    "print(\"The number of salaries predicted using our model is \" + str(len(y_test_preds)))\n",
    "print(\"This is bad because we only predicted \" + str((len(y_test_preds))/np.sum(df.Salary.notnull())) + \" of the salaries in the dataset.\")"
   ]
  },
  {
   "cell_type": "code",
   "execution_count": null,
   "metadata": {},
   "outputs": [],
   "source": []
  }
 ],
 "metadata": {
  "kernelspec": {
   "display_name": "Python 3",
   "language": "python",
   "name": "python3"
  },
  "language_info": {
   "codemirror_mode": {
    "name": "ipython",
    "version": 3
   },
   "file_extension": ".py",
   "mimetype": "text/x-python",
   "name": "python",
   "nbconvert_exporter": "python",
   "pygments_lexer": "ipython3",
   "version": "3.6.3"
  }
 },
 "nbformat": 4,
 "nbformat_minor": 2
}
