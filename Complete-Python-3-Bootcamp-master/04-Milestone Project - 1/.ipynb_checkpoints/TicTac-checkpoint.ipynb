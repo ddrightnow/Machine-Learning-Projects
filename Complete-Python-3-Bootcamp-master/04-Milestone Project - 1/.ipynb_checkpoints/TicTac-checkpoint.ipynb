{
 "cells": [
  {
   "cell_type": "code",
   "execution_count": 262,
   "metadata": {},
   "outputs": [],
   "source": [
    "def printboard():\n",
    "    \n",
    "    row1 = [\" \",\" | \",\" \", \" | \",\" \"]\n",
    "    row2 = [\"- \",\"- \",\"- \"]\n",
    "    row3 = [1,2,3]\n",
    "    row4 = [4,5,6]\n",
    "    row5 = [7,8,9]\n",
    "    \n",
    "    \n",
    "    print (row3)\n",
    "    print (row4)\n",
    "    print (row5)\n",
    "    "
   ]
  },
  {
   "cell_type": "code",
   "execution_count": 263,
   "metadata": {},
   "outputs": [
    {
     "name": "stdout",
     "output_type": "stream",
     "text": [
      "[1, 2, 3]\n",
      "[4, 5, 6]\n",
      "[7, 8, 9]\n"
     ]
    }
   ],
   "source": [
    "printboard()"
   ]
  },
  {
   "cell_type": "code",
   "execution_count": 14,
   "metadata": {},
   "outputs": [],
   "source": [
    "def user_input():\n",
    "    choice = False\n",
    "    correctrange = range(1,9)\n",
    "    user_choice = 0\n",
    "    \n",
    "    while choice is False and user_choice not in correctrange:\n",
    "        result = input(\"Please pick a board spot where you want to place a token (1-9):  \")\n",
    "        if result.isdigit() and result in correctrange:\n",
    "            choice = True\n",
    "            user_choice = int(input (result))\n",
    "        else:\n",
    "            print (\"Wrong input\")\n",
    "\n",
    "        "
   ]
  },
  {
   "cell_type": "code",
   "execution_count": 172,
   "metadata": {},
   "outputs": [],
   "source": [
    "def user_input():\n",
    "    correctrange = range(1,10)\n",
    "    result = input (\"Type here: \")\n",
    "    digit = False\n",
    "    \n",
    "    if result.isdigit():\n",
    "        result2 = int(result) \n",
    "    else:\n",
    "        pass    \n",
    "    \n",
    "    while result.isdigit() == False:\n",
    "        result2 = input ('Incorrect, type a number: ')\n",
    "        digit = True\n",
    "        break  \n",
    "  \n",
    "\n",
    "    while result2 not in correctrange:\n",
    "        result2 = input ('Incorrect, type a number from 1 to 9: ')\n",
    "        break\n",
    "    else:\n",
    "        print ('Correct')\n",
    "    \n",
    "    return int(result2)\n",
    "        "
   ]
  },
  {
   "cell_type": "code",
   "execution_count": 255,
   "metadata": {},
   "outputs": [
    {
     "name": "stdout",
     "output_type": "stream",
     "text": [
      "Type here: 7\n",
      "Correct\n"
     ]
    },
    {
     "data": {
      "text/plain": [
       "7"
      ]
     },
     "execution_count": 255,
     "metadata": {},
     "output_type": "execute_result"
    }
   ],
   "source": [
    "user_input()"
   ]
  },
  {
   "cell_type": "code",
   "execution_count": 269,
   "metadata": {},
   "outputs": [],
   "source": [
    "def chooseXO():\n",
    "    player1choice = \"\"\n",
    "    player2choice = \"\"\n",
    "    listchoice = [\"X\",\"O\"]  \n",
    "    player1choice = input(\"Player 1, pick your marker: X or O: \").upper()    \n",
    "    \n",
    "    while player1choice not in listchoice:\n",
    "        print ('Wrong marker choice, please pick X or O')\n",
    "        player1choice = input(\"Player 1, pick your marker: X or O: \").upper() \n",
    "        #break\n",
    "    \n",
    "    if player1choice == \"X\":\n",
    "        player2choice = \"O\"\n",
    "        #print ('Player 1, your choice is X')\n",
    "        #print ('Player 2, you are O')\n",
    "    else:\n",
    "        player2choice = \"X\"\n",
    "       #print ('Player 1, your choice is O')\n",
    "        #print ('Player 2, you are X') \n",
    "    \n",
    "    return (player1choice, player2choice)\n",
    "    #print (player2choice)"
   ]
  },
  {
   "cell_type": "code",
   "execution_count": 270,
   "metadata": {},
   "outputs": [
    {
     "name": "stdout",
     "output_type": "stream",
     "text": [
      "Player 1, pick your marker: X or O: O\n"
     ]
    },
    {
     "data": {
      "text/plain": [
       "('O', 'X')"
      ]
     },
     "execution_count": 270,
     "metadata": {},
     "output_type": "execute_result"
    }
   ],
   "source": [
    "chooseXO()"
   ]
  },
  {
   "cell_type": "code",
   "execution_count": 290,
   "metadata": {},
   "outputs": [],
   "source": [
    "def placemarker(user_input,chooseXO,printboard):\n",
    "    \n",
    "    #printboard()\n",
    "    row3 = [1,2,3]\n",
    "    row4 = [4,5,6]\n",
    "    row5 = [7,8,9]\n",
    "    \n",
    "    #for n in row 3\n",
    "    if user_input == 1 or 2 or 3: # in [1,2,3]:\n",
    "        row3[user_input-1] = \"Test\"\n",
    "    elif user_input == 4 or 5 or 6: # in [4,5,6]:\n",
    "        row4[user_input-1] = \"Test2\"\n",
    "    elif user_input == 7 or 8 or 9: # in [7,8,9]:\n",
    "        row5[user_input-1] = \"Test3\"\n",
    "    else:\n",
    "        pass\n",
    "        \n",
    "        \n",
    "        \n",
    "    print (row3)\n",
    "    print (row4)\n",
    "    print (row5)\n",
    "    "
   ]
  },
  {
   "cell_type": "code",
   "execution_count": 291,
   "metadata": {},
   "outputs": [
    {
     "ename": "IndexError",
     "evalue": "list assignment index out of range",
     "output_type": "error",
     "traceback": [
      "\u001b[1;31m---------------------------------------------------------------------------\u001b[0m",
      "\u001b[1;31mIndexError\u001b[0m                                Traceback (most recent call last)",
      "\u001b[1;32m<ipython-input-291-b55925530e59>\u001b[0m in \u001b[0;36m<module>\u001b[1;34m\u001b[0m\n\u001b[1;32m----> 1\u001b[1;33m \u001b[0mplacemarker\u001b[0m\u001b[1;33m(\u001b[0m\u001b[1;36m9\u001b[0m\u001b[1;33m,\u001b[0m\u001b[1;36m0\u001b[0m\u001b[1;33m,\u001b[0m\u001b[1;36m0\u001b[0m\u001b[1;33m)\u001b[0m\u001b[1;33m\u001b[0m\u001b[1;33m\u001b[0m\u001b[0m\n\u001b[0m",
      "\u001b[1;32m<ipython-input-290-ae41f67089a2>\u001b[0m in \u001b[0;36mplacemarker\u001b[1;34m(user_input, chooseXO, printboard)\u001b[0m\n\u001b[0;32m      8\u001b[0m     \u001b[1;31m#for n in row 3\u001b[0m\u001b[1;33m\u001b[0m\u001b[1;33m\u001b[0m\u001b[1;33m\u001b[0m\u001b[0m\n\u001b[0;32m      9\u001b[0m     \u001b[1;32mif\u001b[0m \u001b[0muser_input\u001b[0m \u001b[1;33m==\u001b[0m \u001b[1;36m1\u001b[0m \u001b[1;32mor\u001b[0m \u001b[1;36m2\u001b[0m \u001b[1;32mor\u001b[0m \u001b[1;36m3\u001b[0m\u001b[1;33m:\u001b[0m \u001b[1;31m# in [1,2,3]:\u001b[0m\u001b[1;33m\u001b[0m\u001b[1;33m\u001b[0m\u001b[0m\n\u001b[1;32m---> 10\u001b[1;33m         \u001b[0mrow3\u001b[0m\u001b[1;33m[\u001b[0m\u001b[0muser_input\u001b[0m\u001b[1;33m-\u001b[0m\u001b[1;36m1\u001b[0m\u001b[1;33m]\u001b[0m \u001b[1;33m=\u001b[0m \u001b[1;34m\"Test\"\u001b[0m\u001b[1;33m\u001b[0m\u001b[1;33m\u001b[0m\u001b[0m\n\u001b[0m\u001b[0;32m     11\u001b[0m     \u001b[1;32melif\u001b[0m \u001b[0muser_input\u001b[0m \u001b[1;33m==\u001b[0m \u001b[1;36m4\u001b[0m \u001b[1;32mor\u001b[0m \u001b[1;36m5\u001b[0m \u001b[1;32mor\u001b[0m \u001b[1;36m6\u001b[0m\u001b[1;33m:\u001b[0m \u001b[1;31m# in [4,5,6]:\u001b[0m\u001b[1;33m\u001b[0m\u001b[1;33m\u001b[0m\u001b[0m\n\u001b[0;32m     12\u001b[0m         \u001b[0mrow4\u001b[0m\u001b[1;33m[\u001b[0m\u001b[0muser_input\u001b[0m\u001b[1;33m-\u001b[0m\u001b[1;36m1\u001b[0m\u001b[1;33m]\u001b[0m \u001b[1;33m=\u001b[0m \u001b[1;34m\"Test2\"\u001b[0m\u001b[1;33m\u001b[0m\u001b[1;33m\u001b[0m\u001b[0m\n",
      "\u001b[1;31mIndexError\u001b[0m: list assignment index out of range"
     ]
    }
   ],
   "source": [
    "placemarker(9,0,0)"
   ]
  },
  {
   "cell_type": "code",
   "execution_count": null,
   "metadata": {},
   "outputs": [],
   "source": [
    "def XO(user_input):\n",
    "    replace user_input with "
   ]
  }
 ],
 "metadata": {
  "kernelspec": {
   "display_name": "Python 3",
   "language": "python",
   "name": "python3"
  },
  "language_info": {
   "codemirror_mode": {
    "name": "ipython",
    "version": 3
   },
   "file_extension": ".py",
   "mimetype": "text/x-python",
   "name": "python",
   "nbconvert_exporter": "python",
   "pygments_lexer": "ipython3",
   "version": "3.8.5"
  }
 },
 "nbformat": 4,
 "nbformat_minor": 4
}
