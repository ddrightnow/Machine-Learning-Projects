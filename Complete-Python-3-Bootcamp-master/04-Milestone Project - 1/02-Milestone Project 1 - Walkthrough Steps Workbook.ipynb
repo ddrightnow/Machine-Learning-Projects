{
 "cells": [
  {
   "cell_type": "markdown",
   "metadata": {},
   "source": [
    "___\n",
    "\n",
    "<a href='https://www.udemy.com/user/joseportilla/'><img src='../Pierian_Data_Logo.png'/></a>\n",
    "___\n",
    "<center><em>Content Copyright by Pierian Data</em></center>"
   ]
  },
  {
   "cell_type": "markdown",
   "metadata": {},
   "source": [
    "# Milestone Project 1: Walkthrough Steps Workbook\n",
    "\n",
    "Below is a set of steps for you to follow to try to create the Tic Tac Toe Milestone Project game!"
   ]
  },
  {
   "cell_type": "markdown",
   "metadata": {},
   "source": [
    "#### Some suggested tools before you get started:\n",
    "To take input from a user:\n",
    "\n",
    "    player1 = input(\"Please pick a marker 'X' or 'O'\")\n",
    "    \n",
    "Note that input() takes in a string. If you need an integer value, use\n",
    "\n",
    "    position = int(input('Please enter a number'))\n",
    "    \n",
    "<br>To clear the screen between moves:\n",
    "\n",
    "    from IPython.display import clear_output\n",
    "    clear_output()\n",
    "    \n",
    "Note that clear_output() will only work in jupyter. To clear the screen in other IDEs, consider:\n",
    "\n",
    "    print('\\n'*100)\n",
    "    \n",
    "This scrolls the previous board up out of view. Now on to the program!"
   ]
  },
  {
   "cell_type": "markdown",
   "metadata": {},
   "source": [
    "**Step 1: Write a function that can print out a board. Set up your board as a list, where each index 1-9 corresponds with a number on a number pad, so you get a 3 by 3 board representation.**"
   ]
  },
  {
   "cell_type": "code",
   "execution_count": 65,
   "metadata": {},
   "outputs": [],
   "source": [
    "from IPython.display import clear_output\n",
    "\n",
    "def display_board(board):\n",
    "    x=1\n",
    "    print([board[0],board[1],board[2]])\n",
    "    print([board[3],board[4],board[5]])\n",
    "    print([board[6],board[7],board[8]])\n",
    "    #pass\n",
    "    #print([board[x-1],board[x],board[x+1]])\n",
    "    #print([board[x+2],board[x+3],board[x+4]])\n",
    "    #print([board[x+5],board[x+6],board[x+7]])\n",
    "    #pass"
   ]
  },
  {
   "cell_type": "markdown",
   "metadata": {},
   "source": [
    "**TEST Step 1:** run your function on a test version of the board list, and make adjustments as necessary"
   ]
  },
  {
   "cell_type": "code",
   "execution_count": 66,
   "metadata": {},
   "outputs": [
    {
     "name": "stdout",
     "output_type": "stream",
     "text": [
      "['#', 'X', 'O']\n",
      "['X', 'O', 'X']\n",
      "['O', 'X', 'O']\n"
     ]
    }
   ],
   "source": [
    "test_board = ['#','X','O','X','O','X','O','X','O','X']\n",
    "display_board(test_board)"
   ]
  },
  {
   "cell_type": "code",
   "execution_count": 67,
   "metadata": {},
   "outputs": [
    {
     "data": {
      "text/plain": [
       "'X'"
      ]
     },
     "execution_count": 67,
     "metadata": {},
     "output_type": "execute_result"
    }
   ],
   "source": [
    "test_board[1]"
   ]
  },
  {
   "cell_type": "markdown",
   "metadata": {},
   "source": [
    "**Step 2: Write a function that can take in a player input and assign their marker as 'X' or 'O'. Think about using *while* loops to continually ask until you get a correct answer.**"
   ]
  },
  {
   "cell_type": "code",
   "execution_count": 231,
   "metadata": {},
   "outputs": [],
   "source": [
    "def player_input():\n",
    "    correctresp = False\n",
    "    playerinput = None\n",
    "    while correctresp == False and playerinput not in ['X','O','x','o']:\n",
    "        playerinput = input()\n",
    "        if playerinput in ['X','O','x','o']:\n",
    "            pass\n",
    "        else:\n",
    "            print('You have not yet entered valid marker')\n",
    "    else:\n",
    "        correctresp == True\n",
    "        playerinput = playerinput.upper()\n",
    "    #return f'You have chosen marker {playerinput}.'\n",
    "    return playerinput"
   ]
  },
  {
   "cell_type": "markdown",
   "metadata": {},
   "source": [
    "**TEST Step 2:** run the function to make sure it returns the desired output"
   ]
  },
  {
   "cell_type": "code",
   "execution_count": 232,
   "metadata": {},
   "outputs": [
    {
     "name": "stdout",
     "output_type": "stream",
     "text": [
      "E\n",
      "You have not yet entered valid marker\n",
      "X\n"
     ]
    },
    {
     "data": {
      "text/plain": [
       "'X'"
      ]
     },
     "execution_count": 232,
     "metadata": {},
     "output_type": "execute_result"
    }
   ],
   "source": [
    "player_input()"
   ]
  },
  {
   "cell_type": "markdown",
   "metadata": {},
   "source": [
    "**Step 3: Write a function that takes in the board list object, a marker ('X' or 'O'), and a desired position (number 1-9) and assigns it to the board.**"
   ]
  },
  {
   "cell_type": "code",
   "execution_count": 68,
   "metadata": {},
   "outputs": [],
   "source": [
    "def place_marker(board, marker, position):\n",
    "    board[position-1] = marker\n",
    "    #pass"
   ]
  },
  {
   "cell_type": "markdown",
   "metadata": {},
   "source": [
    "**TEST Step 3:** run the place marker function using test parameters and display the modified board"
   ]
  },
  {
   "cell_type": "code",
   "execution_count": 294,
   "metadata": {},
   "outputs": [
    {
     "name": "stdout",
     "output_type": "stream",
     "text": [
      "[' ', '$', '$']\n",
      "[' ', '$', ' ']\n",
      "[' ', '$', '$']\n"
     ]
    }
   ],
   "source": [
    "place_marker(test_board,'$',5)\n",
    "display_board(test_board)"
   ]
  },
  {
   "cell_type": "markdown",
   "metadata": {},
   "source": [
    "**Step 4: Write a function that takes in a board and a mark (X or O) and then checks to see if that mark has won. **"
   ]
  },
  {
   "cell_type": "code",
   "execution_count": 296,
   "metadata": {},
   "outputs": [],
   "source": [
    "def win_check(board, mark):\n",
    "    if board[0]==mark and board[1] == mark and board[2]==mark:\n",
    "        winmark = True\n",
    "    elif board[3]==mark and board[4] == mark and board[5]==mark:\n",
    "        winmark = True\n",
    "    elif board[6]==mark and board[7] == mark and board[8]==mark:\n",
    "        winmark = True\n",
    "    elif board[0]==mark and board[3] == mark and board[6]==mark:\n",
    "        winmark = True\n",
    "    elif board[1]==mark and board[4] == mark and board[7]==mark:\n",
    "        winmark = True\n",
    "    elif board[2]==mark and board[5] == mark and board[8]==mark:\n",
    "        winmark = True\n",
    "    elif board[0]==mark and board[4] == mark and board[8]==mark:\n",
    "        winmark = True\n",
    "    elif board[2]==mark and board[4] == mark and board[6]==mark:\n",
    "        winmark = True\n",
    "    else:\n",
    "        winmark = False\n",
    "    \n",
    "    if winmark == True:\n",
    "        return 'Win'\n",
    "    else:\n",
    "        return 'No Win'\n",
    "    #pass"
   ]
  },
  {
   "cell_type": "markdown",
   "metadata": {},
   "source": [
    "**TEST Step 4:** run the win_check function against our test_board - it should return True"
   ]
  },
  {
   "cell_type": "code",
   "execution_count": 295,
   "metadata": {},
   "outputs": [
    {
     "data": {
      "text/plain": [
       "'Win'"
      ]
     },
     "execution_count": 295,
     "metadata": {},
     "output_type": "execute_result"
    }
   ],
   "source": [
    "win_check(test_board,'$')"
   ]
  },
  {
   "cell_type": "markdown",
   "metadata": {},
   "source": [
    "**Step 5: Write a function that uses the random module to randomly decide which player goes first. You may want to lookup random.randint() Return a string of which player went first.**"
   ]
  },
  {
   "cell_type": "code",
   "execution_count": 245,
   "metadata": {},
   "outputs": [],
   "source": [
    "import random\n",
    "\n",
    "def choose_first():\n",
    "    #print (f'Player {random.randint(1,2)} goes first.')\n",
    "    return random.randint(1,2)"
   ]
  },
  {
   "cell_type": "code",
   "execution_count": 246,
   "metadata": {},
   "outputs": [
    {
     "data": {
      "text/plain": [
       "2"
      ]
     },
     "execution_count": 246,
     "metadata": {},
     "output_type": "execute_result"
    }
   ],
   "source": [
    "choose_first()"
   ]
  },
  {
   "cell_type": "markdown",
   "metadata": {},
   "source": [
    "**Step 6: Write a function that returns a boolean indicating whether a space on the board is freely available.**"
   ]
  },
  {
   "cell_type": "code",
   "execution_count": 157,
   "metadata": {},
   "outputs": [],
   "source": [
    "def space_check(board, position):\n",
    "    if board[position-1] == ' ':\n",
    "        return True\n",
    "    else:\n",
    "        return False\n",
    "    \n",
    "    \n",
    "    #spaceonboard = True\n",
    "    #if sum(list(map(lambda x: x==' ',board)))==0:\n",
    "    #    spaceonboard = False\n",
    "    #else:\n",
    "    #    pass\n",
    "    #return spaceonboard"
   ]
  },
  {
   "cell_type": "code",
   "execution_count": 137,
   "metadata": {},
   "outputs": [
    {
     "data": {
      "text/plain": [
       "0"
      ]
     },
     "execution_count": 137,
     "metadata": {},
     "output_type": "execute_result"
    }
   ],
   "source": [
    "s  = [12,3,4] \n",
    "sum(list(map(lambda x: x==' ',s)))"
   ]
  },
  {
   "cell_type": "code",
   "execution_count": 196,
   "metadata": {},
   "outputs": [
    {
     "data": {
      "text/plain": [
       "True"
      ]
     },
     "execution_count": 196,
     "metadata": {},
     "output_type": "execute_result"
    }
   ],
   "source": [
    "space_check(test_board,4)"
   ]
  },
  {
   "cell_type": "code",
   "execution_count": 159,
   "metadata": {},
   "outputs": [
    {
     "data": {
      "text/plain": [
       "False"
      ]
     },
     "execution_count": 159,
     "metadata": {},
     "output_type": "execute_result"
    }
   ],
   "source": [
    "full_board_check(test_board)"
   ]
  },
  {
   "cell_type": "markdown",
   "metadata": {},
   "source": [
    "**Step 7: Write a function that checks if the board is full and returns a boolean value. True if full, False otherwise.**"
   ]
  },
  {
   "cell_type": "code",
   "execution_count": 147,
   "metadata": {},
   "outputs": [],
   "source": [
    "def full_board_check(board):\n",
    "    spaceonboard = False\n",
    "    if sum(list(map(lambda x: x==' ',board)))==0:\n",
    "        spaceonboard = True\n",
    "    else:\n",
    "        pass\n",
    "    return spaceonboard"
   ]
  },
  {
   "cell_type": "markdown",
   "metadata": {},
   "source": [
    "**Step 8: Write a function that asks for a player's next position (as a number 1-9) and then uses the function from step 6 to check if it's a free position. If it is, then return the position for later use.**"
   ]
  },
  {
   "cell_type": "code",
   "execution_count": 197,
   "metadata": {},
   "outputs": [],
   "source": [
    "def player_choice(board):\n",
    "    correctresp = False\n",
    "    playerinput = None\n",
    "    while correctresp == False and playerinput not in range(0,10):\n",
    "        playerinput = input()\n",
    "        if playerinput.isalpha() == True:\n",
    "            print('You have entered text, please enter a number')\n",
    "        else:            \n",
    "            playerinput = int(playerinput)\n",
    "            if playerinput in range(0,10):\n",
    "                pass\n",
    "            else:\n",
    "                print('You have not yet entered valid number')\n",
    "    else:\n",
    "        correctresp == True\n",
    "    #print (f'You have chosen number {playerinput}.')\n",
    "    position = playerinput\n",
    "    \n",
    "    if space_check(board,position) == True:\n",
    "        #print(position)\n",
    "        #print('good')\n",
    "        return position\n",
    "    else:\n",
    "        print('Position not free on board')"
   ]
  },
  {
   "cell_type": "code",
   "execution_count": 199,
   "metadata": {},
   "outputs": [
    {
     "name": "stdout",
     "output_type": "stream",
     "text": [
      "4\n",
      "good\n"
     ]
    },
    {
     "data": {
      "text/plain": [
       "4"
      ]
     },
     "execution_count": 199,
     "metadata": {},
     "output_type": "execute_result"
    }
   ],
   "source": [
    "player_choice(test_board)"
   ]
  },
  {
   "cell_type": "markdown",
   "metadata": {},
   "source": [
    "**Step 9: Write a function that asks the player if they want to play again and returns a boolean True if they do want to play again.**"
   ]
  },
  {
   "cell_type": "code",
   "execution_count": 204,
   "metadata": {},
   "outputs": [],
   "source": [
    "def replay():\n",
    "    goodentry = False\n",
    "    while goodentry ==False:\n",
    "        print('Do you want to play again (Y/N): ')\n",
    "        ask = input().upper()\n",
    "        if ask in ['Y','N']:\n",
    "            goodentry == True\n",
    "            if ask == 'Y':\n",
    "                return True\n",
    "            else:\n",
    "                return False\n",
    "        else:\n",
    "            print('Incorrect entry')"
   ]
  },
  {
   "cell_type": "code",
   "execution_count": 208,
   "metadata": {},
   "outputs": [
    {
     "name": "stdout",
     "output_type": "stream",
     "text": [
      "Do you want to play again (Y/N): \n",
      "n\n"
     ]
    },
    {
     "data": {
      "text/plain": [
       "False"
      ]
     },
     "execution_count": 208,
     "metadata": {},
     "output_type": "execute_result"
    }
   ],
   "source": [
    "replay()"
   ]
  },
  {
   "cell_type": "markdown",
   "metadata": {
    "collapsed": true
   },
   "source": [
    "**Step 10: Here comes the hard part! Use while loops and the functions you've made to run the game!**"
   ]
  },
  {
   "cell_type": "code",
   "execution_count": null,
   "metadata": {},
   "outputs": [],
   "source": [
    "'''print('Welcome to Tic Tac Toe!')\n",
    "\n",
    "board = [' ']*9\n",
    "display_board(board)\n",
    "player = choose_first()\n",
    "\n",
    "#logic to switch players\n",
    "def switchplayer():\n",
    "    global player\n",
    "    if player == 1:\n",
    "        player = 2\n",
    "    else:\n",
    "        player = 1\n",
    "\n",
    "#Player 1 picks a marker\n",
    "print(f'Pick Marker player {player}')\n",
    "marker1 = player_input() \n",
    "\n",
    "#logic to switch markers\n",
    "def switchmarkers()\n",
    "if marker1 == 'X':\n",
    "    marker2 = 'O'\n",
    "else:\n",
    "    marker2 = 'X'\n",
    "        \n",
    "gameover = False\n",
    "\n",
    "while gameover == False:\n",
    "    #while True:\n",
    "    ######full_board_check(test_board)\n",
    "\n",
    "        # Set the game up here\n",
    "        #pass\n",
    "    \n",
    "     \n",
    "\n",
    "    #while game_on:\n",
    "    #Player 1 Turn\n",
    "    #print(f'Pick Marker player {player}')\n",
    "    #marker = player_input() \n",
    "\n",
    "    print('Pick Position you want to play to')\n",
    "    position = player_choice(board)\n",
    "\n",
    "    space_check(board, position)\n",
    "    place_marker(board, marker, position)\n",
    "    display_board(board)\n",
    "\n",
    "    if win_check(board,marker) == 'Win':\n",
    "        gameover = True\n",
    "        break\n",
    "    else:\n",
    "        pass\n",
    "    \n",
    "    #Switch player numbers\n",
    "    \n",
    "    switchplayer()\n",
    "    \n",
    "    #print(\"\\n\\n Other player's turn......\")\n",
    "    print(f'Pick Marker player {player}')\n",
    "    print('Pick Marker')\n",
    "    marker = player_input() \n",
    "\n",
    "    \n",
    "    position = player_choice(board)\n",
    "\n",
    "    space_check(board, position)\n",
    "    place_marker(board, marker, position)\n",
    "    display_board(board)\n",
    "\n",
    "    if win_check(board,marker) == 'Win':\n",
    "        gameover = True\n",
    "        break\n",
    "    else:\n",
    "        pass\n",
    "    \n",
    "    switchplayer()\n",
    "        #win_check(board,marker)\n",
    "            # Player2's turn.\n",
    "\n",
    "                #pass\n",
    "\n",
    "        #if not replay():\n",
    "           # #break'''"
   ]
  },
  {
   "cell_type": "code",
   "execution_count": 210,
   "metadata": {},
   "outputs": [
    {
     "data": {
      "text/plain": [
       "[' ', ' ', ' ', ' ', ' ', ' ', ' ', ' ', ' ']"
      ]
     },
     "execution_count": 210,
     "metadata": {},
     "output_type": "execute_result"
    }
   ],
   "source": [
    "[' ']*9"
   ]
  },
  {
   "cell_type": "code",
   "execution_count": 244,
   "metadata": {},
   "outputs": [
    {
     "name": "stdout",
     "output_type": "stream",
     "text": [
      "Player 2 goes first.\n"
     ]
    }
   ],
   "source": [
    "choose_first()"
   ]
  },
  {
   "cell_type": "code",
   "execution_count": 307,
   "metadata": {},
   "outputs": [
    {
     "name": "stdout",
     "output_type": "stream",
     "text": [
      "[' ', ' ', ' ']\n",
      "[' ', ' ', ' ']\n",
      "[' ', ' ', ' ']\n",
      "Pick Position you want to play, player 1\n",
      "3\n",
      "[' ', ' ', 'X']\n",
      "[' ', ' ', ' ']\n",
      "[' ', ' ', ' ']\n",
      "End of game\n"
     ]
    }
   ],
   "source": [
    "'''\n",
    "\n",
    "Tic Tac Tow game\n",
    "Stopped adding further complexities, as this is a test script.\n",
    "Some slight bugs, but it is fine.\n",
    "I can fix them, but a full working game is not the purpose of this exercise\n",
    "\n",
    "Signing out!\n",
    "\n",
    "\n",
    "'''\n",
    "\n",
    "print('Welcome to Tic Tac Toe!')\n",
    "\n",
    "board = [' ']*9\n",
    "display_board(board)\n",
    "player = choose_first()\n",
    "marker = 99\n",
    "\n",
    "#logic to switch players\n",
    "def switchplayer():\n",
    "    global player\n",
    "    if player == 1:\n",
    "        player = 2\n",
    "    else:\n",
    "        player = 1\n",
    "\n",
    "        \n",
    "#Player 1 picks a marker\n",
    "print(f'Pick Marker player {player}')\n",
    "marker = player_input() \n",
    "\n",
    "\n",
    "#logic to switch markers\n",
    "def switchmarkers():\n",
    "    global marker\n",
    "    if marker == 'X':\n",
    "        marker = 'O'\n",
    "    else:\n",
    "        marker = 'X'\n",
    "        \n",
    "gameover = False\n",
    "#playgame()\n",
    "#def playgame():\n",
    "\n",
    "while gameover == False:\n",
    "    print(f'Pick Position you want to play to, player {player}')\n",
    "    position = player_choice(board)\n",
    "\n",
    "    space_check(board, position)\n",
    "    place_marker(board, marker, position)\n",
    "    display_board(board)\n",
    "\n",
    "    if win_check(board,marker) == 'Win':\n",
    "        gameover = True\n",
    "        print(f'Player {player} Wins')\n",
    "        if replay() == True:\n",
    "            clear_output(wait=False)\n",
    "            board = [' ']*9\n",
    "            display_board(board)\n",
    "            player = choose_first()\n",
    "        else:\n",
    "            break\n",
    "    else:\n",
    "        pass\n",
    "\n",
    "\n",
    "    switchplayer()\n",
    "    switchmarkers()\n",
    "\n",
    "    #print ('a')\n",
    "    print(f'Pick Position you want to play, player {player}')\n",
    "    position = player_choice(board)\n",
    "\n",
    "    #print('b')\n",
    "    space_check(board, position)\n",
    "    place_marker(board, marker, position)\n",
    "    display_board(board)\n",
    "\n",
    "    if win_check(board,marker) == 'Win':\n",
    "        gameover = True\n",
    "        print(f'Player {player} Wins')\n",
    "        if replay() == True:\n",
    "            clear_output(wait=False)\n",
    "            board = [' ']*9\n",
    "            display_board(board)\n",
    "            player = choose_first()\n",
    "        else:\n",
    "            break\n",
    "    else:\n",
    "        pass\n",
    "\n",
    "    switchplayer()\n",
    "    switchmarkers()\n",
    "\n",
    "\n",
    "print('End of game')\n",
    "\n",
    "\n"
   ]
  },
  {
   "cell_type": "markdown",
   "metadata": {
    "collapsed": true
   },
   "source": [
    "## Good Job!"
   ]
  }
 ],
 "metadata": {
  "kernelspec": {
   "display_name": "Python 3",
   "language": "python",
   "name": "python3"
  },
  "language_info": {
   "codemirror_mode": {
    "name": "ipython",
    "version": 3
   },
   "file_extension": ".py",
   "mimetype": "text/x-python",
   "name": "python",
   "nbconvert_exporter": "python",
   "pygments_lexer": "ipython3",
   "version": "3.8.5"
  }
 },
 "nbformat": 4,
 "nbformat_minor": 1
}
