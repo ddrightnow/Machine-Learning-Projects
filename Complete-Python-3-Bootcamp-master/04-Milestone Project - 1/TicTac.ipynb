{
 "cells": [
  {
   "cell_type": "code",
   "execution_count": 8,
   "metadata": {},
   "outputs": [],
   "source": [
    "def printboard():\n",
    "    \n",
    "    row1 = [\" \",\" | \",\" \", \" | \",\" \"]\n",
    "    row2 = [\"- \",\"- \",\"- \"]\n",
    "    row3 = [1,2,3]\n",
    "    row4 = [4,5,6]\n",
    "    row5 = [7,8,9]\n",
    "    \n",
    "    \n",
    "    print (row3)\n",
    "    print (row4)\n",
    "    print (row5)\n",
    "    "
   ]
  },
  {
   "cell_type": "code",
   "execution_count": 9,
   "metadata": {},
   "outputs": [
    {
     "name": "stdout",
     "output_type": "stream",
     "text": [
      "[1, 2, 3]\n",
      "[4, 5, 6]\n",
      "[7, 8, 9]\n"
     ]
    }
   ],
   "source": [
    "printboard()"
   ]
  },
  {
   "cell_type": "code",
   "execution_count": 14,
   "metadata": {},
   "outputs": [],
   "source": [
    "def user_input():\n",
    "    choice = False\n",
    "    correctrange = range(1,9)\n",
    "    user_choice = 0\n",
    "    \n",
    "    while choice is False and user_choice not in correctrange:\n",
    "        result = input(\"Please pick a board spot where you want to place a token (1-9):  \")\n",
    "        if result.isdigit() and result in correctrange:\n",
    "            choice = True\n",
    "            user_choice = int(input (result))\n",
    "        else:\n",
    "            print (\"Wrong input\")\n",
    "\n",
    "        "
   ]
  },
  {
   "cell_type": "code",
   "execution_count": 160,
   "metadata": {},
   "outputs": [],
   "source": [
    "def user_input():\n",
    "    correctrange = range(1,10)\n",
    "    result = input (\"Type here: \")\n",
    "    digit = False\n",
    "    \n",
    "    if result.isdigit():\n",
    "        result2 = int(result) \n",
    "    else:\n",
    "        pass\n",
    "\n",
    "    \n",
    "    \n",
    "    while result.isdigit() == False:\n",
    "        result2 = input ('Incorrect, type a number')\n",
    "        digit = True\n",
    "        break\n",
    "    \n",
    "    #result = input (\"Type here: \")\n",
    "\n",
    "    \n",
    "\n",
    "    while result2 not in correctrange:\n",
    "        result2 = input ('Incorrect, type a number from 1 to 9')\n",
    "        break\n",
    "    else:\n",
    "        print ('Correct')\n",
    "    \n",
    "    return int(result2)\n",
    "        "
   ]
  },
  {
   "cell_type": "code",
   "execution_count": null,
   "metadata": {},
   "outputs": [
    {
     "name": "stdout",
     "output_type": "stream",
     "text": [
      "Type here: ty\n",
      "Incorrect, type a numbergchfg\n"
     ]
    }
   ],
   "source": [
    "user_input()"
   ]
  },
  {
   "cell_type": "code",
   "execution_count": null,
   "metadata": {},
   "outputs": [],
   "source": []
  },
  {
   "cell_type": "code",
   "execution_count": null,
   "metadata": {},
   "outputs": [],
   "source": []
  },
  {
   "cell_type": "code",
   "execution_count": null,
   "metadata": {},
   "outputs": [],
   "source": []
  },
  {
   "cell_type": "code",
   "execution_count": null,
   "metadata": {},
   "outputs": [],
   "source": []
  }
 ],
 "metadata": {
  "kernelspec": {
   "display_name": "Python 3",
   "language": "python",
   "name": "python3"
  },
  "language_info": {
   "codemirror_mode": {
    "name": "ipython",
    "version": 3
   },
   "file_extension": ".py",
   "mimetype": "text/x-python",
   "name": "python",
   "nbconvert_exporter": "python",
   "pygments_lexer": "ipython3",
   "version": "3.8.5"
  }
 },
 "nbformat": 4,
 "nbformat_minor": 4
}
