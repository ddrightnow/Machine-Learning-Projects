{
 "cells": [
  {
   "cell_type": "code",
   "execution_count": 2,
   "metadata": {},
   "outputs": [],
   "source": [
    "def printboard():\n",
    "    \n",
    "    row1 = [\" \",\" | \",\" \", \" | \",\" \"]\n",
    "    row2 = [\"- \",\"- \",\"- \"]\n",
    "    row3 = [1,2,3]\n",
    "    row4 = [4,5,6]\n",
    "    row5 = [7,8,9]\n",
    "    \n",
    "    \n",
    "    print (row3)\n",
    "    print (row4)\n",
    "    print (row5)    "
   ]
  },
  {
   "cell_type": "code",
   "execution_count": 303,
   "metadata": {},
   "outputs": [],
   "source": [
    "def printboard2 (a):\n",
    "    row3 = [1,2,3]\n",
    "    row4 = [4,5,6]\n",
    "    row5 = [7,8,9]\n",
    "    \n",
    "    #for n in row 3\n",
    "    if a in row3: \n",
    "        row3[a-1] = \"a\"       \n",
    "    elif a in row4:\n",
    "        row4[a-4] = \"ab\"\n",
    "    elif a in row5:\n",
    "        row5[a-7] = \"abc\"\n",
    "    else:\n",
    "        pass\n",
    "\n",
    "    #print (printboard2)\n",
    "    print (row3)\n",
    "    print (row4)\n",
    "    print (row5) \n"
   ]
  },
  {
   "cell_type": "code",
   "execution_count": 304,
   "metadata": {},
   "outputs": [
    {
     "name": "stdout",
     "output_type": "stream",
     "text": [
      "[1, 2, 3]\n",
      "[4, 5, 6]\n",
      "[7, 'abc', 9]\n"
     ]
    }
   ],
   "source": [
    "printboard2(8)"
   ]
  },
  {
   "cell_type": "code",
   "execution_count": null,
   "metadata": {},
   "outputs": [],
   "source": [
    "'''\n",
    "\n",
    "def user_input():\n",
    "    correctrange = range(1,10)\n",
    "    result = input (\"Type here: \")\n",
    "    digit = False\n",
    "    \n",
    "    if result.isdigit():\n",
    "        result2 = int(result) \n",
    "    else:\n",
    "        pass    \n",
    "    \n",
    "    while result.isdigit() == False:\n",
    "        result2 = input ('Incorrect, type a number: ')\n",
    "        digit = True\n",
    "        break  \n",
    "  \n",
    "\n",
    "    while result2 not in correctrange:\n",
    "        result2 = input ('Incorrect, type a number from 1 to 9: ')\n",
    "        break\n",
    "    else:\n",
    "        print ('Correct')\n",
    "    \n",
    "    return int(result2)\n",
    "'''"
   ]
  },
  {
   "cell_type": "code",
   "execution_count": null,
   "metadata": {},
   "outputs": [],
   "source": []
  },
  {
   "cell_type": "code",
   "execution_count": 253,
   "metadata": {},
   "outputs": [],
   "source": [
    "#def user_input():\n",
    "#    choice = False\n",
    "#    correctrange = range(1,9)\n",
    " #   user_choice = 0\n",
    "#    \n",
    " #   while choice is False and user_choice not in correctrange:\n",
    " #       result = input(\"Please pick a board spot where you want to place a token (1-9):  \")\n",
    " #       if result.isdigit() and result in correctrange:\n",
    " #          choice = True\n",
    " #           user_choice = int(input (result))\n",
    " #       else:\n",
    " #           print (\"Wrong input\")\n",
    "\n",
    "def user_inputok():\n",
    "    choice = False\n",
    "    rangecheck = False\n",
    "    correctrange = range(1,10)\n",
    "    user_choice = 0\n",
    "    \n",
    "    while choice is False and rangecheck is False: \n",
    "        result = input(\"Please pick a board spot where you want to place a token (1-9):  \")\n",
    "        if result.isdigit() == True:\n",
    "            result = int(result)\n",
    "            if result in correctrange:\n",
    "                choice == True\n",
    "                rangecheck == True\n",
    "                return result\n",
    "            else:\n",
    "                print (\"Not in range\")\n",
    "        else:\n",
    "            print(\"Not a digit\")\n",
    "    \n",
    "        \n",
    "    #return result"
   ]
  },
  {
   "cell_type": "code",
   "execution_count": 250,
   "metadata": {},
   "outputs": [
    {
     "name": "stdout",
     "output_type": "stream",
     "text": [
      "Please pick a board spot where you want to place a token (1-9):  2\n"
     ]
    },
    {
     "data": {
      "text/plain": [
       "2"
      ]
     },
     "execution_count": 250,
     "metadata": {},
     "output_type": "execute_result"
    }
   ],
   "source": [
    "user_inputok()"
   ]
  },
  {
   "cell_type": "code",
   "execution_count": null,
   "metadata": {},
   "outputs": [],
   "source": [
    "def chooseXO():\n",
    "    player1choice = \"\"\n",
    "    player2choice = \"\"\n",
    "    listchoice = [\"X\",\"O\"]  \n",
    "    player1choice = input(\"Player 1, pick your marker: X or O: \").upper()    \n",
    "    \n",
    "    while player1choice not in listchoice:\n",
    "        print ('Wrong marker choice, please pick X or O')\n",
    "        player1choice = input(\"Player 1, pick your marker: X or O: \").upper() \n",
    "        #break\n",
    "    \n",
    "    if player1choice == \"X\":\n",
    "        player2choice = \"O\"\n",
    "        print ('Player 1, your choice is X')\n",
    "        print ('Player 2, you are O')\n",
    "    else:\n",
    "        player2choice = \"X\"\n",
    "        print ('Player 1, your choice is O')\n",
    "        print ('Player 2, you are X') \n",
    "        print(\"   \")\n",
    "        print(\"   \")\n",
    "\n",
    "    \n",
    "    return player1choice, player2choice\n",
    "    #return v\n",
    "    #print (player2choice)"
   ]
  },
  {
   "cell_type": "code",
   "execution_count": 217,
   "metadata": {},
   "outputs": [
    {
     "name": "stdout",
     "output_type": "stream",
     "text": [
      "Player 1, pick your marker: X or O: x\n",
      "Player 1, your choice is X\n",
      "Player 2, you are O\n"
     ]
    },
    {
     "data": {
      "text/plain": [
       "('X', 'O')"
      ]
     },
     "execution_count": 217,
     "metadata": {},
     "output_type": "execute_result"
    }
   ],
   "source": [
    "chooseXO()"
   ]
  },
  {
   "cell_type": "code",
   "execution_count": 305,
   "metadata": {},
   "outputs": [],
   "source": [
    "def printboard3 (user_inputok,chooseXO):\n",
    "    \n",
    "    printboard()\n",
    "    row3 = [1,2,3]\n",
    "    row4 = [4,5,6]\n",
    "    row5 = [7,8,9]\n",
    "    \n",
    "    #for n in row 3\n",
    "    if user_inputok in row3: \n",
    "        row3[user_inputok-1] = chooseXO       \n",
    "    elif user_inputok in row4:\n",
    "        row4[user_inputok-4] = chooseXO\n",
    "    elif user_inputok in row5:\n",
    "        row5[user_inputok-7] = chooseXO\n",
    "    else:\n",
    "        pass\n",
    "        \n",
    "        \n",
    "        \n",
    "    print (printboard3)\n",
    "    #print (row4)\n",
    "    #print (row5)"
   ]
  },
  {
   "cell_type": "code",
   "execution_count": 325,
   "metadata": {},
   "outputs": [],
   "source": [
    "#a = [1,2,3]\n",
    "#b = [4,5,6]\n",
    "#c = [7,8,9]\n",
    "\n",
    "def printboard4(a,b,c):\n",
    "    print (a)\n",
    "    print (b)\n",
    "    print (c)"
   ]
  },
  {
   "cell_type": "code",
   "execution_count": 323,
   "metadata": {},
   "outputs": [],
   "source": [
    "'''\n",
    "\n",
    "a = [1,2,3]\n",
    "b = [4,5,6]\n",
    "c = [7,8,9]\n",
    "\n",
    "\n",
    "def changelist (a,b,c,tag,boardlist):\n",
    "   \n",
    "    \n",
    "\n",
    "        \n",
    "    \n",
    "    #keys\n",
    "    row3 = [1,2,3]\n",
    "    row4 = [4,5,6]\n",
    "    row5 = [7,8,9]\n",
    "    \n",
    "    \n",
    "    if tag in row3: \n",
    "        a[tag-1] = \"A\"\n",
    "        #boardlist = boardlist\n",
    "    elif tag in row4:\n",
    "        b[tag-4] = \"B\"\n",
    "        #boardlist=boardlist\n",
    "    elif tag in row5:\n",
    "        c[tag-7] = \"D\"\n",
    "        #boardlist = boardlist\n",
    "    else:\n",
    "        pass\n",
    "        \n",
    "        \n",
    "        \n",
    "    print (a)\n",
    "    print (b)\n",
    "    print (c)\n",
    "    '''"
   ]
  },
  {
   "cell_type": "code",
   "execution_count": null,
   "metadata": {},
   "outputs": [],
   "source": [
    "#changelist(a,b,c,9,\"X\")"
   ]
  },
  {
   "cell_type": "code",
   "execution_count": 332,
   "metadata": {},
   "outputs": [],
   "source": [
    "def placemarker(user_inputok,chooseXO,a,b,c):\n",
    "    \n",
    "    #printboard()\n",
    "    row3 = [1,2,3]\n",
    "    row4 = [4,5,6]\n",
    "    row5 = [7,8,9]\n",
    "    \n",
    "    #for n in row 3\n",
    "    if user_inputok in row3: \n",
    "        a[user_inputok-1] = chooseXO       \n",
    "    elif user_inputok in row4:\n",
    "        b[user_inputok-4] = chooseXO\n",
    "    elif user_inputok in row5:\n",
    "        c[user_inputok-7] = chooseXO\n",
    "    else:\n",
    "        pass   "
   ]
  },
  {
   "cell_type": "code",
   "execution_count": null,
   "metadata": {},
   "outputs": [
    {
     "name": "stdout",
     "output_type": "stream",
     "text": [
      "Player 1, pick your marker: X or O: o\n",
      "Player 1, your choice is O\n",
      "Player 2, you are X\n",
      "   \n",
      "   \n",
      "Let's start the game!\n",
      "[1, 2, 3]\n",
      "[4, 5, 6]\n",
      "[7, 8, 9]\n",
      "Please pick a board spot where you want to place a token (1-9):  2\n",
      "[1, 'O', 3]\n",
      "[4, 5, 6]\n",
      "[7, 8, 9]\n",
      "Please pick a board spot where you want to place a token (1-9):  3\n",
      "[1, 'O', 'X']\n",
      "[4, 5, 6]\n",
      "[7, 8, 9]\n",
      "Please pick a board spot where you want to place a token (1-9):  5\n",
      "[1, 'O', 'X']\n",
      "[4, 'O', 6]\n",
      "[7, 8, 9]\n",
      "Please pick a board spot where you want to place a token (1-9):  6\n",
      "[1, 'O', 'X']\n",
      "[4, 'O', 'X']\n",
      "[7, 8, 9]\n",
      "Please pick a board spot where you want to place a token (1-9):  8\n",
      "[1, 'O', 'X']\n",
      "[4, 'O', 'X']\n",
      "[7, 'O', 9]\n"
     ]
    }
   ],
   "source": [
    "game_on = True\n",
    "counter = 0\n",
    "#placemarker2 = []\n",
    "\n",
    "player1choice, player2choice = chooseXO()\n",
    "#user_inputok()# = user_inputok()\n",
    "\n",
    "print(\"   \")\n",
    "print(\"   \")\n",
    "print(\"Let's start the game!\")\n",
    "#currentboard = printboard()\n",
    "a = [1,2,3]\n",
    "b = [4,5,6]\n",
    "c = [7,8,9]\n",
    "\n",
    "while game_on == True:\n",
    "    \n",
    "    printboard4(a,b,c)\n",
    "\n",
    "    XX = user_inputok()\n",
    "    #print(user_inputok)\n",
    "    if counter%2==0:\n",
    "        #placemarker2 =\n",
    "        placemarker(XX,player1choice,a,b,c)\n",
    "        counter +=1\n",
    "    else:\n",
    "        #placemarker2 = \n",
    "        placemarker(XX,player2choice,a,b,c)\n",
    "        counter +=1\n",
    "        #game_on = input(\"Continue? True or False: \")"
   ]
  },
  {
   "cell_type": "code",
   "execution_count": 184,
   "metadata": {},
   "outputs": [],
   "source": [
    "#run_game()"
   ]
  },
  {
   "cell_type": "code",
   "execution_count": null,
   "metadata": {},
   "outputs": [],
   "source": []
  }
 ],
 "metadata": {
  "kernelspec": {
   "display_name": "Python 3",
   "language": "python",
   "name": "python3"
  },
  "language_info": {
   "codemirror_mode": {
    "name": "ipython",
    "version": 3
   },
   "file_extension": ".py",
   "mimetype": "text/x-python",
   "name": "python",
   "nbconvert_exporter": "python",
   "pygments_lexer": "ipython3",
   "version": "3.8.5"
  }
 },
 "nbformat": 4,
 "nbformat_minor": 4
}
