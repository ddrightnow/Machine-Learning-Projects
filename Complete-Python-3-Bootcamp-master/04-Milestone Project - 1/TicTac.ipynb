{
 "cells": [
  {
   "cell_type": "code",
   "execution_count": 2,
   "metadata": {},
   "outputs": [],
   "source": [
    "'''\n",
    "def printboard():\n",
    "    \n",
    "    row1 = [\" \",\" | \",\" \", \" | \",\" \"]\n",
    "    row2 = [\"- \",\"- \",\"- \"]\n",
    "    row3 = [1,2,3]\n",
    "    row4 = [4,5,6]\n",
    "    row5 = [7,8,9]\n",
    "    \n",
    "    \n",
    "    print (row3)\n",
    "    print (row4)\n",
    "    print (row5)  \n",
    "'''\n",
    "\n",
    "  "
   ]
  },
  {
   "cell_type": "code",
   "execution_count": 303,
   "metadata": {},
   "outputs": [],
   "source": [
    "'''\n",
    "\n",
    "def printboard2 (a):\n",
    "    row3 = [1,2,3]\n",
    "    row4 = [4,5,6]\n",
    "    row5 = [7,8,9]\n",
    "    \n",
    "    #for n in row 3\n",
    "    if a in row3: \n",
    "        row3[a-1] = \"a\"       \n",
    "    elif a in row4:\n",
    "        row4[a-4] = \"ab\"\n",
    "    elif a in row5:\n",
    "        row5[a-7] = \"abc\"\n",
    "    else:\n",
    "        pass\n",
    "\n",
    "    #print (printboard2)\n",
    "    print (row3)\n",
    "    print (row4)\n",
    "    print (row5)\n",
    "\n",
    "''' \n",
    "    \n"
   ]
  },
  {
   "cell_type": "code",
   "execution_count": null,
   "metadata": {},
   "outputs": [],
   "source": [
    "#printboard2(8)"
   ]
  },
  {
   "cell_type": "code",
   "execution_count": null,
   "metadata": {},
   "outputs": [],
   "source": [
    "'''\n",
    "\n",
    "def user_input():\n",
    "    correctrange = range(1,10)\n",
    "    result = input (\"Type here: \")\n",
    "    digit = False\n",
    "    \n",
    "    if result.isdigit():\n",
    "        result2 = int(result) \n",
    "    else:\n",
    "        pass    \n",
    "    \n",
    "    while result.isdigit() == False:\n",
    "        result2 = input ('Incorrect, type a number: ')\n",
    "        digit = True\n",
    "        break  \n",
    "  \n",
    "\n",
    "    while result2 not in correctrange:\n",
    "        result2 = input ('Incorrect, type a number from 1 to 9: ')\n",
    "        break\n",
    "    else:\n",
    "        print ('Correct')\n",
    "    \n",
    "    return int(result2)\n",
    "'''"
   ]
  },
  {
   "cell_type": "code",
   "execution_count": null,
   "metadata": {},
   "outputs": [],
   "source": []
  },
  {
   "cell_type": "code",
   "execution_count": 339,
   "metadata": {},
   "outputs": [],
   "source": [
    "def user_inputok():\n",
    "    choice = False\n",
    "    rangecheck = False\n",
    "    correctrange = range(1,10)\n",
    "    user_choice = 0\n",
    "    checkinglist = []\n",
    "    \n",
    "    \n",
    "    while choice is False and rangecheck is False: \n",
    "        result = input(\"Please pick a board spot where you want to place a token (1-9):  \")\n",
    "        if result.isdigit() == True:\n",
    "            result = int(result)\n",
    "            if result in correctrange:\n",
    "                if result not in checkinglist:\n",
    "                    choice == True\n",
    "                    rangecheck == True\n",
    "                    checkinglist.append(result)\n",
    "                    return result\n",
    "                else:\n",
    "                    print (\"Can't pick that spot, try another\")\n",
    "            else:\n",
    "                print (\"Not in range\")\n",
    "        else:\n",
    "            print(\"Not a digit\")\n",
    "    \n",
    "        \n",
    "    #return result"
   ]
  },
  {
   "cell_type": "code",
   "execution_count": 340,
   "metadata": {},
   "outputs": [
    {
     "name": "stdout",
     "output_type": "stream",
     "text": [
      "Please pick a board spot where you want to place a token (1-9):  8\n",
      "Please pick a board spot where you want to place a token (1-9):  8\n",
      "Please pick a board spot where you want to place a token (1-9):  8\n"
     ]
    },
    {
     "ename": "KeyboardInterrupt",
     "evalue": "Interrupted by user",
     "output_type": "error",
     "traceback": [
      "\u001b[1;31m---------------------------------------------------------------------------\u001b[0m",
      "\u001b[1;31mKeyboardInterrupt\u001b[0m                         Traceback (most recent call last)",
      "\u001b[1;32m<ipython-input-340-7b31ad83d8c6>\u001b[0m in \u001b[0;36m<module>\u001b[1;34m\u001b[0m\n\u001b[0;32m      1\u001b[0m \u001b[0mx\u001b[0m \u001b[1;33m=\u001b[0m \u001b[1;36m3\u001b[0m\u001b[1;33m\u001b[0m\u001b[1;33m\u001b[0m\u001b[0m\n\u001b[0;32m      2\u001b[0m \u001b[1;32mwhile\u001b[0m \u001b[0mx\u001b[0m \u001b[1;33m==\u001b[0m \u001b[1;36m3\u001b[0m\u001b[1;33m:\u001b[0m\u001b[1;33m\u001b[0m\u001b[1;33m\u001b[0m\u001b[0m\n\u001b[1;32m----> 3\u001b[1;33m     \u001b[0muser_inputok\u001b[0m\u001b[1;33m(\u001b[0m\u001b[1;33m)\u001b[0m\u001b[1;33m\u001b[0m\u001b[1;33m\u001b[0m\u001b[0m\n\u001b[0m",
      "\u001b[1;32m<ipython-input-339-722c98249803>\u001b[0m in \u001b[0;36muser_inputok\u001b[1;34m()\u001b[0m\n\u001b[0;32m      8\u001b[0m \u001b[1;33m\u001b[0m\u001b[0m\n\u001b[0;32m      9\u001b[0m     \u001b[1;32mwhile\u001b[0m \u001b[0mchoice\u001b[0m \u001b[1;32mis\u001b[0m \u001b[1;32mFalse\u001b[0m \u001b[1;32mand\u001b[0m \u001b[0mrangecheck\u001b[0m \u001b[1;32mis\u001b[0m \u001b[1;32mFalse\u001b[0m\u001b[1;33m:\u001b[0m\u001b[1;33m\u001b[0m\u001b[1;33m\u001b[0m\u001b[0m\n\u001b[1;32m---> 10\u001b[1;33m         \u001b[0mresult\u001b[0m \u001b[1;33m=\u001b[0m \u001b[0minput\u001b[0m\u001b[1;33m(\u001b[0m\u001b[1;34m\"Please pick a board spot where you want to place a token (1-9):  \"\u001b[0m\u001b[1;33m)\u001b[0m\u001b[1;33m\u001b[0m\u001b[1;33m\u001b[0m\u001b[0m\n\u001b[0m\u001b[0;32m     11\u001b[0m         \u001b[1;32mif\u001b[0m \u001b[0mresult\u001b[0m\u001b[1;33m.\u001b[0m\u001b[0misdigit\u001b[0m\u001b[1;33m(\u001b[0m\u001b[1;33m)\u001b[0m \u001b[1;33m==\u001b[0m \u001b[1;32mTrue\u001b[0m\u001b[1;33m:\u001b[0m\u001b[1;33m\u001b[0m\u001b[1;33m\u001b[0m\u001b[0m\n\u001b[0;32m     12\u001b[0m             \u001b[0mresult\u001b[0m \u001b[1;33m=\u001b[0m \u001b[0mint\u001b[0m\u001b[1;33m(\u001b[0m\u001b[0mresult\u001b[0m\u001b[1;33m)\u001b[0m\u001b[1;33m\u001b[0m\u001b[1;33m\u001b[0m\u001b[0m\n",
      "\u001b[1;32m~\\anaconda3\\lib\\site-packages\\ipykernel\\kernelbase.py\u001b[0m in \u001b[0;36mraw_input\u001b[1;34m(self, prompt)\u001b[0m\n\u001b[0;32m    858\u001b[0m                 \u001b[1;34m\"raw_input was called, but this frontend does not support input requests.\"\u001b[0m\u001b[1;33m\u001b[0m\u001b[1;33m\u001b[0m\u001b[0m\n\u001b[0;32m    859\u001b[0m             )\n\u001b[1;32m--> 860\u001b[1;33m         return self._input_request(str(prompt),\n\u001b[0m\u001b[0;32m    861\u001b[0m             \u001b[0mself\u001b[0m\u001b[1;33m.\u001b[0m\u001b[0m_parent_ident\u001b[0m\u001b[1;33m,\u001b[0m\u001b[1;33m\u001b[0m\u001b[1;33m\u001b[0m\u001b[0m\n\u001b[0;32m    862\u001b[0m             \u001b[0mself\u001b[0m\u001b[1;33m.\u001b[0m\u001b[0m_parent_header\u001b[0m\u001b[1;33m,\u001b[0m\u001b[1;33m\u001b[0m\u001b[1;33m\u001b[0m\u001b[0m\n",
      "\u001b[1;32m~\\anaconda3\\lib\\site-packages\\ipykernel\\kernelbase.py\u001b[0m in \u001b[0;36m_input_request\u001b[1;34m(self, prompt, ident, parent, password)\u001b[0m\n\u001b[0;32m    902\u001b[0m             \u001b[1;32mexcept\u001b[0m \u001b[0mKeyboardInterrupt\u001b[0m\u001b[1;33m:\u001b[0m\u001b[1;33m\u001b[0m\u001b[1;33m\u001b[0m\u001b[0m\n\u001b[0;32m    903\u001b[0m                 \u001b[1;31m# re-raise KeyboardInterrupt, to truncate traceback\u001b[0m\u001b[1;33m\u001b[0m\u001b[1;33m\u001b[0m\u001b[1;33m\u001b[0m\u001b[0m\n\u001b[1;32m--> 904\u001b[1;33m                 \u001b[1;32mraise\u001b[0m \u001b[0mKeyboardInterrupt\u001b[0m\u001b[1;33m(\u001b[0m\u001b[1;34m\"Interrupted by user\"\u001b[0m\u001b[1;33m)\u001b[0m \u001b[1;32mfrom\u001b[0m \u001b[1;32mNone\u001b[0m\u001b[1;33m\u001b[0m\u001b[1;33m\u001b[0m\u001b[0m\n\u001b[0m\u001b[0;32m    905\u001b[0m             \u001b[1;32mexcept\u001b[0m \u001b[0mException\u001b[0m \u001b[1;32mas\u001b[0m \u001b[0me\u001b[0m\u001b[1;33m:\u001b[0m\u001b[1;33m\u001b[0m\u001b[1;33m\u001b[0m\u001b[0m\n\u001b[0;32m    906\u001b[0m                 \u001b[0mself\u001b[0m\u001b[1;33m.\u001b[0m\u001b[0mlog\u001b[0m\u001b[1;33m.\u001b[0m\u001b[0mwarning\u001b[0m\u001b[1;33m(\u001b[0m\u001b[1;34m\"Invalid Message:\"\u001b[0m\u001b[1;33m,\u001b[0m \u001b[0mexc_info\u001b[0m\u001b[1;33m=\u001b[0m\u001b[1;32mTrue\u001b[0m\u001b[1;33m)\u001b[0m\u001b[1;33m\u001b[0m\u001b[1;33m\u001b[0m\u001b[0m\n",
      "\u001b[1;31mKeyboardInterrupt\u001b[0m: Interrupted by user"
     ]
    }
   ],
   "source": [
    "x = 3\n",
    "while x == 3:\n",
    "    user_inputok()"
   ]
  },
  {
   "cell_type": "code",
   "execution_count": null,
   "metadata": {},
   "outputs": [],
   "source": [
    "def chooseXO():\n",
    "    player1choice = \"\"\n",
    "    player2choice = \"\"\n",
    "    listchoice = [\"X\",\"O\"]  \n",
    "    player1choice = input(\"Player 1, pick your marker: X or O: \").upper()    \n",
    "    \n",
    "    while player1choice not in listchoice:\n",
    "        print ('Wrong marker choice, please pick X or O')\n",
    "        player1choice = input(\"Player 1, pick your marker: X or O: \").upper() \n",
    "        #break\n",
    "    \n",
    "    if player1choice == \"X\":\n",
    "        player2choice = \"O\"\n",
    "        print ('Player 1, your choice is X')\n",
    "        print ('Player 2, you are O')\n",
    "    else:\n",
    "        player2choice = \"X\"\n",
    "        print ('Player 1, your choice is O')\n",
    "        print ('Player 2, you are X') \n",
    "        print(\"   \")\n",
    "        print(\"   \")\n",
    "\n",
    "    \n",
    "    return player1choice, player2choice"
   ]
  },
  {
   "cell_type": "code",
   "execution_count": null,
   "metadata": {},
   "outputs": [],
   "source": [
    "#chooseXO()"
   ]
  },
  {
   "cell_type": "code",
   "execution_count": 305,
   "metadata": {},
   "outputs": [],
   "source": [
    "def printboard3 (user_inputok,chooseXO):\n",
    "    \n",
    "    printboard()\n",
    "    row3 = [1,2,3]\n",
    "    row4 = [4,5,6]\n",
    "    row5 = [7,8,9]\n",
    "    \n",
    "    #for n in row 3\n",
    "    if user_inputok in row3: \n",
    "        row3[user_inputok-1] = chooseXO       \n",
    "    elif user_inputok in row4:\n",
    "        row4[user_inputok-4] = chooseXO\n",
    "    elif user_inputok in row5:\n",
    "        row5[user_inputok-7] = chooseXO\n",
    "    else:\n",
    "        pass\n",
    "    \n",
    "    print (printboard3)"
   ]
  },
  {
   "cell_type": "code",
   "execution_count": 325,
   "metadata": {},
   "outputs": [],
   "source": [
    "def printboard4(a,b,c):\n",
    "    print (a)\n",
    "    print (b)\n",
    "    print (c)"
   ]
  },
  {
   "cell_type": "code",
   "execution_count": 323,
   "metadata": {},
   "outputs": [],
   "source": [
    "'''\n",
    "\n",
    "a = [1,2,3]\n",
    "b = [4,5,6]\n",
    "c = [7,8,9]\n",
    "\n",
    "\n",
    "def changelist (a,b,c,tag,boardlist):\n",
    "   \n",
    "    \n",
    "\n",
    "        \n",
    "    \n",
    "    #keys\n",
    "    row3 = [1,2,3]\n",
    "    row4 = [4,5,6]\n",
    "    row5 = [7,8,9]\n",
    "    \n",
    "    \n",
    "    if tag in row3: \n",
    "        a[tag-1] = \"A\"\n",
    "        #boardlist = boardlist\n",
    "    elif tag in row4:\n",
    "        b[tag-4] = \"B\"\n",
    "        #boardlist=boardlist\n",
    "    elif tag in row5:\n",
    "        c[tag-7] = \"D\"\n",
    "        #boardlist = boardlist\n",
    "    else:\n",
    "        pass\n",
    "        \n",
    "        \n",
    "        \n",
    "    print (a)\n",
    "    print (b)\n",
    "    print (c)\n",
    "    '''"
   ]
  },
  {
   "cell_type": "code",
   "execution_count": null,
   "metadata": {},
   "outputs": [],
   "source": [
    "#changelist(a,b,c,9,\"X\")"
   ]
  },
  {
   "cell_type": "code",
   "execution_count": 332,
   "metadata": {},
   "outputs": [],
   "source": [
    "def placemarker(user_inputok,chooseXO,a,b,c):\n",
    "    \n",
    "    #printboard()\n",
    "    row3 = [1,2,3]\n",
    "    row4 = [4,5,6]\n",
    "    row5 = [7,8,9]\n",
    "    \n",
    "    #for n in row 3\n",
    "    if user_inputok in row3: \n",
    "        a[user_inputok-1] = chooseXO       \n",
    "    elif user_inputok in row4:\n",
    "        b[user_inputok-4] = chooseXO\n",
    "    elif user_inputok in row5:\n",
    "        c[user_inputok-7] = chooseXO\n",
    "    else:\n",
    "        pass   "
   ]
  },
  {
   "cell_type": "code",
   "execution_count": 373,
   "metadata": {},
   "outputs": [
    {
     "name": "stdout",
     "output_type": "stream",
     "text": [
      "Do you want to start the game? (Y or N)Y\n",
      "Player 1, pick your marker: X or O: X\n",
      "Player 1, your choice is X\n",
      "Player 2, you are O\n",
      "   \n",
      "   \n",
      "Let's start the game!\n",
      "[1, 2, 3]\n",
      "[4, 5, 6]\n",
      "[7, 8, 9]\n",
      "Please pick a board spot where you want to place a token (1-9):  9\n",
      "[1, 2, 3]\n",
      "[4, 5, 6]\n",
      "[7, 8, 'X']\n",
      "Please pick a board spot where you want to place a token (1-9):  7\n",
      "[1, 2, 3]\n",
      "[4, 5, 6]\n",
      "['O', 8, 'X']\n",
      "Please pick a board spot where you want to place a token (1-9):  5\n",
      "[1, 2, 3]\n",
      "[4, 'X', 6]\n",
      "['O', 8, 'X']\n",
      "Please pick a board spot where you want to place a token (1-9):  5\n",
      "Can't pick that spot, try another\n",
      "[1, 2, 3]\n",
      "[4, 'X', 6]\n",
      "['O', 8, 'X']\n",
      "Please pick a board spot where you want to place a token (1-9):  8\n",
      "[1, 2, 3]\n",
      "[4, 'X', 6]\n",
      "['O', 'O', 'X']\n",
      "Please pick a board spot where you want to place a token (1-9):  1\n",
      "(Game over! Player 1 wins!)\n"
     ]
    }
   ],
   "source": [
    "game_on = input(\"Do you want to start the game? (Y or N)\")\n",
    "\n",
    "if game_on == \"Y\":\n",
    "    rungame()\n",
    "else:\n",
    "    print(\"Goodbye!\")\n",
    "\n",
    "\n",
    "def rungame():\n",
    "    game_on = False\n",
    "    counter = 0\n",
    "    checkinglist = []\n",
    "    playertracker = 0 #tracks whose turn it is\n",
    "    gamestatus = False\n",
    "    player1choice, player2choice = chooseXO()\n",
    "    #user_inputok()# = user_inputok()\n",
    "\n",
    "\n",
    "\n",
    "\n",
    "\n",
    "    print(\"   \")\n",
    "    print(\"   \")\n",
    "    print(\"Let's start the game!\")\n",
    "    #currentboard = printboard()\n",
    "    a = [1,2,3]\n",
    "    b = [4,5,6]\n",
    "    c = [7,8,9]\n",
    "\n",
    "    while gamestatus == False:\n",
    "\n",
    "        printboard4(a,b,c)\n",
    "\n",
    "\n",
    "\n",
    "\n",
    "        XX = user_inputok()\n",
    "        if XX not in checkinglist:\n",
    "            checkinglist.append(XX)\n",
    "            #print (checkinglist)\n",
    "            if counter%2==0:\n",
    "                placemarker(XX,player1choice,a,b,c)\n",
    "                playertracker = 1\n",
    "                gamestatus = winninglogic(a,b,c)\n",
    "                counter +=1\n",
    "            else:\n",
    "                placemarker(XX,player2choice,a,b,c)\n",
    "                playertracker = 2\n",
    "                gamestatus = winninglogic(a,b,c)\n",
    "                counter +=1\n",
    "                #game_on = input(\"Continue? True or False: \")\n",
    "        else:\n",
    "            print (\"Can't pick that spot, try another\")\n",
    "    else:\n",
    "        print (f'(Game over! Player {playertracker} wins!)')\n"
   ]
  },
  {
   "cell_type": "code",
   "execution_count": 184,
   "metadata": {},
   "outputs": [],
   "source": [
    "#run_game()"
   ]
  },
  {
   "cell_type": "code",
   "execution_count": 367,
   "metadata": {},
   "outputs": [],
   "source": [
    "#a = [1,2,3]\n",
    "#b = [4,5,6]\n",
    "#c = [7,8,9]\n",
    "\n",
    "def winninglogic (a,b,c):\n",
    "    \n",
    "    if a[0] == a[1] == a[2]: #123 #321\n",
    "        return True\n",
    "        print (\"Game over\")\n",
    "    elif a[0] == b[0] == c[0]: #147 #741\n",
    "        print (\"Game over\")\n",
    "        return True\n",
    "    elif a[0] == b[1] == c[2]: #159 #951\n",
    "        return True\n",
    "        print (\"Game over\")\n",
    "    elif a[2] == b[2] == c[2]: #369 $963\n",
    "        print (\"Game over\")\n",
    "        return True\n",
    "    elif c[0] == c[1] == c[2]: #789 #987\n",
    "        print (\"Game over\")\n",
    "        return True\n",
    "    elif b[0] == b[1] == b[2]: #456 #654\n",
    "        print (\"Game over\")\n",
    "        return True\n",
    "    elif a[1] == b[1] == c[1]: #258 #852\n",
    "        print (\"Game over\")\n",
    "        return True\n",
    "    else:\n",
    "        return False #rint (\"game on\")\n",
    "    \n",
    "         "
   ]
  },
  {
   "cell_type": "code",
   "execution_count": 361,
   "metadata": {},
   "outputs": [
    {
     "data": {
      "text/plain": [
       "True"
      ]
     },
     "execution_count": 361,
     "metadata": {},
     "output_type": "execute_result"
    }
   ],
   "source": [
    "a = [9,2,1]\n",
    "b = [4,9,6]\n",
    "c = [41,8,9]\n",
    "\n",
    "winninglogic(a,b,c)"
   ]
  },
  {
   "cell_type": "code",
   "execution_count": null,
   "metadata": {},
   "outputs": [],
   "source": []
  }
 ],
 "metadata": {
  "kernelspec": {
   "display_name": "Python 3",
   "language": "python",
   "name": "python3"
  },
  "language_info": {
   "codemirror_mode": {
    "name": "ipython",
    "version": 3
   },
   "file_extension": ".py",
   "mimetype": "text/x-python",
   "name": "python",
   "nbconvert_exporter": "python",
   "pygments_lexer": "ipython3",
   "version": "3.8.5"
  }
 },
 "nbformat": 4,
 "nbformat_minor": 4
}
