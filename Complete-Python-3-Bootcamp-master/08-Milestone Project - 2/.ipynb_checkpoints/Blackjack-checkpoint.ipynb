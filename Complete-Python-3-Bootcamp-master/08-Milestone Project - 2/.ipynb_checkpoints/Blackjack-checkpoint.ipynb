{
 "cells": [
  {
   "cell_type": "code",
   "execution_count": 1,
   "metadata": {},
   "outputs": [],
   "source": [
    "#create 3 base object classes - cards, decks, bankroll\n",
    "\n",
    "#create players - pc and human\n",
    "#add player actions\n",
    "\n",
    "#add rules\n",
    "#add game logic"
   ]
  },
  {
   "cell_type": "code",
   "execution_count": 43,
   "metadata": {},
   "outputs": [],
   "source": [
    "# card class - suit,rank,value\n",
    "#deck - 52 unit card class\n",
    "import random\n",
    "\n",
    "\n",
    "suits = ('Hearts', 'Diamonds', 'Spades', 'Clubs')\n",
    "ranks = ('Two', 'Three', 'Four', 'Five', 'Six', 'Seven', 'Eight', 'Nine', 'Ten', 'Jack', 'Queen', 'King', 'Ace')\n",
    "values = {'Two':2, 'Three':3, 'Four':4, 'Five':5, 'Six':6, 'Seven':7, 'Eight':8, \n",
    "            'Nine':9, 'Ten':10, 'Jack':11, 'Queen':12, 'King':13, 'Ace':14}"
   ]
  },
  {
   "cell_type": "code",
   "execution_count": 44,
   "metadata": {},
   "outputs": [
    {
     "data": {
      "text/plain": [
       "2"
      ]
     },
     "execution_count": 44,
     "metadata": {},
     "output_type": "execute_result"
    }
   ],
   "source": [
    "values[\"Two\"]"
   ]
  },
  {
   "cell_type": "code",
   "execution_count": 92,
   "metadata": {},
   "outputs": [
    {
     "data": {
      "text/plain": [
       "'\\nfor making deck\\ncardlist=[]\\nfor i in suits:\\n    for j in ranks:\\n        card = Card(i,j)\\n        cardlist.append(card)\\n\\n\\n'"
      ]
     },
     "execution_count": 92,
     "metadata": {},
     "output_type": "execute_result"
    }
   ],
   "source": [
    "#old code - unused:\n",
    "\n",
    "'''\n",
    "for making deck\n",
    "cardlist=[]\n",
    "for i in suits:\n",
    "    for j in ranks:\n",
    "        card = Card(i,j)\n",
    "        cardlist.append(card)\n",
    "\n",
    "\n",
    "'''"
   ]
  },
  {
   "cell_type": "code",
   "execution_count": 85,
   "metadata": {},
   "outputs": [],
   "source": [
    "class Card:\n",
    "    def __init__(self,suit,rank):\n",
    "        self.suit = suit\n",
    "        self.rank = rank\n",
    "        self.value = values[rank]\n",
    "        \n",
    "    def __str__(self):\n",
    "        return f'{self.rank} of {self.suit}'\n",
    "        "
   ]
  },
  {
   "cell_type": "code",
   "execution_count": 86,
   "metadata": {},
   "outputs": [
    {
     "name": "stdout",
     "output_type": "stream",
     "text": [
      "14\n"
     ]
    }
   ],
   "source": [
    "card = Card('Hearts','Ace')\n",
    "print(card.value)"
   ]
  },
  {
   "cell_type": "code",
   "execution_count": 230,
   "metadata": {},
   "outputs": [],
   "source": [
    "class Deck():\n",
    "\n",
    "\n",
    "    def __init__(self):\n",
    "        self.allcards = []\n",
    "        for i in suits:\n",
    "            for j in ranks:\n",
    "                card = Card(i,j)\n",
    "                self.allcards.append(card)\n",
    "                random.shuffle(self.allcards)\n",
    "    \n",
    "    def removecard(self):\n",
    "        return self.allcards.pop(-1)"
   ]
  },
  {
   "cell_type": "code",
   "execution_count": 442,
   "metadata": {},
   "outputs": [
    {
     "data": {
      "text/plain": [
       "52"
      ]
     },
     "execution_count": 442,
     "metadata": {},
     "output_type": "execute_result"
    }
   ],
   "source": [
    "newdeck = Deck()\n",
    "len(newdeck.allcards)"
   ]
  },
  {
   "cell_type": "code",
   "execution_count": 192,
   "metadata": {},
   "outputs": [],
   "source": [
    "##PRINT ALL WORKS\n",
    "#for i in newdeck.allcards:\n",
    "#    print(i) \n",
    "\n",
    "##REMOVE CARD WORKS AND ASSIGNS TO NEW VARIABLE\n",
    "#a = newdeck.removecard()\n",
    "#print(a)"
   ]
  },
  {
   "cell_type": "code",
   "execution_count": 443,
   "metadata": {},
   "outputs": [
    {
     "name": "stdout",
     "output_type": "stream",
     "text": [
      "<__main__.Deck object at 0x000001CEDCB38A30>\n"
     ]
    },
    {
     "data": {
      "text/plain": [
       "52"
      ]
     },
     "execution_count": 443,
     "metadata": {},
     "output_type": "execute_result"
    }
   ],
   "source": [
    "print(newdeck)\n",
    "#for i in cardlist:\n",
    "len(newdeck.allcards)\n",
    "#print(cardlist)"
   ]
  },
  {
   "cell_type": "code",
   "execution_count": 218,
   "metadata": {},
   "outputs": [],
   "source": [
    "''' \n",
    "class Bankroll():\n",
    "    \n",
    "    def __init__(self,player,amount):\n",
    "        self.player = player #maybe unneccessary\n",
    "        self.amount = amount\n",
    "        \n",
    "    def __str__(self):\n",
    "        return f'{self.player} has ${self.amount}'\n",
    "    \n",
    "    def addmoney(self,value):\n",
    "        self.amount += value\n",
    "        return self.amount\n",
    "    \n",
    "    def subtractmoney(self,value):\n",
    "        if self.amount > value:\n",
    "            self.amount -= value\n",
    "            return self.amount\n",
    "        else:\n",
    "            print (\"Your account does not have enough balance\")\n",
    "'''"
   ]
  },
  {
   "cell_type": "code",
   "execution_count": 220,
   "metadata": {},
   "outputs": [],
   "source": [
    "#test - creating, adding, subtracting work\n",
    "pool1 = Bankroll(\"DD\",500)\n",
    "pool2 = Bankroll(\"Bank\",1500)\n",
    "print(pool1)\n",
    "print(pool2)"
   ]
  },
  {
   "cell_type": "code",
   "execution_count": 226,
   "metadata": {},
   "outputs": [],
   "source": [
    "#test - preventing negative balance\n",
    "#pool2.subtractmoney(1300)\n",
    "#print(pool2)"
   ]
  },
  {
   "cell_type": "code",
   "execution_count": null,
   "metadata": {},
   "outputs": [],
   "source": []
  },
  {
   "cell_type": "code",
   "execution_count": 445,
   "metadata": {},
   "outputs": [],
   "source": [
    "class Player():\n",
    "    \n",
    "    \n",
    "    def __init__(self,player,amount):\n",
    "        self.player = player #maybe unneccessary\n",
    "        self.amount = amount\n",
    "        #to add bankroll initially or not???, or deck?\n",
    "        self.hiddencards = []\n",
    "        self.showedcards = []\n",
    "        self.purse = 0 #or Bankroll()\n",
    "        self.stakedpurse = 0\n",
    "        self.playerscore = 0\n",
    "        \n",
    "    def __str__(self):\n",
    "        return f'{self.player} has ${self.amount}'\n",
    "    \n",
    "    def addmoney(self,value):\n",
    "        self.amount += value\n",
    "        return self.amount\n",
    "    \n",
    "    def subtractmoney(self,value):\n",
    "        if self.amount > value:\n",
    "            self.amount -= value\n",
    "            return self.amount\n",
    "        else:\n",
    "            print (\"Your account does not have enough balance\")\n",
    "    \n",
    "    def hit(self):\n",
    "        #if self.hiddencards == []:\n",
    "        #a = self.hiddencards.append(newdeck.removecard())\n",
    "        #self.playerscore =+ self.hiddencards.append(newdeck.removecard()).value\n",
    "        #else:\n",
    "         #   self.hiddencards.extend(newdeck.removecard())\n",
    "            \n",
    "        #removes a card from the deck    \n",
    "        a = newdeck.removecard()\n",
    "        \n",
    "        #adds the card to the player's deck\n",
    "        self.hiddencards.append(a)\n",
    "        \n",
    "        #calculates the players total card score\n",
    "        self.playerscore += a.value\n",
    "    \n",
    "    def stay(self):\n",
    "        pass\n",
    "    \n",
    "    def calcscore(self):\n",
    "        #for i in self.hiddencards:\n",
    "        #self.playerscore = self.hiddencards[0].value\n",
    "        return self.playerscore\n",
    "        \n",
    "        \n"
   ]
  },
  {
   "cell_type": "code",
   "execution_count": 454,
   "metadata": {},
   "outputs": [
    {
     "name": "stdout",
     "output_type": "stream",
     "text": [
      "DF has $2000\n"
     ]
    }
   ],
   "source": [
    "#create player with his purse\n",
    "play1 = Player(\"DF\", 2000)\n",
    "print(play1)"
   ]
  },
  {
   "cell_type": "code",
   "execution_count": 449,
   "metadata": {},
   "outputs": [],
   "source": [
    "#Can add cards to my hidden deck\n",
    "play1.hit()"
   ]
  },
  {
   "cell_type": "code",
   "execution_count": 452,
   "metadata": {},
   "outputs": [
    {
     "name": "stdout",
     "output_type": "stream",
     "text": [
      "Seven of Hearts\n",
      "1\n"
     ]
    }
   ],
   "source": [
    "for i in play1.hiddencards:\n",
    "    print(i)\n",
    "#print(play1.hiddencards[1])#Can add cards to my hidden deck\n",
    "print(len(play1.hiddencards))"
   ]
  },
  {
   "cell_type": "code",
   "execution_count": null,
   "metadata": {},
   "outputs": [],
   "source": [
    "#RETURN player's score\n",
    "play1.calcscore()\n",
    "#internal running total of player's score\n",
    "play1.playerscore"
   ]
  },
  {
   "cell_type": "code",
   "execution_count": null,
   "metadata": {},
   "outputs": [],
   "source": []
  },
  {
   "cell_type": "code",
   "execution_count": null,
   "metadata": {},
   "outputs": [],
   "source": []
  },
  {
   "cell_type": "code",
   "execution_count": null,
   "metadata": {},
   "outputs": [],
   "source": []
  },
  {
   "cell_type": "code",
   "execution_count": null,
   "metadata": {},
   "outputs": [],
   "source": []
  }
 ],
 "metadata": {
  "kernelspec": {
   "display_name": "Python 3",
   "language": "python",
   "name": "python3"
  },
  "language_info": {
   "codemirror_mode": {
    "name": "ipython",
    "version": 3
   },
   "file_extension": ".py",
   "mimetype": "text/x-python",
   "name": "python",
   "nbconvert_exporter": "python",
   "pygments_lexer": "ipython3",
   "version": "3.8.5"
  }
 },
 "nbformat": 4,
 "nbformat_minor": 4
}
