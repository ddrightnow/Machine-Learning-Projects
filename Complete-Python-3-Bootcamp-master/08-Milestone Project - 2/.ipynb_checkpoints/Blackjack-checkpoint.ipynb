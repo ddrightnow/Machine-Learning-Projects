{
 "cells": [
  {
   "cell_type": "code",
   "execution_count": 1,
   "metadata": {},
   "outputs": [],
   "source": [
    "#create 3 base object classes - cards, decks, bankroll\n",
    "\n",
    "#create players - pc and human\n",
    "#add player actions\n",
    "\n",
    "#add rules\n",
    "#add game logic"
   ]
  },
  {
   "cell_type": "code",
   "execution_count": 43,
   "metadata": {},
   "outputs": [],
   "source": [
    "# card class - suit,rank,value\n",
    "#deck - 52 unit card class\n",
    "import random\n",
    "\n",
    "\n",
    "suits = ('Hearts', 'Diamonds', 'Spades', 'Clubs')\n",
    "ranks = ('Two', 'Three', 'Four', 'Five', 'Six', 'Seven', 'Eight', 'Nine', 'Ten', 'Jack', 'Queen', 'King', 'Ace')\n",
    "values = {'Two':2, 'Three':3, 'Four':4, 'Five':5, 'Six':6, 'Seven':7, 'Eight':8, \n",
    "            'Nine':9, 'Ten':10, 'Jack':11, 'Queen':12, 'King':13, 'Ace':14}"
   ]
  },
  {
   "cell_type": "code",
   "execution_count": 44,
   "metadata": {},
   "outputs": [
    {
     "data": {
      "text/plain": [
       "2"
      ]
     },
     "execution_count": 44,
     "metadata": {},
     "output_type": "execute_result"
    }
   ],
   "source": [
    "values[\"Two\"]"
   ]
  },
  {
   "cell_type": "code",
   "execution_count": 92,
   "metadata": {},
   "outputs": [
    {
     "data": {
      "text/plain": [
       "'\\nfor making deck\\ncardlist=[]\\nfor i in suits:\\n    for j in ranks:\\n        card = Card(i,j)\\n        cardlist.append(card)\\n\\n\\n'"
      ]
     },
     "execution_count": 92,
     "metadata": {},
     "output_type": "execute_result"
    }
   ],
   "source": [
    "#old code - unused:\n",
    "\n",
    "'''\n",
    "for making deck\n",
    "cardlist=[]\n",
    "for i in suits:\n",
    "    for j in ranks:\n",
    "        card = Card(i,j)\n",
    "        cardlist.append(card)\n",
    "\n",
    "\n",
    "'''"
   ]
  },
  {
   "cell_type": "code",
   "execution_count": 85,
   "metadata": {},
   "outputs": [],
   "source": [
    "class Card:\n",
    "    def __init__(self,suit,rank):\n",
    "        self.suit = suit\n",
    "        self.rank = rank\n",
    "        self.value = values[rank]\n",
    "        \n",
    "    def __str__(self):\n",
    "        return f'{self.rank} of {self.suit}'\n",
    "        "
   ]
  },
  {
   "cell_type": "code",
   "execution_count": 491,
   "metadata": {},
   "outputs": [
    {
     "name": "stdout",
     "output_type": "stream",
     "text": [
      "Ace of Hearts\n"
     ]
    }
   ],
   "source": [
    "card = Card('Hearts','Ace')\n",
    "print(card)"
   ]
  },
  {
   "cell_type": "code",
   "execution_count": 230,
   "metadata": {},
   "outputs": [],
   "source": [
    "class Deck():\n",
    "\n",
    "\n",
    "    def __init__(self):\n",
    "        self.allcards = []\n",
    "        for i in suits:\n",
    "            for j in ranks:\n",
    "                card = Card(i,j)\n",
    "                self.allcards.append(card)\n",
    "                random.shuffle(self.allcards)\n",
    "    \n",
    "    def removecard(self):\n",
    "        return self.allcards.pop(-1)"
   ]
  },
  {
   "cell_type": "code",
   "execution_count": 442,
   "metadata": {},
   "outputs": [
    {
     "data": {
      "text/plain": [
       "52"
      ]
     },
     "execution_count": 442,
     "metadata": {},
     "output_type": "execute_result"
    }
   ],
   "source": [
    "#newdeck = Deck()\n",
    "#len(newdeck.allcards)"
   ]
  },
  {
   "cell_type": "code",
   "execution_count": 192,
   "metadata": {},
   "outputs": [],
   "source": [
    "##PRINT ALL WORKS\n",
    "#for i in newdeck.allcards:\n",
    "#    print(i) \n",
    "\n",
    "##REMOVE CARD WORKS AND ASSIGNS TO NEW VARIABLE\n",
    "#a = newdeck.removecard()\n",
    "#print(a)"
   ]
  },
  {
   "cell_type": "code",
   "execution_count": 481,
   "metadata": {},
   "outputs": [
    {
     "name": "stdout",
     "output_type": "stream",
     "text": [
      "<__main__.Deck object at 0x000001CEDCB38A30>\n"
     ]
    },
    {
     "data": {
      "text/plain": [
       "51"
      ]
     },
     "execution_count": 481,
     "metadata": {},
     "output_type": "execute_result"
    }
   ],
   "source": [
    "print(newdeck)\n",
    "#for i in cardlist:\n",
    "len(newdeck.allcards)\n",
    "#print(cardlist)"
   ]
  },
  {
   "cell_type": "code",
   "execution_count": 218,
   "metadata": {},
   "outputs": [],
   "source": [
    "''' \n",
    "class Bankroll():\n",
    "    \n",
    "    def __init__(self,player,amount):\n",
    "        self.player = player #maybe unneccessary\n",
    "        self.amount = amount\n",
    "        \n",
    "    def __str__(self):\n",
    "        return f'{self.player} has ${self.amount}'\n",
    "    \n",
    "    def addmoney(self,value):\n",
    "        self.amount += value\n",
    "        return self.amount\n",
    "    \n",
    "    def subtractmoney(self,value):\n",
    "        if self.amount > value:\n",
    "            self.amount -= value\n",
    "            return self.amount\n",
    "        else:\n",
    "            print (\"Your account does not have enough balance\")\n",
    "'''"
   ]
  },
  {
   "cell_type": "code",
   "execution_count": 220,
   "metadata": {},
   "outputs": [],
   "source": [
    "#test - creating, adding, subtracting work\n",
    "pool1 = Bankroll(\"DD\",500)\n",
    "pool2 = Bankroll(\"Bank\",1500)\n",
    "print(pool1)\n",
    "print(pool2)"
   ]
  },
  {
   "cell_type": "code",
   "execution_count": 226,
   "metadata": {},
   "outputs": [],
   "source": [
    "#test - preventing negative balance\n",
    "#pool2.subtractmoney(1300)\n",
    "#print(pool2)"
   ]
  },
  {
   "cell_type": "code",
   "execution_count": null,
   "metadata": {},
   "outputs": [],
   "source": []
  },
  {
   "cell_type": "code",
   "execution_count": 445,
   "metadata": {},
   "outputs": [],
   "source": [
    "class Player():\n",
    "    \n",
    "    \n",
    "    def __init__(self,player,amount):\n",
    "        self.player = player #maybe unneccessary\n",
    "        self.amount = amount\n",
    "        #to add bankroll initially or not???, or deck?\n",
    "        self.hiddencards = []\n",
    "        self.showedcards = []\n",
    "        self.purse = 0 #or Bankroll()\n",
    "        self.stakedpurse = 0\n",
    "        self.playerscore = 0\n",
    "        \n",
    "    def __str__(self):\n",
    "        return f'{self.player} has ${self.amount}'\n",
    "    \n",
    "    def addmoney(self,value):\n",
    "        self.amount += value\n",
    "        return self.amount\n",
    "    \n",
    "    def subtractmoney(self,value):\n",
    "        if self.amount > value:\n",
    "            self.amount -= value\n",
    "            return self.amount\n",
    "        else:\n",
    "            print (\"Your account does not have enough balance\")\n",
    "    \n",
    "    def hit(self):\n",
    "        #if self.hiddencards == []:\n",
    "        #a = self.hiddencards.append(newdeck.removecard())\n",
    "        #self.playerscore =+ self.hiddencards.append(newdeck.removecard()).value\n",
    "        #else:\n",
    "         #   self.hiddencards.extend(newdeck.removecard())\n",
    "            \n",
    "        #removes a card from the deck    \n",
    "        a = newdeck.removecard()\n",
    "        \n",
    "        #adds the card to the player's deck\n",
    "        self.hiddencards.append(a)\n",
    "        \n",
    "        #calculates the players total card score\n",
    "        self.playerscore += a.value\n",
    "    \n",
    "    def stay(self):\n",
    "        pass\n",
    "    \n",
    "    def calcscore(self):\n",
    "        #for i in self.hiddencards:\n",
    "        #self.playerscore = self.hiddencards[0].value\n",
    "        return self.playerscore\n",
    "        \n",
    "        \n"
   ]
  },
  {
   "cell_type": "code",
   "execution_count": 454,
   "metadata": {},
   "outputs": [
    {
     "name": "stdout",
     "output_type": "stream",
     "text": [
      "DF has $2000\n"
     ]
    }
   ],
   "source": [
    "#create player with his purse\n",
    "play1 = Player(\"DF\", 2000)\n",
    "print(play1)"
   ]
  },
  {
   "cell_type": "code",
   "execution_count": 449,
   "metadata": {},
   "outputs": [],
   "source": [
    "#Can add cards to my hidden deck\n",
    "play1.hit()"
   ]
  },
  {
   "cell_type": "code",
   "execution_count": 452,
   "metadata": {},
   "outputs": [
    {
     "name": "stdout",
     "output_type": "stream",
     "text": [
      "Seven of Hearts\n",
      "1\n"
     ]
    }
   ],
   "source": [
    "for i in play1.hiddencards:\n",
    "    print(i)\n",
    "#print(play1.hiddencards[1])#Can add cards to my hidden deck\n",
    "print(len(play1.hiddencards))"
   ]
  },
  {
   "cell_type": "code",
   "execution_count": null,
   "metadata": {},
   "outputs": [],
   "source": [
    "#RETURN player's score\n",
    "play1.calcscore()\n",
    "#internal running total of player's score\n",
    "play1.playerscore"
   ]
  },
  {
   "cell_type": "code",
   "execution_count": null,
   "metadata": {},
   "outputs": [],
   "source": [
    "def checkscore():\n",
    "    if player1.playerscore > computer.playerscore:\n",
    "        #return (f'{player1} has won the round')\n",
    "        return True\n",
    "    else:\n",
    "        #return (f'{computer} has won the round')\n",
    "        return False"
   ]
  },
  {
   "cell_type": "code",
   "execution_count": 546,
   "metadata": {},
   "outputs": [],
   "source": [
    "def over21(self):\n",
    "    return self.playerscore > 21\n",
    "        #print (\"BUST\")\n",
    "       # return True"
   ]
  },
  {
   "cell_type": "code",
   "execution_count": 580,
   "metadata": {},
   "outputs": [
    {
     "name": "stdout",
     "output_type": "stream",
     "text": [
      "Enter your name: pot\n",
      "Enter your waging balance: 56\n",
      "---------------------------------------------\n",
      "Pot has $56\n",
      "The House has $4231\n",
      "---------------------------------------------\n",
      "The Game has started!\n",
      "Player 1 has 2 cards\n",
      "The House has 2 cards\n",
      "---------------------------------------------\n",
      "Player1 has this card: \n",
      "Five of Hearts and King of Clubs\n",
      "The House has this card: \n",
      "Eight of Hearts\n",
      "Do you want to end round now? (Y or N) n\n",
      "Do you want to Hit or Stay? (H or S): h\n",
      "Four of Diamonds\n",
      "BUST, The House wins\n",
      "Player 1: 22\n",
      "The House: 15\n"
     ]
    }
   ],
   "source": [
    "### GAME LOGIC\n",
    "\n",
    "#START GAME\n",
    "#gamechoice = input(\"Do you want to start the Blackjack game? (Y or N): \").upper()\n",
    "\n",
    "\n",
    "#if gamechoice == \"Y\":\n",
    "#    pass #print(\"a\") #pass\n",
    "#else:\n",
    "#   print(\"Goodbye!\")\n",
    "\n",
    "#PLAYER CHOOSES NAME AND STARTING MONEY \n",
    "playername = input(\"Enter your name: \").capitalize()\n",
    "startingmoneycheck = False\n",
    "startingmoney = \"\"\n",
    "checkscoretally = \"\"\n",
    "overcheck = False\n",
    "\n",
    "while startingmoneycheck == False:\n",
    "    \n",
    "    amountent = input(\"Enter your waging balance: \")\n",
    "    if amountent.isdigit() == True:        \n",
    "        startingmoney = int(amountent)\n",
    "        startingmoneycheck == True\n",
    "        break\n",
    "    else:\n",
    "        print(\"That is not a number, please try again|\")\n",
    "\n",
    "#CREATE PLATER #COMPUTER PLAYER(HOUSE) IS AUTO CREATED\n",
    "player1 = Player(playername, startingmoney)\n",
    "computer = Player(\"The House\",random.randint(2000,5000))\n",
    "print(\"---------------------------------------------\")\n",
    "print(player1)\n",
    "print(computer)\n",
    "\n",
    "#SHUFFLE CARDS AND ADD CARDS TO BOTH PC AND HOUSE DECKS\n",
    "newdeck = Deck()\n",
    "len(newdeck.allcards)\n",
    "\n",
    "for i in range(2):\n",
    "    player1.hit()\n",
    "    computer.hit()\n",
    "\n",
    "    \n",
    "def printcardnumber(name):\n",
    "    return f'{name} has {len(name.hiddencards)} cards'\n",
    "\n",
    "print(\"---------------------------------------------\")\n",
    "print(\"The Game has started!\")\n",
    "print(f'Player 1 has {len(player1.hiddencards)} cards')\n",
    "print(f'The House has {len(computer.hiddencards)} cards')\n",
    "print(\"---------------------------------------------\")\n",
    "\n",
    "#SHOW ONE OF HOUSE CARDS\n",
    "print('Player1 has this card: \\n'+ str(player1.hiddencards[0])+\" and \" +str(player1.hiddencards[1]))\n",
    "\n",
    "print('The House has this card: \\n'+ str(computer.hiddencards[0]))\n",
    "#printcardnumber(player1)\n",
    "#printcardnumber(computer)\n",
    "\n",
    "\n",
    "\n",
    "#AFTER 1ST CARD SHARE, CALCULATE BOTH SCORES, SHOULD BE AUTO, OR MAYBE KEEP IN A TRACKER #HIDDEN\n",
    "#print(player1.playerscore)\n",
    "#print(computer.playerscore)\n",
    "\n",
    "\n",
    "\n",
    "#DOES PLAYER WANT TO END ROUND NOW\n",
    "\n",
    "\n",
    "\n",
    "while overcheck == False:\n",
    "    \n",
    "    gamepauser = True\n",
    "    checknow = input(\"Do you want to end round now? (Y or N) \").upper()\n",
    "\n",
    "    if checknow == \"Y\":\n",
    "        overcheck = True\n",
    "        gamepauser = False\n",
    "        #checkscore()\n",
    "        #print(player1.playerscore)\n",
    "        #print(computer.playerscore)\n",
    "        #break\n",
    "    else:\n",
    "        pass\n",
    "\n",
    "    ## REPEATING #PLAYER CAN REQUEST FOR A CARD - HIT OR STAY #HOUSE ALSO REQUESTS FOR A CARD\n",
    "    #gamepauser = True\n",
    "\n",
    "    asknextmove = \"\"\n",
    "\n",
    "    while gamepauser == True:    \n",
    "\n",
    "        possiblechoices = [\"H\",\"S\"]\n",
    "        asknextmove = input(\"Do you want to Hit or Stay? (H or S): \").upper()\n",
    "\n",
    "        if asknextmove == \"H\":\n",
    "            player1.hit()\n",
    "            print(player1.hiddencards[-1]) #'Player1 has added this card: \\n'+ acard)\n",
    "            #i player.playerscore >21\n",
    "            #reak\n",
    "            overcheck = over21(player1)\n",
    "            #print(over21(player1))\n",
    "            #print(overcheck)\n",
    "            if overcheck ==True:\n",
    "                #print(gamepauser)\n",
    "                gamepauser == False\n",
    "                break\n",
    "            else:\n",
    "                computer.hit()\n",
    "                overcheck = over21(computer)\n",
    "                if overcheck == True:\n",
    "                    #print(gamepauser)\n",
    "                    gamepauser == False\n",
    "                    break\n",
    "\n",
    "            #print(player1.playerscore)\n",
    "            #print(computer.playerscore)\n",
    "            #checkscore()\n",
    "        elif asknextmove == \"S\":\n",
    "            computer.hit()\n",
    "            overcheck = over21(computer)\n",
    "            if overcheck == True:\n",
    "                #print(gamepauser)\n",
    "                gamepauser == False\n",
    "                break\n",
    "            #pass\n",
    "        else:\n",
    "            print(\"Incorrect entry, choose H or S\")\n",
    "            pass\n",
    "\n",
    "else:    \n",
    "    if over21(player1) == True:\n",
    "        print(\"BUST, The House wins\")\n",
    "        print(\"Player 1: \"+str(player1.playerscore))\n",
    "        print(\"The House: \"+str(computer.playerscore))\n",
    "    elif over21(computer) == True:\n",
    "        print (\"The House BUST, Player 1 wins\")\n",
    "        print(\"Player 1: \"+str(player1.playerscore))\n",
    "        print(\"The House: \"+str(computer.playerscore))\n",
    "    elif player1.playerscore > computer.playerscore:\n",
    "        print (\"Player 1 wins\")\n",
    "        print(\"Player 1: \"+str(player1.playerscore))\n",
    "        print(\"The House: \"+str(computer.playerscore))\n",
    "    else:\n",
    "        print (\"The House wins\")\n",
    "        print(\"Player 1: \"+str(player1.playerscore))\n",
    "        print(\"The House: \"+str(computer.playerscore))\n",
    "    #checkscore()  \n",
    "    \n",
    "                  \n",
    "                  \n",
    "                  \n",
    "                  \n",
    "    #RECALC SCORES AND CHECK WINNER OR BUST \n",
    "\n",
    "    #ASK TO START AGAIN\n"
   ]
  },
  {
   "cell_type": "code",
   "execution_count": null,
   "metadata": {},
   "outputs": [],
   "source": [
    "print(startingmoney)"
   ]
  },
  {
   "cell_type": "code",
   "execution_count": 478,
   "metadata": {},
   "outputs": [
    {
     "name": "stdout",
     "output_type": "stream",
     "text": [
      "2421\n"
     ]
    }
   ],
   "source": []
  },
  {
   "cell_type": "code",
   "execution_count": null,
   "metadata": {},
   "outputs": [],
   "source": []
  }
 ],
 "metadata": {
  "kernelspec": {
   "display_name": "Python 3",
   "language": "python",
   "name": "python3"
  },
  "language_info": {
   "codemirror_mode": {
    "name": "ipython",
    "version": 3
   },
   "file_extension": ".py",
   "mimetype": "text/x-python",
   "name": "python",
   "nbconvert_exporter": "python",
   "pygments_lexer": "ipython3",
   "version": "3.8.5"
  }
 },
 "nbformat": 4,
 "nbformat_minor": 4
}
