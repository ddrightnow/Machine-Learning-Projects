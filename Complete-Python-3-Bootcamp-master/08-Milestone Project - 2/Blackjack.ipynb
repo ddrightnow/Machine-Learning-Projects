{
 "cells": [
  {
   "cell_type": "code",
   "execution_count": 1,
   "metadata": {},
   "outputs": [],
   "source": [
    "#create 3 base object classes - cards, decks, bankroll\n",
    "\n",
    "#create players - pc and human\n",
    "#add player actions\n",
    "\n",
    "#add rules\n",
    "#add game logic"
   ]
  },
  {
   "cell_type": "code",
   "execution_count": 43,
   "metadata": {},
   "outputs": [],
   "source": [
    "# card class - suit,rank,value\n",
    "#deck - 52 unit card class\n",
    "import random\n",
    "\n",
    "\n",
    "suits = ('Hearts', 'Diamonds', 'Spades', 'Clubs')\n",
    "ranks = ('Two', 'Three', 'Four', 'Five', 'Six', 'Seven', 'Eight', 'Nine', 'Ten', 'Jack', 'Queen', 'King', 'Ace')\n",
    "values = {'Two':2, 'Three':3, 'Four':4, 'Five':5, 'Six':6, 'Seven':7, 'Eight':8, \n",
    "            'Nine':9, 'Ten':10, 'Jack':11, 'Queen':12, 'King':13, 'Ace':14}"
   ]
  },
  {
   "cell_type": "code",
   "execution_count": 44,
   "metadata": {},
   "outputs": [
    {
     "data": {
      "text/plain": [
       "2"
      ]
     },
     "execution_count": 44,
     "metadata": {},
     "output_type": "execute_result"
    }
   ],
   "source": [
    "values[\"Two\"]"
   ]
  },
  {
   "cell_type": "code",
   "execution_count": 92,
   "metadata": {},
   "outputs": [
    {
     "data": {
      "text/plain": [
       "'\\nfor making deck\\ncardlist=[]\\nfor i in suits:\\n    for j in ranks:\\n        card = Card(i,j)\\n        cardlist.append(card)\\n\\n\\n'"
      ]
     },
     "execution_count": 92,
     "metadata": {},
     "output_type": "execute_result"
    }
   ],
   "source": [
    "#old code - unused:\n",
    "\n",
    "'''\n",
    "for making deck\n",
    "cardlist=[]\n",
    "for i in suits:\n",
    "    for j in ranks:\n",
    "        card = Card(i,j)\n",
    "        cardlist.append(card)\n",
    "\n",
    "\n",
    "'''"
   ]
  },
  {
   "cell_type": "code",
   "execution_count": 85,
   "metadata": {},
   "outputs": [],
   "source": [
    "class Card:\n",
    "    def __init__(self,suit,rank):\n",
    "        self.suit = suit\n",
    "        self.rank = rank\n",
    "        self.value = values[rank]\n",
    "        \n",
    "    def __str__(self):\n",
    "        return f'{self.rank} of {self.suit}'\n",
    "        "
   ]
  },
  {
   "cell_type": "code",
   "execution_count": 86,
   "metadata": {},
   "outputs": [
    {
     "name": "stdout",
     "output_type": "stream",
     "text": [
      "14\n"
     ]
    }
   ],
   "source": [
    "card = Card('Hearts','Ace')\n",
    "print(card.value)"
   ]
  },
  {
   "cell_type": "code",
   "execution_count": 185,
   "metadata": {},
   "outputs": [],
   "source": [
    "class Deck():\n",
    "\n",
    "\n",
    "    def __init__(self):\n",
    "        self.allcards = []\n",
    "        for i in suits:\n",
    "            for j in ranks:\n",
    "                card = Card(i,j)\n",
    "                self.allcards.append(card)\n",
    "                random.shuffle(self.allcards)\n",
    "    \n",
    "    def removecard(self):\n",
    "        return self.allcards.pop(0)"
   ]
  },
  {
   "cell_type": "code",
   "execution_count": 186,
   "metadata": {},
   "outputs": [
    {
     "data": {
      "text/plain": [
       "52"
      ]
     },
     "execution_count": 186,
     "metadata": {},
     "output_type": "execute_result"
    }
   ],
   "source": [
    "newdeck = Deck()\n",
    "len(newdeck.allcards)"
   ]
  },
  {
   "cell_type": "code",
   "execution_count": 192,
   "metadata": {},
   "outputs": [],
   "source": [
    "##PRINT ALL WORKS\n",
    "#for i in newdeck.allcards:\n",
    "#    print(i) \n",
    "\n",
    "##REMOVE CARD WORKS AND ASSIGNS TO NEW VARIABLE\n",
    "#a = newdeck.removecard()\n",
    "#print(a)"
   ]
  },
  {
   "cell_type": "code",
   "execution_count": 194,
   "metadata": {},
   "outputs": [
    {
     "name": "stdout",
     "output_type": "stream",
     "text": [
      "<__main__.Deck object at 0x000001CEDC68CF40>\n"
     ]
    },
    {
     "data": {
      "text/plain": [
       "50"
      ]
     },
     "execution_count": 194,
     "metadata": {},
     "output_type": "execute_result"
    }
   ],
   "source": [
    "print(newdeck)\n",
    "#for i in cardlist:\n",
    "len(newdeck.allcards)\n",
    "#print(cardlist)"
   ]
  },
  {
   "cell_type": "code",
   "execution_count": 218,
   "metadata": {},
   "outputs": [],
   "source": [
    "class Bankroll():\n",
    "    \n",
    "    def __init__(self,player,amount):\n",
    "        self.player = player\n",
    "        self.amount = amount\n",
    "        \n",
    "    def __str__(self):\n",
    "        return f'{self.player} has ${self.amount}'\n",
    "    \n",
    "    def addmoney(self,value):\n",
    "        self.amount += value\n",
    "        return self.amount\n",
    "    \n",
    "    def subtractmoney(self,value):\n",
    "        if self.amount > value:\n",
    "            self.amount -= value\n",
    "            return self.amount\n",
    "        else:\n",
    "            print (\"Your account does not have enough balance\")"
   ]
  },
  {
   "cell_type": "code",
   "execution_count": 220,
   "metadata": {},
   "outputs": [],
   "source": [
    "#test - creating, adding, subtracting work\n",
    "pool1 = Bankroll(\"DD\",500)\n",
    "pool2 = Bankroll(\"Bank\",1500)"
   ]
  },
  {
   "cell_type": "code",
   "execution_count": 221,
   "metadata": {},
   "outputs": [
    {
     "name": "stdout",
     "output_type": "stream",
     "text": [
      "DD has $500\n",
      "Bank has $1500\n"
     ]
    }
   ],
   "source": [
    "print(pool1)\n",
    "print(pool2)"
   ]
  },
  {
   "cell_type": "code",
   "execution_count": 225,
   "metadata": {},
   "outputs": [
    {
     "name": "stdout",
     "output_type": "stream",
     "text": [
      "Your account does not have enough balance\n",
      "Bank has $200\n"
     ]
    }
   ],
   "source": [
    "pool2.subtractmoney(1300)\n",
    "print(pool2)"
   ]
  },
  {
   "cell_type": "code",
   "execution_count": null,
   "metadata": {},
   "outputs": [],
   "source": []
  },
  {
   "cell_type": "code",
   "execution_count": null,
   "metadata": {},
   "outputs": [],
   "source": []
  }
 ],
 "metadata": {
  "kernelspec": {
   "display_name": "Python 3",
   "language": "python",
   "name": "python3"
  },
  "language_info": {
   "codemirror_mode": {
    "name": "ipython",
    "version": 3
   },
   "file_extension": ".py",
   "mimetype": "text/x-python",
   "name": "python",
   "nbconvert_exporter": "python",
   "pygments_lexer": "ipython3",
   "version": "3.8.5"
  }
 },
 "nbformat": 4,
 "nbformat_minor": 4
}
