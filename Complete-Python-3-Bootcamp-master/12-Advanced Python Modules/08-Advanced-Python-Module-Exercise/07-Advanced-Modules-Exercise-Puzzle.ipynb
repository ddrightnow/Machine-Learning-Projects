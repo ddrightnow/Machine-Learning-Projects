{
 "cells": [
  {
   "cell_type": "markdown",
   "metadata": {},
   "source": [
    "___\n",
    "\n",
    "<a href='https://www.udemy.com/user/joseportilla/'><img src='../../Pierian_Data_Logo.png'/></a>\n",
    "___\n",
    "<center><em>Content Copyright by Pierian Data</em></center>"
   ]
  },
  {
   "cell_type": "markdown",
   "metadata": {},
   "source": [
    "# Advanced Modules Exercise Puzzle\n",
    "\n",
    "It's time to test your new skills, this puzzle project will combine multiple skills sets, including unzipping files with Python, using os module to automatically search through lots of files.\n",
    "\n",
    "## Your Goal\n",
    "\n",
    "This is a puzzle, so we don't want to give you too much guidance and instead have you figure out things on your own.\n",
    "\n",
    "There is a .zip file called 'unzip_me_for_instructions.zip', unzip it, open the .txt file with Python, read the instructions and see if you can figure out what you need to do!\n",
    "\n",
    "**If you get stuck or don't know where to start, here is a [guide/hints](https://docs.google.com/document/d/1JxydUr4n4fSR0EwwuwT-aHia-yPK6r-oTBuVT2sqheo/edit?usp=sharing)**"
   ]
  },
  {
   "cell_type": "code",
   "execution_count": 80,
   "metadata": {},
   "outputs": [],
   "source": [
    "import shutil\n",
    "import re\n",
    "import os #path #= os.getcwd()"
   ]
  },
  {
   "cell_type": "code",
   "execution_count": 81,
   "metadata": {},
   "outputs": [],
   "source": [
    "path = os.getcwd()"
   ]
  },
  {
   "cell_type": "code",
   "execution_count": 82,
   "metadata": {},
   "outputs": [
    {
     "data": {
      "text/plain": [
       "'C:\\\\Users\\\\User\\\\Desktop\\\\EDUCATION\\\\Python Learning\\\\Complete-Python-3-Bootcamp-master\\\\12-Advanced Python Modules\\\\08-Advanced-Python-Module-Exercise\\\\PuzzleDir\\\\extracted_content\\\\One'"
      ]
     },
     "execution_count": 82,
     "metadata": {},
     "output_type": "execute_result"
    }
   ],
   "source": [
    "path"
   ]
  },
  {
   "cell_type": "code",
   "execution_count": 5,
   "metadata": {},
   "outputs": [],
   "source": [
    "shutil.unpack_archive('unzip_me_for_instructions.zip','PuzzleDir','zip')"
   ]
  },
  {
   "cell_type": "code",
   "execution_count": 13,
   "metadata": {},
   "outputs": [
    {
     "data": {
      "text/plain": [
       "['.ipynb_checkpoints',\n",
       " '07-Advanced-Modules-Exercise-Puzzle.ipynb',\n",
       " '08-Advanced-Modules-Exercise-Solutions.ipynb',\n",
       " 'extracted_content',\n",
       " 'PuzzleDir',\n",
       " 'unzip_me_for_instructions.zip']"
      ]
     },
     "execution_count": 13,
     "metadata": {},
     "output_type": "execute_result"
    }
   ],
   "source": [
    "os.listdir()"
   ]
  },
  {
   "cell_type": "code",
   "execution_count": 21,
   "metadata": {},
   "outputs": [],
   "source": [
    "#os.open('PuzzleDir',2)\n",
    "path = os.path.dirname(path)\n",
    "#os.startfile(path)"
   ]
  },
  {
   "cell_type": "code",
   "execution_count": 22,
   "metadata": {},
   "outputs": [
    {
     "data": {
      "text/plain": [
       "'C:\\\\Users\\\\User\\\\Desktop\\\\EDUCATION\\\\Python Learning\\\\Complete-Python-3-Bootcamp-master\\\\12-Advanced Python Modules\\\\08-Advanced-Python-Module-Exercise'"
      ]
     },
     "execution_count": 22,
     "metadata": {},
     "output_type": "execute_result"
    }
   ],
   "source": [
    "pwd"
   ]
  },
  {
   "cell_type": "code",
   "execution_count": 25,
   "metadata": {},
   "outputs": [],
   "source": [
    "os.startfile(\"PuzzleDir\")"
   ]
  },
  {
   "cell_type": "code",
   "execution_count": 54,
   "metadata": {},
   "outputs": [],
   "source": [
    "#os.chdir(\"PuzzleDir\")"
   ]
  },
  {
   "cell_type": "code",
   "execution_count": 83,
   "metadata": {},
   "outputs": [
    {
     "data": {
      "text/plain": [
       "'C:\\\\Users\\\\User\\\\Desktop\\\\EDUCATION\\\\Python Learning\\\\Complete-Python-3-Bootcamp-master\\\\12-Advanced Python Modules\\\\08-Advanced-Python-Module-Exercise\\\\PuzzleDir\\\\extracted_content\\\\One'"
      ]
     },
     "execution_count": 83,
     "metadata": {},
     "output_type": "execute_result"
    }
   ],
   "source": [
    "pwd"
   ]
  },
  {
   "cell_type": "code",
   "execution_count": 84,
   "metadata": {},
   "outputs": [
    {
     "data": {
      "text/plain": [
       "['HDOHZHFSTTK.txt',\n",
       " 'HFUTPPAXDIS.txt',\n",
       " 'HMNZTLIFGPD.txt',\n",
       " 'HRQFTHKVJTL.txt',\n",
       " 'HVUTZEVMSBW.txt',\n",
       " 'JDLRVFCXYLU.txt',\n",
       " 'JEHBLZPUPSP.txt',\n",
       " 'JLTXKIGCWDL.txt',\n",
       " 'JQUOBKFUACN.txt',\n",
       " 'JTHSNBNPQSE.txt',\n",
       " 'KCXGNQCZBLO.txt',\n",
       " 'KFIUZFERLET.txt',\n",
       " 'KMMLGJOWLGI.txt',\n",
       " 'KNBSKDREHQU.txt',\n",
       " 'KTXDHIOKAUI.txt',\n",
       " 'LDGOCUQJNNS.txt',\n",
       " 'LFEATJAAYDC.txt',\n",
       " 'LHODFIKVTQA.txt',\n",
       " 'LIFDHOFKWOI.txt',\n",
       " 'LPNDVDXPZIG.txt',\n",
       " 'PDJMSMNKIRM.txt',\n",
       " 'PHWAVPEKAER.txt',\n",
       " 'PLYCGPVEAWO.txt',\n",
       " 'PQNVCVJINAR.txt',\n",
       " 'PTOBBCJYURJ.txt']"
      ]
     },
     "execution_count": 84,
     "metadata": {},
     "output_type": "execute_result"
    }
   ],
   "source": [
    "os.listdir()"
   ]
  },
  {
   "cell_type": "code",
   "execution_count": 30,
   "metadata": {},
   "outputs": [],
   "source": [
    "os.startfile(\"extracted_content\")"
   ]
  },
  {
   "cell_type": "code",
   "execution_count": 51,
   "metadata": {},
   "outputs": [
    {
     "ename": "FileNotFoundError",
     "evalue": "[WinError 2] The system cannot find the file specified: 'extracted_content'",
     "output_type": "error",
     "traceback": [
      "\u001b[1;31m---------------------------------------------------------------------------\u001b[0m",
      "\u001b[1;31mFileNotFoundError\u001b[0m                         Traceback (most recent call last)",
      "\u001b[1;32m<ipython-input-51-671548fd2a5e>\u001b[0m in \u001b[0;36m<module>\u001b[1;34m\u001b[0m\n\u001b[1;32m----> 1\u001b[1;33m \u001b[0mos\u001b[0m\u001b[1;33m.\u001b[0m\u001b[0mchdir\u001b[0m\u001b[1;33m(\u001b[0m\u001b[1;34m\"extracted_content\"\u001b[0m\u001b[1;33m)\u001b[0m\u001b[1;33m\u001b[0m\u001b[1;33m\u001b[0m\u001b[0m\n\u001b[0m",
      "\u001b[1;31mFileNotFoundError\u001b[0m: [WinError 2] The system cannot find the file specified: 'extracted_content'"
     ]
    }
   ],
   "source": [
    "os.chdir(\"extracted_content\")"
   ]
  },
  {
   "cell_type": "code",
   "execution_count": 49,
   "metadata": {},
   "outputs": [
    {
     "data": {
      "text/plain": [
       "['HDOHZHFSTTK.txt',\n",
       " 'HFUTPPAXDIS.txt',\n",
       " 'HMNZTLIFGPD.txt',\n",
       " 'HRQFTHKVJTL.txt',\n",
       " 'HVUTZEVMSBW.txt',\n",
       " 'JDLRVFCXYLU.txt',\n",
       " 'JEHBLZPUPSP.txt',\n",
       " 'JLTXKIGCWDL.txt',\n",
       " 'JQUOBKFUACN.txt',\n",
       " 'JTHSNBNPQSE.txt',\n",
       " 'KCXGNQCZBLO.txt',\n",
       " 'KFIUZFERLET.txt',\n",
       " 'KMMLGJOWLGI.txt',\n",
       " 'KNBSKDREHQU.txt',\n",
       " 'KTXDHIOKAUI.txt',\n",
       " 'LDGOCUQJNNS.txt',\n",
       " 'LFEATJAAYDC.txt',\n",
       " 'LHODFIKVTQA.txt',\n",
       " 'LIFDHOFKWOI.txt',\n",
       " 'LPNDVDXPZIG.txt',\n",
       " 'PDJMSMNKIRM.txt',\n",
       " 'PHWAVPEKAER.txt',\n",
       " 'PLYCGPVEAWO.txt',\n",
       " 'PQNVCVJINAR.txt',\n",
       " 'PTOBBCJYURJ.txt']"
      ]
     },
     "execution_count": 49,
     "metadata": {},
     "output_type": "execute_result"
    }
   ],
   "source": [
    "os.listdir()"
   ]
  },
  {
   "cell_type": "code",
   "execution_count": 41,
   "metadata": {},
   "outputs": [],
   "source": [
    "f = open('Instructions.txt', 'r')"
   ]
  },
  {
   "cell_type": "code",
   "execution_count": 48,
   "metadata": {},
   "outputs": [
    {
     "data": {
      "text/plain": [
       "''"
      ]
     },
     "execution_count": 48,
     "metadata": {},
     "output_type": "execute_result"
    }
   ],
   "source": [
    "f.read()"
   ]
  },
  {
   "cell_type": "code",
   "execution_count": 43,
   "metadata": {},
   "outputs": [],
   "source": [
    "os.chdir(\"One\")"
   ]
  },
  {
   "cell_type": "code",
   "execution_count": 93,
   "metadata": {},
   "outputs": [
    {
     "data": {
      "text/plain": [
       "'C:\\\\Users\\\\User\\\\Desktop\\\\EDUCATION\\\\Python Learning\\\\Complete-Python-3-Bootcamp-master\\\\12-Advanced Python Modules\\\\08-Advanced-Python-Module-Exercise\\\\PuzzleDir\\\\extracted_content\\\\One'"
      ]
     },
     "execution_count": 93,
     "metadata": {},
     "output_type": "execute_result"
    }
   ],
   "source": [
    "pwd"
   ]
  },
  {
   "cell_type": "code",
   "execution_count": 55,
   "metadata": {},
   "outputs": [
    {
     "ename": "SyntaxError",
     "evalue": "invalid syntax (<ipython-input-55-b60b9b9963af>, line 1)",
     "output_type": "error",
     "traceback": [
      "\u001b[1;36m  File \u001b[1;32m\"<ipython-input-55-b60b9b9963af>\"\u001b[1;36m, line \u001b[1;32m1\u001b[0m\n\u001b[1;33m    for file in pwd\u001b[0m\n\u001b[1;37m                   ^\u001b[0m\n\u001b[1;31mSyntaxError\u001b[0m\u001b[1;31m:\u001b[0m invalid syntax\n"
     ]
    }
   ],
   "source": [
    "for file in pwd\n",
    "\n",
    "with open('myfile.txt',mode='r') as f:\n",
    "    contents = f.readlines()"
   ]
  },
  {
   "cell_type": "code",
   "execution_count": 196,
   "metadata": {},
   "outputs": [],
   "source": [
    "#os.listdir()[0]\n",
    "toread = os.listdir()[0]\n",
    "\n",
    "f = open(toread,'r')\n",
    "testt = f.read()"
   ]
  },
  {
   "cell_type": "code",
   "execution_count": 223,
   "metadata": {},
   "outputs": [],
   "source": [
    "#testt"
   ]
  },
  {
   "cell_type": "code",
   "execution_count": 208,
   "metadata": {},
   "outputs": [
    {
     "data": {
      "text/plain": [
       "'doming'"
      ]
     },
     "execution_count": 208,
     "metadata": {},
     "output_type": "execute_result"
    }
   ],
   "source": [
    "tt = re.compile(r'doming')\n",
    "ttttr = re.search(tt,testt)\n",
    "booltr = bool(re.search(tt,testt))\n",
    "ttttr.group()"
   ]
  },
  {
   "cell_type": "code",
   "execution_count": 224,
   "metadata": {},
   "outputs": [],
   "source": [
    "#booltr"
   ]
  },
  {
   "cell_type": "code",
   "execution_count": 210,
   "metadata": {},
   "outputs": [
    {
     "name": "stdout",
     "output_type": "stream",
     "text": [
      "doming\n"
     ]
    }
   ],
   "source": [
    "if booltr == True:\n",
    "    print(ttttr.group())"
   ]
  },
  {
   "cell_type": "code",
   "execution_count": 77,
   "metadata": {},
   "outputs": [],
   "source": [
    "phone2 = re.search(r'\\d{3}-\\d{3}-\\d{4}', text)"
   ]
  },
  {
   "cell_type": "code",
   "execution_count": 108,
   "metadata": {},
   "outputs": [],
   "source": [
    "textout = f.read()"
   ]
  },
  {
   "cell_type": "code",
   "execution_count": 124,
   "metadata": {},
   "outputs": [],
   "source": [
    "#textout"
   ]
  },
  {
   "cell_type": "code",
   "execution_count": 176,
   "metadata": {},
   "outputs": [],
   "source": [
    "testext  = \"1 am going out 555-247-4532\"\n",
    "\n",
    "pattern = re.compile(r'(\\d{3})-(\\d{3})-(\\d{4})')\n",
    "results = re.search(pattern,testext)\n",
    "boolresult = bool(re.search(pattern,testext))\n",
    "#phone = re.search(r'\\d{3}-\\d{4}', testext)"
   ]
  },
  {
   "cell_type": "code",
   "execution_count": 177,
   "metadata": {},
   "outputs": [
    {
     "data": {
      "text/plain": [
       "'247'"
      ]
     },
     "execution_count": 177,
     "metadata": {},
     "output_type": "execute_result"
    }
   ],
   "source": [
    "results.group(2)\n",
    "\n",
    "print(results)"
   ]
  },
  {
   "cell_type": "code",
   "execution_count": null,
   "metadata": {},
   "outputs": [],
   "source": []
  },
  {
   "cell_type": "code",
   "execution_count": 173,
   "metadata": {},
   "outputs": [
    {
     "name": "stdout",
     "output_type": "stream",
     "text": [
      "ff\n"
     ]
    }
   ],
   "source": [
    "if type(int(results.group(3))) == type(5):\n",
    "    print('ff')"
   ]
  },
  {
   "cell_type": "code",
   "execution_count": 180,
   "metadata": {},
   "outputs": [
    {
     "data": {
      "text/plain": [
       "True"
      ]
     },
     "execution_count": 180,
     "metadata": {},
     "output_type": "execute_result"
    }
   ],
   "source": [
    "boolresult"
   ]
  },
  {
   "cell_type": "code",
   "execution_count": 227,
   "metadata": {},
   "outputs": [
    {
     "data": {
      "text/plain": [
       "'C:\\\\Users\\\\User\\\\Desktop\\\\EDUCATION\\\\Python Learning\\\\Complete-Python-3-Bootcamp-master\\\\12-Advanced Python Modules\\\\08-Advanced-Python-Module-Exercise\\\\PuzzleDir\\\\extracted_content'"
      ]
     },
     "execution_count": 227,
     "metadata": {},
     "output_type": "execute_result"
    }
   ],
   "source": [
    "pwd"
   ]
  },
  {
   "cell_type": "code",
   "execution_count": 230,
   "metadata": {},
   "outputs": [
    {
     "data": {
      "text/plain": [
       "['Five', 'Four', 'Instructions.txt', 'One', 'Three', 'Two']"
      ]
     },
     "execution_count": 230,
     "metadata": {},
     "output_type": "execute_result"
    }
   ],
   "source": [
    "os.listdir()"
   ]
  },
  {
   "cell_type": "code",
   "execution_count": 226,
   "metadata": {},
   "outputs": [],
   "source": [
    "os.chdir(\"..\")"
   ]
  },
  {
   "cell_type": "code",
   "execution_count": 231,
   "metadata": {},
   "outputs": [],
   "source": [
    "alldir = os.listdir()"
   ]
  },
  {
   "cell_type": "code",
   "execution_count": 240,
   "metadata": {},
   "outputs": [
    {
     "name": "stdout",
     "output_type": "stream",
     "text": [
      "DONE with this directory: Five|||||||||||||||||||||||||||||||||||||||||||||||||||||||\n",
      " \n",
      " \n",
      " \n",
      "TEXT NAME is: EMTGPSXQEJX.txt\n",
      "found text================================\n",
      "719-266-2837\n",
      "DONE with this directory: Four|||||||||||||||||||||||||||||||||||||||||||||||||||||||\n",
      " \n",
      " \n",
      " \n",
      "DONE with this directory: One|||||||||||||||||||||||||||||||||||||||||||||||||||||||\n",
      " \n",
      " \n",
      " \n",
      "DONE with this directory: Three|||||||||||||||||||||||||||||||||||||||||||||||||||||||\n",
      " \n",
      " \n",
      " \n",
      "DONE with this directory: Two|||||||||||||||||||||||||||||||||||||||||||||||||||||||\n",
      " \n",
      " \n",
      " \n"
     ]
    }
   ],
   "source": [
    "for eachdir in alldir:\n",
    "    if eachdir == \"Instructions.txt\":\n",
    "        pass\n",
    "    else:\n",
    "        os.chdir(eachdir)\n",
    "        \n",
    "        \n",
    "        #do x\n",
    "        toreada = os.listdir()\n",
    "\n",
    "        for eacharticle in toreada:\n",
    "            boolresultsa = False\n",
    "            fa = open(eacharticle,'r')\n",
    "            fan = fa.read()\n",
    "            #print (fan) ##TEST TO SEE TEXT\n",
    "            #phone = re.search(r'\\d{3}-\\d{3}-\\d{4}', fan)\n",
    "            patterna = re.compile(r'(\\d{3})-(\\d{3})-(\\d{4})')\n",
    "            #patterna = re.compile(r'Bibendumin ') ##TEST PATTERN\n",
    "            resultsa = re.search(patterna,fan)\n",
    "            boolresultsa = bool(re.search(patterna,fan))\n",
    "            #phone = re.search(r'\\w{10}', fan)\n",
    "            #if type(int(resultsa.group(1))) and type(int(resultsa.group(2))) and type(int(resultsa.group(3))) == type(5): #phone == True:\n",
    "            if boolresultsa == True:\n",
    "                resultsa.group()\n",
    "                print(f'TEXT NAME is: {eacharticle}')\n",
    "                print(\"found text================================\")\n",
    "                print (resultsa.group())\n",
    "            else:\n",
    "                #print(\"Nothing noticed\")\n",
    "                #print(f'{eacharticle}')\n",
    "                pass\n",
    "        \n",
    "        \n",
    "        \n",
    "        \n",
    "        \n",
    "        ##\n",
    "        print(f\"DONE with this directory: {eachdir}|||||||||||||||||||||||||||||||||||||||||||||||||||||||\")\n",
    "        print(\" \")\n",
    "        print(\" \")\n",
    "        print(\" \")\n",
    "        os.chdir(\"..\")"
   ]
  },
  {
   "cell_type": "code",
   "execution_count": 222,
   "metadata": {},
   "outputs": [
    {
     "name": "stdout",
     "output_type": "stream",
     "text": [
      "TEXT NAME is: HDOHZHFSTTK.txt\n",
      "found text================================\n",
      "Bibendumin \n",
      "Nothing noticed\n",
      "HFUTPPAXDIS.txt\n",
      "Nothing noticed\n",
      "HMNZTLIFGPD.txt\n",
      "Nothing noticed\n",
      "HRQFTHKVJTL.txt\n",
      "Nothing noticed\n",
      "HVUTZEVMSBW.txt\n",
      "Nothing noticed\n",
      "JDLRVFCXYLU.txt\n",
      "Nothing noticed\n",
      "JEHBLZPUPSP.txt\n",
      "Nothing noticed\n",
      "JLTXKIGCWDL.txt\n",
      "TEXT NAME is: JQUOBKFUACN.txt\n",
      "found text================================\n",
      "Bibendumin \n",
      "Nothing noticed\n",
      "JTHSNBNPQSE.txt\n",
      "Nothing noticed\n",
      "KCXGNQCZBLO.txt\n",
      "Nothing noticed\n",
      "KFIUZFERLET.txt\n",
      "TEXT NAME is: KMMLGJOWLGI.txt\n",
      "found text================================\n",
      "Bibendumin \n",
      "Nothing noticed\n",
      "KNBSKDREHQU.txt\n",
      "Nothing noticed\n",
      "KTXDHIOKAUI.txt\n",
      "Nothing noticed\n",
      "LDGOCUQJNNS.txt\n",
      "TEXT NAME is: LFEATJAAYDC.txt\n",
      "found text================================\n",
      "Bibendumin \n",
      "Nothing noticed\n",
      "LHODFIKVTQA.txt\n",
      "Nothing noticed\n",
      "LIFDHOFKWOI.txt\n",
      "Nothing noticed\n",
      "LPNDVDXPZIG.txt\n",
      "Nothing noticed\n",
      "PDJMSMNKIRM.txt\n",
      "Nothing noticed\n",
      "PHWAVPEKAER.txt\n",
      "Nothing noticed\n",
      "PLYCGPVEAWO.txt\n",
      "Nothing noticed\n",
      "PQNVCVJINAR.txt\n",
      "TEXT NAME is: PTOBBCJYURJ.txt\n",
      "found text================================\n",
      "Bibendumin \n"
     ]
    }
   ],
   "source": [
    "toreada = os.listdir()\n",
    "\n",
    "for eacharticle in toreada:\n",
    "    boolresultsa = False\n",
    "    fa = open(eacharticle,'r')\n",
    "    fan = fa.read()\n",
    "    #print (fan) ##TEST TO SEE TEXT\n",
    "    #phone = re.search(r'\\d{3}-\\d{3}-\\d{4}', fan)\n",
    "    #patterna = re.compile(r'(\\d{3})-(\\d{3})-(\\d{4})')\n",
    "    patterna = re.compile(r'Bibendumin ') ##TEST PATTERN\n",
    "    resultsa = re.search(patterna,fan)\n",
    "    boolresultsa = bool(re.search(patterna,fan))\n",
    "    #phone = re.search(r'\\w{10}', fan)\n",
    "    #if type(int(resultsa.group(1))) and type(int(resultsa.group(2))) and type(int(resultsa.group(3))) == type(5): #phone == True:\n",
    "    if boolresultsa == True:\n",
    "        resultsa.group()\n",
    "        print(f'TEXT NAME is: {eacharticle}')\n",
    "        print(\"found text================================\")\n",
    "        print (resultsa.group())\n",
    "    else:\n",
    "        print(\"Nothing noticed\")\n",
    "        print(f'{eacharticle}')\n",
    "    \n",
    "        "
   ]
  },
  {
   "cell_type": "code",
   "execution_count": null,
   "metadata": {},
   "outputs": [],
   "source": []
  }
 ],
 "metadata": {
  "anaconda-cloud": {},
  "kernelspec": {
   "display_name": "Python 3",
   "language": "python",
   "name": "python3"
  },
  "language_info": {
   "codemirror_mode": {
    "name": "ipython",
    "version": 3
   },
   "file_extension": ".py",
   "mimetype": "text/x-python",
   "name": "python",
   "nbconvert_exporter": "python",
   "pygments_lexer": "ipython3",
   "version": "3.8.5"
  }
 },
 "nbformat": 4,
 "nbformat_minor": 2
}
