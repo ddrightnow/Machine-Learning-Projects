{
 "cells": [
  {
   "cell_type": "markdown",
   "id": "d80063c3",
   "metadata": {
    "slideshow": {
     "slide_type": "slide"
    }
   },
   "source": [
    "# Proppit Analytics\n",
    "### January 2023"
   ]
  },
  {
   "cell_type": "code",
   "execution_count": 17,
   "id": "8c7366d1",
   "metadata": {
    "slideshow": {
     "slide_type": "skip"
    }
   },
   "outputs": [
    {
     "data": {
      "text/html": [
       "<script>\n",
       "code_show=true; \n",
       "function code_toggle() {\n",
       " if (code_show){\n",
       " $('div.input').hide();\n",
       " } else {\n",
       " $('div.input').show();\n",
       " }\n",
       " code_show = !code_show\n",
       "} \n",
       "$( document ).ready(code_toggle);\n",
       "</script>\n",
       "<form action=\"javascript:code_toggle()\"><input type=\"submit\" value=\"Click here to toggle on/off the raw code.\"></form>"
      ],
      "text/plain": [
       "<IPython.core.display.HTML object>"
      ]
     },
     "execution_count": 17,
     "metadata": {},
     "output_type": "execute_result"
    }
   ],
   "source": [
    "from IPython.display import HTML\n",
    "\n",
    "HTML('''<script>\n",
    "code_show=true; \n",
    "function code_toggle() {\n",
    " if (code_show){\n",
    " $('div.input').hide();\n",
    " } else {\n",
    " $('div.input').show();\n",
    " }\n",
    " code_show = !code_show\n",
    "} \n",
    "$( document ).ready(code_toggle);\n",
    "</script>\n",
    "<form action=\"javascript:code_toggle()\"><input type=\"submit\" value=\"Click here to toggle on/off the raw code.\"></form>''')"
   ]
  },
  {
   "cell_type": "markdown",
   "id": "49300ce8",
   "metadata": {
    "slideshow": {
     "slide_type": "slide"
    }
   },
   "source": [
    "# Analyze Proppit Data along these set criteria:\n",
    "\n",
    "Popularity:\n",
    "- Top Projects by Count of Leads\n",
    "- Top Projects per Location\n",
    "- Top Projects by Developer\n",
    "\n",
    "Pricing and Types of Leads:\n",
    "- Average Price of Leads\n",
    "- Lead Status\n",
    "- Type of Lead\n",
    "\n",
    "Leads Distribution\n",
    "- Count of Leads by Type and Price\n",
    "\n",
    "Timelines\n",
    "- Leads per Year\n",
    "- Leads per Year 2022\n",
    "- Leads per Year 2023\n",
    "- Leads per Weekday"
   ]
  },
  {
   "cell_type": "markdown",
   "id": "8aaa93ef",
   "metadata": {
    "slideshow": {
     "slide_type": "skip"
    }
   },
   "source": [
    "# "
   ]
  },
  {
   "cell_type": "markdown",
   "id": "8b214191",
   "metadata": {
    "slideshow": {
     "slide_type": "skip"
    }
   },
   "source": [
    "# Import Packages / Data / Create Backup"
   ]
  },
  {
   "cell_type": "code",
   "execution_count": 1,
   "id": "d37886e2",
   "metadata": {
    "slideshow": {
     "slide_type": "skip"
    }
   },
   "outputs": [],
   "source": [
    "import numpy as np\n",
    "import pandas as pd\n",
    "import seaborn as sns\n",
    "import matplotlib.pyplot as plt"
   ]
  },
  {
   "cell_type": "code",
   "execution_count": 3,
   "id": "09be71d8",
   "metadata": {
    "slideshow": {
     "slide_type": "skip"
    }
   },
   "outputs": [],
   "source": [
    "df = pd.read_csv('Proppit Analytics.csv')"
   ]
  },
  {
   "cell_type": "code",
   "execution_count": 370,
   "id": "63f6d35d",
   "metadata": {
    "slideshow": {
     "slide_type": "skip"
    }
   },
   "outputs": [
    {
     "data": {
      "text/html": [
       "<div>\n",
       "<style scoped>\n",
       "    .dataframe tbody tr th:only-of-type {\n",
       "        vertical-align: middle;\n",
       "    }\n",
       "\n",
       "    .dataframe tbody tr th {\n",
       "        vertical-align: top;\n",
       "    }\n",
       "\n",
       "    .dataframe thead th {\n",
       "        text-align: right;\n",
       "    }\n",
       "</style>\n",
       "<table border=\"1\" class=\"dataframe\">\n",
       "  <thead>\n",
       "    <tr style=\"text-align: right;\">\n",
       "      <th></th>\n",
       "      <th>Creation Date</th>\n",
       "      <th>Lead type</th>\n",
       "      <th>Contact name</th>\n",
       "      <th>Phone</th>\n",
       "      <th>Email</th>\n",
       "      <th>Message</th>\n",
       "      <th>Link ThailandProperty</th>\n",
       "      <th>Link DotProperty</th>\n",
       "      <th>Link Trovit</th>\n",
       "      <th>Link Mitula</th>\n",
       "      <th>...</th>\n",
       "      <th>Project name</th>\n",
       "      <th>Operation type</th>\n",
       "      <th>Area</th>\n",
       "      <th>Status</th>\n",
       "      <th>New_Price</th>\n",
       "      <th>date_full</th>\n",
       "      <th>date_year</th>\n",
       "      <th>date_month</th>\n",
       "      <th>date_weekday</th>\n",
       "      <th>zipcodes</th>\n",
       "    </tr>\n",
       "  </thead>\n",
       "  <tbody>\n",
       "    <tr>\n",
       "      <th>526</th>\n",
       "      <td>2022-12-23 14:19:44+00:00</td>\n",
       "      <td>Phone</td>\n",
       "      <td>Sarapron Limsoawakung</td>\n",
       "      <td>+66970518521</td>\n",
       "      <td>sarapron_lim@hotmail.com</td>\n",
       "      <td>NaN</td>\n",
       "      <td>https://www.thailand-property.com/ads/81f265e5...</td>\n",
       "      <td>https://www.dotproperty.co.th/ads/81f265e5-ded...</td>\n",
       "      <td>https://th.trovit.com/baan/listing/ad-title-sl...</td>\n",
       "      <td>https://baan.mitula.in.th/adform/81f265e5-dedd...</td>\n",
       "      <td>...</td>\n",
       "      <td>Niche Mono Ramkhamhaeng</td>\n",
       "      <td>Sale</td>\n",
       "      <td>NaN</td>\n",
       "      <td>New</td>\n",
       "      <td>2894975</td>\n",
       "      <td>2022-12-23</td>\n",
       "      <td>2022</td>\n",
       "      <td>NaN</td>\n",
       "      <td>Friday</td>\n",
       "      <td>10240</td>\n",
       "    </tr>\n",
       "    <tr>\n",
       "      <th>329</th>\n",
       "      <td>2022-08-19 05:57:58+00:00</td>\n",
       "      <td>Phone</td>\n",
       "      <td>Anna Nonwiwat</td>\n",
       "      <td>858483664</td>\n",
       "      <td>bkkpropertyexpert@gmail.com</td>\n",
       "      <td>NaN</td>\n",
       "      <td>https://www.thailand-property.com/ads/db8a5ed6...</td>\n",
       "      <td>https://www.dotproperty.co.th/ads/db8a5ed6-a7b...</td>\n",
       "      <td>https://th.trovit.com/baan/listing/ad-title-sl...</td>\n",
       "      <td>https://baan.mitula.in.th/adform/db8a5ed6-a7b6...</td>\n",
       "      <td>...</td>\n",
       "      <td>The Reserve Sukhumvit 61</td>\n",
       "      <td>Sale</td>\n",
       "      <td>NaN</td>\n",
       "      <td>New</td>\n",
       "      <td>9240000</td>\n",
       "      <td>2022-08-19</td>\n",
       "      <td>2022</td>\n",
       "      <td>NaN</td>\n",
       "      <td>Friday</td>\n",
       "      <td>10110</td>\n",
       "    </tr>\n",
       "    <tr>\n",
       "      <th>368</th>\n",
       "      <td>2022-07-06 21:29:15+00:00</td>\n",
       "      <td>Mail</td>\n",
       "      <td>Dan</td>\n",
       "      <td>+15149992180</td>\n",
       "      <td>thetvrocker@gmail.com</td>\n",
       "      <td>hi i'd like more info. thank you.</td>\n",
       "      <td>https://www.thailand-property.com/ads/817c239f...</td>\n",
       "      <td>https://www.dotproperty.co.th/ads/817c239f-5e8...</td>\n",
       "      <td>https://th.trovit.com/baan/listing/ad-title-sl...</td>\n",
       "      <td>https://baan.mitula.in.th/adform/817c239f-5e88...</td>\n",
       "      <td>...</td>\n",
       "      <td>Life Asoke Hype</td>\n",
       "      <td>Sale</td>\n",
       "      <td>NaN</td>\n",
       "      <td>New</td>\n",
       "      <td>6487311</td>\n",
       "      <td>2022-07-06</td>\n",
       "      <td>2022</td>\n",
       "      <td>NaN</td>\n",
       "      <td>Wednesday</td>\n",
       "      <td>10400</td>\n",
       "    </tr>\n",
       "    <tr>\n",
       "      <th>511</th>\n",
       "      <td>2022-04-18 02:20:58+00:00</td>\n",
       "      <td>Phone</td>\n",
       "      <td>Gosin Petnuannoi</td>\n",
       "      <td>+66863166800</td>\n",
       "      <td>gpetnuannoi@gmail.com</td>\n",
       "      <td>NaN</td>\n",
       "      <td>https://www.thailand-property.com/ads/807a860b...</td>\n",
       "      <td>https://www.dotproperty.co.th/ads/807a860b-c75...</td>\n",
       "      <td>https://th.trovit.com/baan/listing/ad-title-sl...</td>\n",
       "      <td>https://baan.mitula.in.th/adform/807a860b-c752...</td>\n",
       "      <td>...</td>\n",
       "      <td>The Matt Sukhumvit 101/1</td>\n",
       "      <td>Sale</td>\n",
       "      <td>NaN</td>\n",
       "      <td>Contacted</td>\n",
       "      <td>3193900</td>\n",
       "      <td>2022-04-18</td>\n",
       "      <td>2022</td>\n",
       "      <td>NaN</td>\n",
       "      <td>Monday</td>\n",
       "      <td>10260</td>\n",
       "    </tr>\n",
       "  </tbody>\n",
       "</table>\n",
       "<p>4 rows × 29 columns</p>\n",
       "</div>"
      ],
      "text/plain": [
       "                Creation Date Lead type           Contact name         Phone  \\\n",
       "526 2022-12-23 14:19:44+00:00     Phone  Sarapron Limsoawakung  +66970518521   \n",
       "329 2022-08-19 05:57:58+00:00     Phone          Anna Nonwiwat     858483664   \n",
       "368 2022-07-06 21:29:15+00:00      Mail                    Dan  +15149992180   \n",
       "511 2022-04-18 02:20:58+00:00     Phone       Gosin Petnuannoi  +66863166800   \n",
       "\n",
       "                           Email                            Message  \\\n",
       "526     sarapron_lim@hotmail.com                                NaN   \n",
       "329  bkkpropertyexpert@gmail.com                                NaN   \n",
       "368        thetvrocker@gmail.com  hi i'd like more info. thank you.   \n",
       "511        gpetnuannoi@gmail.com                                NaN   \n",
       "\n",
       "                                 Link ThailandProperty  \\\n",
       "526  https://www.thailand-property.com/ads/81f265e5...   \n",
       "329  https://www.thailand-property.com/ads/db8a5ed6...   \n",
       "368  https://www.thailand-property.com/ads/817c239f...   \n",
       "511  https://www.thailand-property.com/ads/807a860b...   \n",
       "\n",
       "                                      Link DotProperty  \\\n",
       "526  https://www.dotproperty.co.th/ads/81f265e5-ded...   \n",
       "329  https://www.dotproperty.co.th/ads/db8a5ed6-a7b...   \n",
       "368  https://www.dotproperty.co.th/ads/817c239f-5e8...   \n",
       "511  https://www.dotproperty.co.th/ads/807a860b-c75...   \n",
       "\n",
       "                                           Link Trovit  \\\n",
       "526  https://th.trovit.com/baan/listing/ad-title-sl...   \n",
       "329  https://th.trovit.com/baan/listing/ad-title-sl...   \n",
       "368  https://th.trovit.com/baan/listing/ad-title-sl...   \n",
       "511  https://th.trovit.com/baan/listing/ad-title-sl...   \n",
       "\n",
       "                                           Link Mitula  ...  \\\n",
       "526  https://baan.mitula.in.th/adform/81f265e5-dedd...  ...   \n",
       "329  https://baan.mitula.in.th/adform/db8a5ed6-a7b6...  ...   \n",
       "368  https://baan.mitula.in.th/adform/817c239f-5e88...  ...   \n",
       "511  https://baan.mitula.in.th/adform/807a860b-c752...  ...   \n",
       "\n",
       "                 Project name Operation type Area     Status New_Price  \\\n",
       "526   Niche Mono Ramkhamhaeng           Sale  NaN        New   2894975   \n",
       "329  The Reserve Sukhumvit 61           Sale  NaN        New   9240000   \n",
       "368           Life Asoke Hype           Sale  NaN        New   6487311   \n",
       "511  The Matt Sukhumvit 101/1           Sale  NaN  Contacted   3193900   \n",
       "\n",
       "      date_full date_year date_month  date_weekday zipcodes  \n",
       "526  2022-12-23      2022        NaN        Friday    10240  \n",
       "329  2022-08-19      2022        NaN        Friday    10110  \n",
       "368  2022-07-06      2022        NaN     Wednesday    10400  \n",
       "511  2022-04-18      2022        NaN        Monday    10260  \n",
       "\n",
       "[4 rows x 29 columns]"
      ]
     },
     "execution_count": 370,
     "metadata": {},
     "output_type": "execute_result"
    }
   ],
   "source": [
    "df.sample(4)"
   ]
  },
  {
   "cell_type": "code",
   "execution_count": 5,
   "id": "37a9111a",
   "metadata": {
    "slideshow": {
     "slide_type": "skip"
    }
   },
   "outputs": [
    {
     "data": {
      "text/plain": [
       "Index(['Creation Date', 'Lead type', 'Contact name', 'Phone', 'Email',\n",
       "       'Message', 'Link ThailandProperty', 'Link DotProperty', 'Link Trovit',\n",
       "       'Link Mitula', 'Link Nestoria', 'Link Hipflat', 'Reference number',\n",
       "       'Agency email', 'Title', 'Property type', 'Price', 'City', 'Bedrooms',\n",
       "       'Project name', 'Operation type', 'Area', 'Status'],\n",
       "      dtype='object')"
      ]
     },
     "execution_count": 5,
     "metadata": {},
     "output_type": "execute_result"
    }
   ],
   "source": [
    "df.columns"
   ]
  },
  {
   "cell_type": "code",
   "execution_count": 97,
   "id": "fa9f6568",
   "metadata": {
    "slideshow": {
     "slide_type": "skip"
    }
   },
   "outputs": [],
   "source": [
    "orig_df = df.copy()"
   ]
  },
  {
   "cell_type": "code",
   "execution_count": 465,
   "id": "caf4d3aa",
   "metadata": {
    "slideshow": {
     "slide_type": "skip"
    }
   },
   "outputs": [],
   "source": [
    "df = orig_df.copy()"
   ]
  },
  {
   "cell_type": "markdown",
   "id": "7c408ede",
   "metadata": {
    "slideshow": {
     "slide_type": "skip"
    }
   },
   "source": [
    "# "
   ]
  },
  {
   "cell_type": "markdown",
   "id": "41573d9d",
   "metadata": {
    "slideshow": {
     "slide_type": "skip"
    }
   },
   "source": [
    "# Data Wrangling and Formating"
   ]
  },
  {
   "cell_type": "code",
   "execution_count": 467,
   "id": "3bee3f49",
   "metadata": {
    "slideshow": {
     "slide_type": "skip"
    }
   },
   "outputs": [
    {
     "data": {
      "text/plain": [
       "0      2022-09-27T07:21:07Z\n",
       "1      2022-08-18T05:19:52Z\n",
       "2      2022-07-23T11:41:53Z\n",
       "3      2022-08-20T07:30:11Z\n",
       "4      2022-10-28T03:51:26Z\n",
       "               ...         \n",
       "564    2023-01-21T18:00:06Z\n",
       "565    2022-07-20T02:24:50Z\n",
       "566    2022-12-23T09:37:47Z\n",
       "567    2022-06-19T09:04:55Z\n",
       "568    2022-12-16T18:45:11Z\n",
       "Name: Creation Date, Length: 569, dtype: object"
      ]
     },
     "execution_count": 467,
     "metadata": {},
     "output_type": "execute_result"
    }
   ],
   "source": [
    "df['Creation Date']"
   ]
  },
  {
   "cell_type": "code",
   "execution_count": 468,
   "id": "a4d2e03b",
   "metadata": {
    "slideshow": {
     "slide_type": "skip"
    }
   },
   "outputs": [],
   "source": [
    "# Change timestamp column from datatype of object to timestamp\n",
    "df['Creation Date'] = pd.to_datetime(df['Creation Date']) "
   ]
  },
  {
   "cell_type": "code",
   "execution_count": 469,
   "id": "b30f7cf4",
   "metadata": {
    "slideshow": {
     "slide_type": "skip"
    }
   },
   "outputs": [
    {
     "data": {
      "text/plain": [
       "0     2022-09-27 07:21:07+00:00\n",
       "1     2022-08-18 05:19:52+00:00\n",
       "2     2022-07-23 11:41:53+00:00\n",
       "3     2022-08-20 07:30:11+00:00\n",
       "4     2022-10-28 03:51:26+00:00\n",
       "                 ...           \n",
       "564   2023-01-21 18:00:06+00:00\n",
       "565   2022-07-20 02:24:50+00:00\n",
       "566   2022-12-23 09:37:47+00:00\n",
       "567   2022-06-19 09:04:55+00:00\n",
       "568   2022-12-16 18:45:11+00:00\n",
       "Name: Creation Date, Length: 569, dtype: datetime64[ns, UTC]"
      ]
     },
     "execution_count": 469,
     "metadata": {},
     "output_type": "execute_result"
    }
   ],
   "source": [
    "df['Creation Date']"
   ]
  },
  {
   "cell_type": "code",
   "execution_count": 470,
   "id": "ba6aeb58",
   "metadata": {
    "slideshow": {
     "slide_type": "skip"
    }
   },
   "outputs": [],
   "source": [
    "df['date_full'] = df['Creation Date'].dt.date\n",
    "df['date_year'] = df['Creation Date'].dt.year\n",
    "df['date_month'] = df['Creation Date'].dt.month\n",
    "df['date_weekday'] = df['Creation Date'].dt.strftime('%A')"
   ]
  },
  {
   "cell_type": "code",
   "execution_count": 471,
   "id": "8f6aced5",
   "metadata": {
    "slideshow": {
     "slide_type": "skip"
    }
   },
   "outputs": [],
   "source": [
    "import calendar\n",
    "df['date_month'] = df['date_month'].apply(lambda x: calendar.month_abbr[x])"
   ]
  },
  {
   "cell_type": "code",
   "execution_count": 472,
   "id": "6c747c13",
   "metadata": {
    "slideshow": {
     "slide_type": "skip"
    }
   },
   "outputs": [
    {
     "data": {
      "text/plain": [
       "array(['Sep', 'Aug', 'Jul', 'Oct', 'Mar', 'Jun', 'Jan', 'Dec', 'Nov',\n",
       "       'May', 'Feb', 'Apr'], dtype=object)"
      ]
     },
     "execution_count": 472,
     "metadata": {},
     "output_type": "execute_result"
    }
   ],
   "source": [
    "df['date_month'].unique()"
   ]
  },
  {
   "cell_type": "code",
   "execution_count": 473,
   "id": "b3a19355",
   "metadata": {
    "slideshow": {
     "slide_type": "skip"
    }
   },
   "outputs": [],
   "source": [
    "# convert date month into ordered categorical types\n",
    "ordinal_var_dict = {\n",
    "    'date_month': ['Jan', 'Feb', 'Mar', 'Apr', 'May', 'Jun', 'Jul', 'Aug', 'Sep',\n",
    "       'Oct', 'Nov', 'Dec'],\n",
    "     'date_weekday': ['Sunday','Monday', 'Tuesday', 'Wednesday', 'Thursday', 'Friday', 'Saturday']              \n",
    "                   }\n",
    "\n",
    "for var in ordinal_var_dict:\n",
    "    ordered_var = pd.api.types.CategoricalDtype(ordered = True,\n",
    "                                                categories = ordinal_var_dict[var])\n",
    "    df[var] = df[var].astype(ordered_var)"
   ]
  },
  {
   "cell_type": "code",
   "execution_count": 474,
   "id": "ce004aef",
   "metadata": {
    "slideshow": {
     "slide_type": "skip"
    }
   },
   "outputs": [
    {
     "data": {
      "text/plain": [
       "Monday       129\n",
       "Friday        81\n",
       "Wednesday     81\n",
       "Tuesday       79\n",
       "Saturday      76\n",
       "Thursday      66\n",
       "Sunday        57\n",
       "Name: date_weekday, dtype: int64"
      ]
     },
     "execution_count": 474,
     "metadata": {},
     "output_type": "execute_result"
    }
   ],
   "source": [
    "df['date_weekday'].value_counts()"
   ]
  },
  {
   "cell_type": "code",
   "execution_count": 477,
   "id": "5a660004",
   "metadata": {
    "slideshow": {
     "slide_type": "skip"
    }
   },
   "outputs": [],
   "source": [
    "df['New_Price'] = df['Price'].apply(lambda x : x[:-1]).astype(int)"
   ]
  },
  {
   "cell_type": "code",
   "execution_count": 478,
   "id": "64e958a0",
   "metadata": {
    "slideshow": {
     "slide_type": "skip"
    }
   },
   "outputs": [],
   "source": [
    "def get_zipcode(x):\n",
    "    return \" \".join(re.findall(r'\\d\\d\\d\\d\\d', x))"
   ]
  },
  {
   "cell_type": "code",
   "execution_count": 479,
   "id": "bf100260",
   "metadata": {
    "slideshow": {
     "slide_type": "skip"
    }
   },
   "outputs": [],
   "source": [
    "df['zipcodes'] =  df['City'].apply(get_zipcode)"
   ]
  },
  {
   "cell_type": "code",
   "execution_count": 480,
   "id": "371e7863",
   "metadata": {
    "slideshow": {
     "slide_type": "skip"
    }
   },
   "outputs": [],
   "source": [
    "#df['City'].apply(lambda x : ''.join(re.findall(r'\\d\\d\\d\\d\\d', x) ))"
   ]
  },
  {
   "cell_type": "code",
   "execution_count": 481,
   "id": "86c0585a",
   "metadata": {
    "slideshow": {
     "slide_type": "skip"
    }
   },
   "outputs": [],
   "source": [
    "zipcode_df = pd.read_csv(\"zipcodelist.csv\")"
   ]
  },
  {
   "cell_type": "code",
   "execution_count": 482,
   "id": "c04562f4",
   "metadata": {
    "slideshow": {
     "slide_type": "skip"
    }
   },
   "outputs": [
    {
     "data": {
      "text/html": [
       "<div>\n",
       "<style scoped>\n",
       "    .dataframe tbody tr th:only-of-type {\n",
       "        vertical-align: middle;\n",
       "    }\n",
       "\n",
       "    .dataframe tbody tr th {\n",
       "        vertical-align: top;\n",
       "    }\n",
       "\n",
       "    .dataframe thead th {\n",
       "        text-align: right;\n",
       "    }\n",
       "</style>\n",
       "<table border=\"1\" class=\"dataframe\">\n",
       "  <thead>\n",
       "    <tr style=\"text-align: right;\">\n",
       "      <th></th>\n",
       "      <th>Country code</th>\n",
       "      <th>Post code</th>\n",
       "      <th>District</th>\n",
       "      <th>State</th>\n",
       "      <th>district2</th>\n",
       "      <th>district3</th>\n",
       "    </tr>\n",
       "  </thead>\n",
       "  <tbody>\n",
       "    <tr>\n",
       "      <th>356</th>\n",
       "      <td>TH</td>\n",
       "      <td>48140</td>\n",
       "      <td>Na Thom</td>\n",
       "      <td>Nakhon Phanom</td>\n",
       "      <td>NaN</td>\n",
       "      <td>NaN</td>\n",
       "    </tr>\n",
       "    <tr>\n",
       "      <th>349</th>\n",
       "      <td>TH</td>\n",
       "      <td>48000</td>\n",
       "      <td>Muang Nakhon Phanom</td>\n",
       "      <td>Nakhon Phanom</td>\n",
       "      <td>NaN</td>\n",
       "      <td>NaN</td>\n",
       "    </tr>\n",
       "    <tr>\n",
       "      <th>515</th>\n",
       "      <td>TH</td>\n",
       "      <td>63000</td>\n",
       "      <td>Muang Tak</td>\n",
       "      <td>Tak</td>\n",
       "      <td>NaN</td>\n",
       "      <td>NaN</td>\n",
       "    </tr>\n",
       "    <tr>\n",
       "      <th>173</th>\n",
       "      <td>TH</td>\n",
       "      <td>34280</td>\n",
       "      <td>Na Chaluai</td>\n",
       "      <td>Ubon Ratchathani</td>\n",
       "      <td>NaN</td>\n",
       "      <td>NaN</td>\n",
       "    </tr>\n",
       "  </tbody>\n",
       "</table>\n",
       "</div>"
      ],
      "text/plain": [
       "    Country code  Post code             District             State  district2  \\\n",
       "356           TH      48140              Na Thom     Nakhon Phanom        NaN   \n",
       "349           TH      48000  Muang Nakhon Phanom     Nakhon Phanom        NaN   \n",
       "515           TH      63000            Muang Tak               Tak        NaN   \n",
       "173           TH      34280           Na Chaluai  Ubon Ratchathani        NaN   \n",
       "\n",
       "     district3  \n",
       "356        NaN  \n",
       "349        NaN  \n",
       "515        NaN  \n",
       "173        NaN  "
      ]
     },
     "execution_count": 482,
     "metadata": {},
     "output_type": "execute_result"
    }
   ],
   "source": [
    "zipcode_df.sample(4)"
   ]
  },
  {
   "cell_type": "code",
   "execution_count": 483,
   "id": "b00ec055",
   "metadata": {
    "slideshow": {
     "slide_type": "skip"
    }
   },
   "outputs": [],
   "source": [
    "zipcode_df['Post code'] = zipcode_df['Post code'].astype(str)"
   ]
  },
  {
   "cell_type": "code",
   "execution_count": 484,
   "id": "8927d1c4",
   "metadata": {
    "slideshow": {
     "slide_type": "skip"
    }
   },
   "outputs": [],
   "source": [
    "df = pd.merge(df, zipcode_df, how='left', left_on = 'zipcodes', right_on = 'Post code')"
   ]
  },
  {
   "cell_type": "markdown",
   "id": "f57bd609",
   "metadata": {
    "slideshow": {
     "slide_type": "skip"
    }
   },
   "source": [
    "#### "
   ]
  },
  {
   "cell_type": "markdown",
   "id": "f46e7e3b",
   "metadata": {
    "slideshow": {
     "slide_type": "skip"
    }
   },
   "source": [
    "#### "
   ]
  },
  {
   "cell_type": "markdown",
   "id": "ff26b4a6",
   "metadata": {
    "slideshow": {
     "slide_type": "slide"
    }
   },
   "source": [
    "# Data Analysis"
   ]
  },
  {
   "cell_type": "markdown",
   "id": "d13d5d1b",
   "metadata": {
    "slideshow": {
     "slide_type": "slide"
    }
   },
   "source": [
    "# Popularity:\n",
    "- Top Projects by Count of Leads\n",
    "- Top Projects by Location\n",
    "- Top Projects by Developer"
   ]
  },
  {
   "cell_type": "markdown",
   "id": "f18c5da9",
   "metadata": {
    "slideshow": {
     "slide_type": "subslide"
    }
   },
   "source": [
    "Top Projects by Count of Leads"
   ]
  },
  {
   "cell_type": "code",
   "execution_count": 475,
   "id": "57824c1d",
   "metadata": {
    "slideshow": {
     "slide_type": "subslide"
    }
   },
   "outputs": [
    {
     "data": {
      "text/html": [
       "<div>\n",
       "<style scoped>\n",
       "    .dataframe tbody tr th:only-of-type {\n",
       "        vertical-align: middle;\n",
       "    }\n",
       "\n",
       "    .dataframe tbody tr th {\n",
       "        vertical-align: top;\n",
       "    }\n",
       "\n",
       "    .dataframe thead th {\n",
       "        text-align: right;\n",
       "    }\n",
       "</style>\n",
       "<table border=\"1\" class=\"dataframe\">\n",
       "  <thead>\n",
       "    <tr style=\"text-align: right;\">\n",
       "      <th></th>\n",
       "      <th>Project name</th>\n",
       "      <th>Creation Date</th>\n",
       "    </tr>\n",
       "  </thead>\n",
       "  <tbody>\n",
       "    <tr>\n",
       "      <th>0</th>\n",
       "      <td>NUE District R9</td>\n",
       "      <td>120</td>\n",
       "    </tr>\n",
       "    <tr>\n",
       "      <th>1</th>\n",
       "      <td>Noble BE19</td>\n",
       "      <td>19</td>\n",
       "    </tr>\n",
       "    <tr>\n",
       "      <th>2</th>\n",
       "      <td>Edge Central Pattaya</td>\n",
       "      <td>17</td>\n",
       "    </tr>\n",
       "    <tr>\n",
       "      <th>3</th>\n",
       "      <td>Life Asoke Hype</td>\n",
       "      <td>16</td>\n",
       "    </tr>\n",
       "    <tr>\n",
       "      <th>4</th>\n",
       "      <td>Aeras</td>\n",
       "      <td>15</td>\n",
       "    </tr>\n",
       "    <tr>\n",
       "      <th>5</th>\n",
       "      <td>Maestro 14 Siam - Ratchathewi</td>\n",
       "      <td>11</td>\n",
       "    </tr>\n",
       "    <tr>\n",
       "      <th>6</th>\n",
       "      <td>คอนโด มาเอสโตร 19 รัชดา19-วิภา</td>\n",
       "      <td>11</td>\n",
       "    </tr>\n",
       "    <tr>\n",
       "      <th>7</th>\n",
       "      <td>Quintara Treehaus Sukhumvit 42</td>\n",
       "      <td>10</td>\n",
       "    </tr>\n",
       "    <tr>\n",
       "      <th>8</th>\n",
       "      <td>โนเบิล อราวน์ เทอร์ตี้ทรี</td>\n",
       "      <td>9</td>\n",
       "    </tr>\n",
       "    <tr>\n",
       "      <th>9</th>\n",
       "      <td>แกรนด์ โซแลร์ พัทยา</td>\n",
       "      <td>9</td>\n",
       "    </tr>\n",
       "    <tr>\n",
       "      <th>10</th>\n",
       "      <td>SKYPARK</td>\n",
       "      <td>8</td>\n",
       "    </tr>\n",
       "  </tbody>\n",
       "</table>\n",
       "</div>"
      ],
      "text/plain": [
       "                      Project name  Creation Date\n",
       "0                  NUE District R9            120\n",
       "1                       Noble BE19             19\n",
       "2             Edge Central Pattaya             17\n",
       "3                  Life Asoke Hype             16\n",
       "4                            Aeras             15\n",
       "5    Maestro 14 Siam - Ratchathewi             11\n",
       "6   คอนโด มาเอสโตร 19 รัชดา19-วิภา             11\n",
       "7   Quintara Treehaus Sukhumvit 42             10\n",
       "8        โนเบิล อราวน์ เทอร์ตี้ทรี              9\n",
       "9              แกรนด์ โซแลร์ พัทยา              9\n",
       "10                         SKYPARK              8"
      ]
     },
     "execution_count": 475,
     "metadata": {},
     "output_type": "execute_result"
    }
   ],
   "source": [
    "df.groupby('Project name').count()['Creation Date'].sort_values(ascending=False)[:11].reset_index()"
   ]
  },
  {
   "cell_type": "markdown",
   "id": "efdb2729",
   "metadata": {
    "slideshow": {
     "slide_type": "skip"
    }
   },
   "source": [
    "#### "
   ]
  },
  {
   "cell_type": "code",
   "execution_count": 485,
   "id": "1dd54b01",
   "metadata": {
    "slideshow": {
     "slide_type": "skip"
    }
   },
   "outputs": [],
   "source": [
    "states = df.groupby('State').count()['Creation Date'].sort_values(ascending=False).reset_index()\n",
    "states.set_axis(['State', 'Count'], axis='columns', inplace=True)"
   ]
  },
  {
   "cell_type": "markdown",
   "id": "0946110a",
   "metadata": {
    "slideshow": {
     "slide_type": "subslide"
    }
   },
   "source": [
    "Top Projects by Location"
   ]
  },
  {
   "cell_type": "code",
   "execution_count": 486,
   "id": "4dd95478",
   "metadata": {
    "slideshow": {
     "slide_type": "subslide"
    }
   },
   "outputs": [
    {
     "data": {
      "text/html": [
       "<div>\n",
       "<style scoped>\n",
       "    .dataframe tbody tr th:only-of-type {\n",
       "        vertical-align: middle;\n",
       "    }\n",
       "\n",
       "    .dataframe tbody tr th {\n",
       "        vertical-align: top;\n",
       "    }\n",
       "\n",
       "    .dataframe thead th {\n",
       "        text-align: right;\n",
       "    }\n",
       "</style>\n",
       "<table border=\"1\" class=\"dataframe\">\n",
       "  <thead>\n",
       "    <tr style=\"text-align: right;\">\n",
       "      <th></th>\n",
       "      <th>State</th>\n",
       "      <th>Count</th>\n",
       "    </tr>\n",
       "  </thead>\n",
       "  <tbody>\n",
       "    <tr>\n",
       "      <th>0</th>\n",
       "      <td>Bangkok</td>\n",
       "      <td>588</td>\n",
       "    </tr>\n",
       "    <tr>\n",
       "      <th>1</th>\n",
       "      <td>Chonburi</td>\n",
       "      <td>53</td>\n",
       "    </tr>\n",
       "    <tr>\n",
       "      <th>2</th>\n",
       "      <td>Pathum Thani</td>\n",
       "      <td>15</td>\n",
       "    </tr>\n",
       "    <tr>\n",
       "      <th>3</th>\n",
       "      <td>Phuket</td>\n",
       "      <td>8</td>\n",
       "    </tr>\n",
       "    <tr>\n",
       "      <th>4</th>\n",
       "      <td>Samut Prakan</td>\n",
       "      <td>6</td>\n",
       "    </tr>\n",
       "    <tr>\n",
       "      <th>5</th>\n",
       "      <td>Nonthaburi</td>\n",
       "      <td>5</td>\n",
       "    </tr>\n",
       "    <tr>\n",
       "      <th>6</th>\n",
       "      <td>Prachuap Khirikhan</td>\n",
       "      <td>1</td>\n",
       "    </tr>\n",
       "  </tbody>\n",
       "</table>\n",
       "</div>"
      ],
      "text/plain": [
       "                State  Count\n",
       "0             Bangkok    588\n",
       "1            Chonburi     53\n",
       "2        Pathum Thani     15\n",
       "3              Phuket      8\n",
       "4        Samut Prakan      6\n",
       "5          Nonthaburi      5\n",
       "6  Prachuap Khirikhan      1"
      ]
     },
     "execution_count": 486,
     "metadata": {},
     "output_type": "execute_result"
    }
   ],
   "source": [
    "states"
   ]
  },
  {
   "cell_type": "code",
   "execution_count": 412,
   "id": "3ece82ce",
   "metadata": {
    "slideshow": {
     "slide_type": "skip"
    }
   },
   "outputs": [],
   "source": [
    "#df.groupby('place').count()['Creation Date'].sort_values(ascending=False).reset_index()"
   ]
  },
  {
   "cell_type": "markdown",
   "id": "123baa93",
   "metadata": {
    "slideshow": {
     "slide_type": "subslide"
    }
   },
   "source": [
    "Top Districts in Bangkok"
   ]
  },
  {
   "cell_type": "code",
   "execution_count": 488,
   "id": "33c3145a",
   "metadata": {
    "slideshow": {
     "slide_type": "subslide"
    }
   },
   "outputs": [
    {
     "data": {
      "text/html": [
       "<div>\n",
       "<style scoped>\n",
       "    .dataframe tbody tr th:only-of-type {\n",
       "        vertical-align: middle;\n",
       "    }\n",
       "\n",
       "    .dataframe tbody tr th {\n",
       "        vertical-align: top;\n",
       "    }\n",
       "\n",
       "    .dataframe thead th {\n",
       "        text-align: right;\n",
       "    }\n",
       "</style>\n",
       "<table border=\"1\" class=\"dataframe\">\n",
       "  <thead>\n",
       "    <tr style=\"text-align: right;\">\n",
       "      <th></th>\n",
       "      <th>District</th>\n",
       "      <th>Creation Date</th>\n",
       "    </tr>\n",
       "  </thead>\n",
       "  <tbody>\n",
       "    <tr>\n",
       "      <th>0</th>\n",
       "      <td>Wangthong Lang</td>\n",
       "      <td>137</td>\n",
       "    </tr>\n",
       "    <tr>\n",
       "      <th>1</th>\n",
       "      <td>Wattana</td>\n",
       "      <td>114</td>\n",
       "    </tr>\n",
       "    <tr>\n",
       "      <th>2</th>\n",
       "      <td>Ding Daeng</td>\n",
       "      <td>52</td>\n",
       "    </tr>\n",
       "    <tr>\n",
       "      <th>3</th>\n",
       "      <td>Phaya Thai</td>\n",
       "      <td>52</td>\n",
       "    </tr>\n",
       "    <tr>\n",
       "      <th>4</th>\n",
       "      <td>Bang Na</td>\n",
       "      <td>23</td>\n",
       "    </tr>\n",
       "    <tr>\n",
       "      <th>5</th>\n",
       "      <td>Phra Khanong</td>\n",
       "      <td>23</td>\n",
       "    </tr>\n",
       "    <tr>\n",
       "      <th>6</th>\n",
       "      <td>Bang Kapi</td>\n",
       "      <td>21</td>\n",
       "    </tr>\n",
       "    <tr>\n",
       "      <th>7</th>\n",
       "      <td>Bung Kum</td>\n",
       "      <td>21</td>\n",
       "    </tr>\n",
       "    <tr>\n",
       "      <th>8</th>\n",
       "      <td>Saphan Sung B39</td>\n",
       "      <td>21</td>\n",
       "    </tr>\n",
       "    <tr>\n",
       "      <th>9</th>\n",
       "      <td>Bang Su</td>\n",
       "      <td>14</td>\n",
       "    </tr>\n",
       "    <tr>\n",
       "      <th>10</th>\n",
       "      <td>Nong Khaem</td>\n",
       "      <td>9</td>\n",
       "    </tr>\n",
       "  </tbody>\n",
       "</table>\n",
       "</div>"
      ],
      "text/plain": [
       "           District  Creation Date\n",
       "0    Wangthong Lang            137\n",
       "1           Wattana            114\n",
       "2        Ding Daeng             52\n",
       "3        Phaya Thai             52\n",
       "4           Bang Na             23\n",
       "5      Phra Khanong             23\n",
       "6         Bang Kapi             21\n",
       "7          Bung Kum             21\n",
       "8   Saphan Sung B39             21\n",
       "9           Bang Su             14\n",
       "10       Nong Khaem              9"
      ]
     },
     "execution_count": 488,
     "metadata": {},
     "output_type": "execute_result"
    }
   ],
   "source": [
    "df[df['State'] == 'Bangkok'].groupby('District').count()['Creation Date'].sort_values(ascending=False)[:11].reset_index()"
   ]
  },
  {
   "cell_type": "markdown",
   "id": "c9d462a2",
   "metadata": {
    "slideshow": {
     "slide_type": "subslide"
    }
   },
   "source": [
    "Top Districts in Chonburi"
   ]
  },
  {
   "cell_type": "code",
   "execution_count": 563,
   "id": "c3218e88",
   "metadata": {
    "slideshow": {
     "slide_type": "subslide"
    }
   },
   "outputs": [
    {
     "data": {
      "text/html": [
       "<div>\n",
       "<style scoped>\n",
       "    .dataframe tbody tr th:only-of-type {\n",
       "        vertical-align: middle;\n",
       "    }\n",
       "\n",
       "    .dataframe tbody tr th {\n",
       "        vertical-align: top;\n",
       "    }\n",
       "\n",
       "    .dataframe thead th {\n",
       "        text-align: right;\n",
       "    }\n",
       "</style>\n",
       "<table border=\"1\" class=\"dataframe\">\n",
       "  <thead>\n",
       "    <tr style=\"text-align: right;\">\n",
       "      <th></th>\n",
       "      <th>District</th>\n",
       "      <th>Creation Date</th>\n",
       "    </tr>\n",
       "  </thead>\n",
       "  <tbody>\n",
       "    <tr>\n",
       "      <th>0</th>\n",
       "      <td>Bang Lamung</td>\n",
       "      <td>52</td>\n",
       "    </tr>\n",
       "    <tr>\n",
       "      <th>1</th>\n",
       "      <td>Muang Chonburi</td>\n",
       "      <td>1</td>\n",
       "    </tr>\n",
       "  </tbody>\n",
       "</table>\n",
       "</div>"
      ],
      "text/plain": [
       "         District  Creation Date\n",
       "0     Bang Lamung             52\n",
       "1  Muang Chonburi              1"
      ]
     },
     "execution_count": 563,
     "metadata": {},
     "output_type": "execute_result"
    }
   ],
   "source": [
    "df[df['State'] == 'Chonburi'].groupby('District').count()['Creation Date'].sort_values(ascending=False)[:11].reset_index()"
   ]
  },
  {
   "cell_type": "markdown",
   "id": "372e4daa",
   "metadata": {
    "slideshow": {
     "slide_type": "subslide"
    }
   },
   "source": [
    "Top Districts in Pathum Thani"
   ]
  },
  {
   "cell_type": "code",
   "execution_count": 493,
   "id": "b82ee8ef",
   "metadata": {
    "slideshow": {
     "slide_type": "subslide"
    }
   },
   "outputs": [
    {
     "data": {
      "text/html": [
       "<div>\n",
       "<style scoped>\n",
       "    .dataframe tbody tr th:only-of-type {\n",
       "        vertical-align: middle;\n",
       "    }\n",
       "\n",
       "    .dataframe tbody tr th {\n",
       "        vertical-align: top;\n",
       "    }\n",
       "\n",
       "    .dataframe thead th {\n",
       "        text-align: right;\n",
       "    }\n",
       "</style>\n",
       "<table border=\"1\" class=\"dataframe\">\n",
       "  <thead>\n",
       "    <tr style=\"text-align: right;\">\n",
       "      <th></th>\n",
       "      <th>District</th>\n",
       "      <th>Creation Date</th>\n",
       "    </tr>\n",
       "  </thead>\n",
       "  <tbody>\n",
       "    <tr>\n",
       "      <th>0</th>\n",
       "      <td>Khlong Luang</td>\n",
       "      <td>15</td>\n",
       "    </tr>\n",
       "  </tbody>\n",
       "</table>\n",
       "</div>"
      ],
      "text/plain": [
       "       District  Creation Date\n",
       "0  Khlong Luang             15"
      ]
     },
     "execution_count": 493,
     "metadata": {},
     "output_type": "execute_result"
    }
   ],
   "source": [
    "df[df['State'] == 'Pathum Thani'].groupby('District').count()['Creation Date'].sort_values(ascending=False)[:11].reset_index()"
   ]
  },
  {
   "cell_type": "markdown",
   "id": "65437d04",
   "metadata": {
    "slideshow": {
     "slide_type": "subslide"
    }
   },
   "source": [
    "Top Districts in Phuket"
   ]
  },
  {
   "cell_type": "code",
   "execution_count": 494,
   "id": "f17352eb",
   "metadata": {
    "slideshow": {
     "slide_type": "subslide"
    }
   },
   "outputs": [
    {
     "data": {
      "text/html": [
       "<div>\n",
       "<style scoped>\n",
       "    .dataframe tbody tr th:only-of-type {\n",
       "        vertical-align: middle;\n",
       "    }\n",
       "\n",
       "    .dataframe tbody tr th {\n",
       "        vertical-align: top;\n",
       "    }\n",
       "\n",
       "    .dataframe thead th {\n",
       "        text-align: right;\n",
       "    }\n",
       "</style>\n",
       "<table border=\"1\" class=\"dataframe\">\n",
       "  <thead>\n",
       "    <tr style=\"text-align: right;\">\n",
       "      <th></th>\n",
       "      <th>District</th>\n",
       "      <th>Creation Date</th>\n",
       "    </tr>\n",
       "  </thead>\n",
       "  <tbody>\n",
       "    <tr>\n",
       "      <th>0</th>\n",
       "      <td>Thalang</td>\n",
       "      <td>7</td>\n",
       "    </tr>\n",
       "    <tr>\n",
       "      <th>1</th>\n",
       "      <td>Kathu</td>\n",
       "      <td>1</td>\n",
       "    </tr>\n",
       "  </tbody>\n",
       "</table>\n",
       "</div>"
      ],
      "text/plain": [
       "  District  Creation Date\n",
       "0  Thalang              7\n",
       "1    Kathu              1"
      ]
     },
     "execution_count": 494,
     "metadata": {},
     "output_type": "execute_result"
    }
   ],
   "source": [
    "df[df['State'] == 'Phuket'].groupby('District').count()['Creation Date'].sort_values(ascending=False)[:11].reset_index()"
   ]
  },
  {
   "cell_type": "markdown",
   "id": "51da8d02",
   "metadata": {
    "slideshow": {
     "slide_type": "skip"
    }
   },
   "source": [
    "# "
   ]
  },
  {
   "cell_type": "code",
   "execution_count": 489,
   "id": "73b55077",
   "metadata": {
    "slideshow": {
     "slide_type": "skip"
    }
   },
   "outputs": [
    {
     "data": {
      "text/plain": [
       "State               District          \n",
       "Bangkok             Bang Kapi              21\n",
       "                    Bang Khae               9\n",
       "                    Bang Khen               9\n",
       "                    Bang Kholame            5\n",
       "                    Bang Na                23\n",
       "                    Bang Plat               7\n",
       "                    Bang Rak                6\n",
       "                    Bang Su                14\n",
       "                    Bangkok Noi             7\n",
       "                    Bangkok Yai             5\n",
       "                    Bung Kum               21\n",
       "                    Ding Daeng             52\n",
       "                    Khanna Yao              7\n",
       "                    Khlong San              5\n",
       "                    Lat Phrao               7\n",
       "                    Nong Khaem              9\n",
       "                    Pahtum Wan              6\n",
       "                    Phasi Charoen           9\n",
       "                    Phaya Thai             52\n",
       "                    Phra Khanong           23\n",
       "                    Sai Mai                 9\n",
       "                    Saphan Sung B39        21\n",
       "                    Thon Buri               5\n",
       "                    Wangthong Lang        137\n",
       "                    Wattana               114\n",
       "                    Yannawa                 5\n",
       "Chonburi            Bang Lamung            52\n",
       "                    Muang Chonburi          1\n",
       "Nonthaburi          Pak Kret                5\n",
       "Pathum Thani        Khlong Luang           15\n",
       "Phuket              Kathu                   1\n",
       "                    Thalang                 7\n",
       "Prachuap Khirikhan  Hua Hin                 1\n",
       "Samut Prakan        Muang Samut Prakan      6\n",
       "Name: Creation Date, dtype: int64"
      ]
     },
     "execution_count": 489,
     "metadata": {},
     "output_type": "execute_result"
    }
   ],
   "source": [
    "#df.groupby(['State','District']).count()['Creation Date']#.reset_index()"
   ]
  },
  {
   "cell_type": "markdown",
   "id": "55d440f2",
   "metadata": {
    "slideshow": {
     "slide_type": "skip"
    }
   },
   "source": [
    "# "
   ]
  },
  {
   "cell_type": "code",
   "execution_count": 497,
   "id": "5309fda0",
   "metadata": {
    "slideshow": {
     "slide_type": "skip"
    }
   },
   "outputs": [],
   "source": [
    "orig_df2 = df.copy()"
   ]
  },
  {
   "cell_type": "code",
   "execution_count": 542,
   "id": "b67b7f2d",
   "metadata": {
    "slideshow": {
     "slide_type": "skip"
    }
   },
   "outputs": [],
   "source": [
    "df = orig_df2.copy()"
   ]
  },
  {
   "cell_type": "code",
   "execution_count": 543,
   "id": "5d1f4102",
   "metadata": {
    "slideshow": {
     "slide_type": "skip"
    }
   },
   "outputs": [],
   "source": [
    "developers = pd.read_csv('Developerlist.csv')"
   ]
  },
  {
   "cell_type": "code",
   "execution_count": 544,
   "id": "32bf0f7d",
   "metadata": {
    "slideshow": {
     "slide_type": "skip"
    }
   },
   "outputs": [
    {
     "data": {
      "text/html": [
       "<div>\n",
       "<style scoped>\n",
       "    .dataframe tbody tr th:only-of-type {\n",
       "        vertical-align: middle;\n",
       "    }\n",
       "\n",
       "    .dataframe tbody tr th {\n",
       "        vertical-align: top;\n",
       "    }\n",
       "\n",
       "    .dataframe thead th {\n",
       "        text-align: right;\n",
       "    }\n",
       "</style>\n",
       "<table border=\"1\" class=\"dataframe\">\n",
       "  <thead>\n",
       "    <tr style=\"text-align: right;\">\n",
       "      <th></th>\n",
       "      <th>Developer</th>\n",
       "      <th>Project</th>\n",
       "      <th>Type</th>\n",
       "    </tr>\n",
       "  </thead>\n",
       "  <tbody>\n",
       "    <tr>\n",
       "      <th>0</th>\n",
       "      <td>Origin</td>\n",
       "      <td>The Origin Sukhumvit 105</td>\n",
       "      <td>Condo</td>\n",
       "    </tr>\n",
       "    <tr>\n",
       "      <th>1</th>\n",
       "      <td>AP (Thai)</td>\n",
       "      <td>The Address Siam - Ratchatewi</td>\n",
       "      <td>Condo</td>\n",
       "    </tr>\n",
       "    <tr>\n",
       "      <th>2</th>\n",
       "      <td>Origin</td>\n",
       "      <td>The Origin Ramintra 83 Station</td>\n",
       "      <td>Condo</td>\n",
       "    </tr>\n",
       "    <tr>\n",
       "      <th>3</th>\n",
       "      <td>Ananda</td>\n",
       "      <td>Unio Town Suksawat 30</td>\n",
       "      <td>Townhouse</td>\n",
       "    </tr>\n",
       "    <tr>\n",
       "      <th>4</th>\n",
       "      <td>Ananda</td>\n",
       "      <td>Artale Ekkamai - Ramintra</td>\n",
       "      <td>Townhouse</td>\n",
       "    </tr>\n",
       "  </tbody>\n",
       "</table>\n",
       "</div>"
      ],
      "text/plain": [
       "   Developer                         Project       Type\n",
       "0     Origin        The Origin Sukhumvit 105      Condo\n",
       "1  AP (Thai)   The Address Siam - Ratchatewi      Condo\n",
       "2     Origin  The Origin Ramintra 83 Station      Condo\n",
       "3     Ananda           Unio Town Suksawat 30  Townhouse\n",
       "4     Ananda       Artale Ekkamai - Ramintra  Townhouse"
      ]
     },
     "execution_count": 544,
     "metadata": {},
     "output_type": "execute_result"
    }
   ],
   "source": [
    "developers.head()"
   ]
  },
  {
   "cell_type": "code",
   "execution_count": 545,
   "id": "c521cf5d",
   "metadata": {
    "slideshow": {
     "slide_type": "skip"
    }
   },
   "outputs": [
    {
     "data": {
      "text/plain": [
       "0                                     NUE District R9\n",
       "1                                     NUE District R9\n",
       "2                                     NUE District R9\n",
       "3                                           M Jatujak\n",
       "4                     แชมเบอร์ส เฌอ รัชดา – รามอินทรา\n",
       "                            ...                      \n",
       "737                                   NUE District R9\n",
       "738    Origin Plug & Play Ramkhamhaeng Triple Station\n",
       "739    Origin Plug & Play Ramkhamhaeng Triple Station\n",
       "740    Origin Plug & Play Ramkhamhaeng Triple Station\n",
       "741                                   NUE District R9\n",
       "Name: Project name, Length: 742, dtype: object"
      ]
     },
     "execution_count": 545,
     "metadata": {},
     "output_type": "execute_result"
    }
   ],
   "source": [
    "#df['Project name'] = \n",
    "df['Project name'].astype(str)"
   ]
  },
  {
   "cell_type": "code",
   "execution_count": 546,
   "id": "f5d72ff3",
   "metadata": {
    "slideshow": {
     "slide_type": "skip"
    }
   },
   "outputs": [
    {
     "data": {
      "text/plain": [
       "0               Origin\n",
       "1            AP (Thai)\n",
       "2               Origin\n",
       "3               Ananda\n",
       "4               Ananda\n",
       "             ...      \n",
       "1690    Ruamchaiteedin\n",
       "1691             Noble\n",
       "1692             Noble\n",
       "1693         AP (Thai)\n",
       "1694           Sansiri\n",
       "Name: Developer, Length: 1695, dtype: object"
      ]
     },
     "execution_count": 546,
     "metadata": {},
     "output_type": "execute_result"
    }
   ],
   "source": [
    "#developers['Developer'] = \n",
    "developers['Developer'].astype(str)"
   ]
  },
  {
   "cell_type": "code",
   "execution_count": 547,
   "id": "9dce60be",
   "metadata": {
    "slideshow": {
     "slide_type": "skip"
    }
   },
   "outputs": [],
   "source": [
    "df = pd.merge(df, developers, how='left', left_on = 'Project name', right_on = 'Project')"
   ]
  },
  {
   "cell_type": "markdown",
   "id": "8498108e",
   "metadata": {
    "slideshow": {
     "slide_type": "subslide"
    }
   },
   "source": [
    "Top Projects by Developer"
   ]
  },
  {
   "cell_type": "code",
   "execution_count": 548,
   "id": "0d66b334",
   "metadata": {
    "slideshow": {
     "slide_type": "subslide"
    }
   },
   "outputs": [
    {
     "data": {
      "text/html": [
       "<div>\n",
       "<style scoped>\n",
       "    .dataframe tbody tr th:only-of-type {\n",
       "        vertical-align: middle;\n",
       "    }\n",
       "\n",
       "    .dataframe tbody tr th {\n",
       "        vertical-align: top;\n",
       "    }\n",
       "\n",
       "    .dataframe thead th {\n",
       "        text-align: right;\n",
       "    }\n",
       "</style>\n",
       "<table border=\"1\" class=\"dataframe\">\n",
       "  <thead>\n",
       "    <tr style=\"text-align: right;\">\n",
       "      <th></th>\n",
       "      <th>index</th>\n",
       "      <th>Developer</th>\n",
       "    </tr>\n",
       "  </thead>\n",
       "  <tbody>\n",
       "    <tr>\n",
       "      <th>0</th>\n",
       "      <td>AP (Thai)</td>\n",
       "      <td>41</td>\n",
       "    </tr>\n",
       "    <tr>\n",
       "      <th>1</th>\n",
       "      <td>Major</td>\n",
       "      <td>34</td>\n",
       "    </tr>\n",
       "    <tr>\n",
       "      <th>2</th>\n",
       "      <td>Risland</td>\n",
       "      <td>26</td>\n",
       "    </tr>\n",
       "    <tr>\n",
       "      <th>3</th>\n",
       "      <td>ASSETWISE</td>\n",
       "      <td>25</td>\n",
       "    </tr>\n",
       "    <tr>\n",
       "      <th>4</th>\n",
       "      <td>Sansiri</td>\n",
       "      <td>24</td>\n",
       "    </tr>\n",
       "    <tr>\n",
       "      <th>5</th>\n",
       "      <td>Origin</td>\n",
       "      <td>23</td>\n",
       "    </tr>\n",
       "    <tr>\n",
       "      <th>6</th>\n",
       "      <td>Noble</td>\n",
       "      <td>22</td>\n",
       "    </tr>\n",
       "    <tr>\n",
       "      <th>7</th>\n",
       "      <td>Ananda</td>\n",
       "      <td>20</td>\n",
       "    </tr>\n",
       "    <tr>\n",
       "      <th>8</th>\n",
       "      <td>The Urban Property</td>\n",
       "      <td>19</td>\n",
       "    </tr>\n",
       "    <tr>\n",
       "      <th>9</th>\n",
       "      <td>Land and Houses</td>\n",
       "      <td>16</td>\n",
       "    </tr>\n",
       "    <tr>\n",
       "      <th>10</th>\n",
       "      <td>SENA</td>\n",
       "      <td>12</td>\n",
       "    </tr>\n",
       "  </tbody>\n",
       "</table>\n",
       "</div>"
      ],
      "text/plain": [
       "                 index  Developer\n",
       "0            AP (Thai)         41\n",
       "1                Major         34\n",
       "2              Risland         26\n",
       "3            ASSETWISE         25\n",
       "4              Sansiri         24\n",
       "5               Origin         23\n",
       "6                Noble         22\n",
       "7               Ananda         20\n",
       "8   The Urban Property         19\n",
       "9      Land and Houses         16\n",
       "10                SENA         12"
      ]
     },
     "execution_count": 548,
     "metadata": {},
     "output_type": "execute_result"
    }
   ],
   "source": [
    "df['Developer'].value_counts()[:11].reset_index()"
   ]
  },
  {
   "cell_type": "code",
   "execution_count": 549,
   "id": "de345e11",
   "metadata": {
    "slideshow": {
     "slide_type": "skip"
    }
   },
   "outputs": [
    {
     "data": {
      "text/plain": [
       "Developer           Project name         \n",
       "AP (Thai)           Life Asoke Hype          32\n",
       "                    Life Ladprao Valley       1\n",
       "                    Life Rama 4 - Asoke       5\n",
       "                    Life Sathorn Sierra       3\n",
       "ASSETWISE           Atmoz Chaengwattana       2\n",
       "                                             ..\n",
       "TTC Capital Land    The Empire Place          4\n",
       "The Nest Property   The Nest Sukhumvit 71     1\n",
       "The Urban Property  Aeras                    15\n",
       "                    Attitude BU               2\n",
       "                    Attitude Lasalle          2\n",
       "Name: Creation Date, Length: 71, dtype: int64"
      ]
     },
     "execution_count": 549,
     "metadata": {},
     "output_type": "execute_result"
    }
   ],
   "source": [
    "df.groupby(['Developer','Project name']).count()['Creation Date']"
   ]
  },
  {
   "cell_type": "markdown",
   "id": "9a413c42",
   "metadata": {
    "slideshow": {
     "slide_type": "subslide"
    }
   },
   "source": [
    "### Developer by Developer Breakdown"
   ]
  },
  {
   "cell_type": "markdown",
   "id": "598ef5c0",
   "metadata": {
    "slideshow": {
     "slide_type": "subslide"
    }
   },
   "source": [
    "AP (Thai) "
   ]
  },
  {
   "cell_type": "code",
   "execution_count": 551,
   "id": "135d0e7d",
   "metadata": {
    "slideshow": {
     "slide_type": "subslide"
    }
   },
   "outputs": [
    {
     "data": {
      "text/html": [
       "<div>\n",
       "<style scoped>\n",
       "    .dataframe tbody tr th:only-of-type {\n",
       "        vertical-align: middle;\n",
       "    }\n",
       "\n",
       "    .dataframe tbody tr th {\n",
       "        vertical-align: top;\n",
       "    }\n",
       "\n",
       "    .dataframe thead th {\n",
       "        text-align: right;\n",
       "    }\n",
       "</style>\n",
       "<table border=\"1\" class=\"dataframe\">\n",
       "  <thead>\n",
       "    <tr style=\"text-align: right;\">\n",
       "      <th></th>\n",
       "      <th>Developer</th>\n",
       "      <th>Project name</th>\n",
       "      <th>Creation Date</th>\n",
       "    </tr>\n",
       "  </thead>\n",
       "  <tbody>\n",
       "    <tr>\n",
       "      <th>0</th>\n",
       "      <td>AP (Thai)</td>\n",
       "      <td>Life Asoke Hype</td>\n",
       "      <td>32</td>\n",
       "    </tr>\n",
       "    <tr>\n",
       "      <th>1</th>\n",
       "      <td>AP (Thai)</td>\n",
       "      <td>Life Rama 4 - Asoke</td>\n",
       "      <td>5</td>\n",
       "    </tr>\n",
       "    <tr>\n",
       "      <th>2</th>\n",
       "      <td>AP (Thai)</td>\n",
       "      <td>Life Sathorn Sierra</td>\n",
       "      <td>3</td>\n",
       "    </tr>\n",
       "    <tr>\n",
       "      <th>3</th>\n",
       "      <td>AP (Thai)</td>\n",
       "      <td>Life Ladprao Valley</td>\n",
       "      <td>1</td>\n",
       "    </tr>\n",
       "  </tbody>\n",
       "</table>\n",
       "</div>"
      ],
      "text/plain": [
       "   Developer         Project name  Creation Date\n",
       "0  AP (Thai)      Life Asoke Hype             32\n",
       "1  AP (Thai)  Life Rama 4 - Asoke              5\n",
       "2  AP (Thai)  Life Sathorn Sierra              3\n",
       "3  AP (Thai)  Life Ladprao Valley              1"
      ]
     },
     "execution_count": 551,
     "metadata": {},
     "output_type": "execute_result"
    }
   ],
   "source": [
    "df[df['Developer']=='AP (Thai)'].groupby(['Developer','Project name']).count()['Creation Date'].sort_values(ascending=False).reset_index()"
   ]
  },
  {
   "cell_type": "markdown",
   "id": "11a2718f",
   "metadata": {
    "slideshow": {
     "slide_type": "subslide"
    }
   },
   "source": [
    "Major"
   ]
  },
  {
   "cell_type": "code",
   "execution_count": 552,
   "id": "1bb004cc",
   "metadata": {
    "slideshow": {
     "slide_type": "subslide"
    }
   },
   "outputs": [
    {
     "data": {
      "text/html": [
       "<div>\n",
       "<style scoped>\n",
       "    .dataframe tbody tr th:only-of-type {\n",
       "        vertical-align: middle;\n",
       "    }\n",
       "\n",
       "    .dataframe tbody tr th {\n",
       "        vertical-align: top;\n",
       "    }\n",
       "\n",
       "    .dataframe thead th {\n",
       "        text-align: right;\n",
       "    }\n",
       "</style>\n",
       "<table border=\"1\" class=\"dataframe\">\n",
       "  <thead>\n",
       "    <tr style=\"text-align: right;\">\n",
       "      <th></th>\n",
       "      <th>Developer</th>\n",
       "      <th>Project name</th>\n",
       "      <th>Creation Date</th>\n",
       "    </tr>\n",
       "  </thead>\n",
       "  <tbody>\n",
       "    <tr>\n",
       "      <th>0</th>\n",
       "      <td>Major</td>\n",
       "      <td>Maestro 14 Siam - Ratchathewi</td>\n",
       "      <td>22</td>\n",
       "    </tr>\n",
       "    <tr>\n",
       "      <th>1</th>\n",
       "      <td>Major</td>\n",
       "      <td>M Jatujak</td>\n",
       "      <td>8</td>\n",
       "    </tr>\n",
       "    <tr>\n",
       "      <th>2</th>\n",
       "      <td>Major</td>\n",
       "      <td>Maru Ladprao 15</td>\n",
       "      <td>4</td>\n",
       "    </tr>\n",
       "  </tbody>\n",
       "</table>\n",
       "</div>"
      ],
      "text/plain": [
       "  Developer                   Project name  Creation Date\n",
       "0     Major  Maestro 14 Siam - Ratchathewi             22\n",
       "1     Major                      M Jatujak              8\n",
       "2     Major                Maru Ladprao 15              4"
      ]
     },
     "execution_count": 552,
     "metadata": {},
     "output_type": "execute_result"
    }
   ],
   "source": [
    "df[df['Developer']=='Major'].groupby(['Developer','Project name']).count()['Creation Date'].sort_values(ascending=False).reset_index()"
   ]
  },
  {
   "cell_type": "markdown",
   "id": "e7ed0138",
   "metadata": {
    "slideshow": {
     "slide_type": "subslide"
    }
   },
   "source": [
    "Risland"
   ]
  },
  {
   "cell_type": "code",
   "execution_count": 553,
   "id": "68a93701",
   "metadata": {
    "slideshow": {
     "slide_type": "subslide"
    }
   },
   "outputs": [
    {
     "data": {
      "text/html": [
       "<div>\n",
       "<style scoped>\n",
       "    .dataframe tbody tr th:only-of-type {\n",
       "        vertical-align: middle;\n",
       "    }\n",
       "\n",
       "    .dataframe tbody tr th {\n",
       "        vertical-align: top;\n",
       "    }\n",
       "\n",
       "    .dataframe thead th {\n",
       "        text-align: right;\n",
       "    }\n",
       "</style>\n",
       "<table border=\"1\" class=\"dataframe\">\n",
       "  <thead>\n",
       "    <tr style=\"text-align: right;\">\n",
       "      <th></th>\n",
       "      <th>Developer</th>\n",
       "      <th>Project name</th>\n",
       "      <th>Creation Date</th>\n",
       "    </tr>\n",
       "  </thead>\n",
       "  <tbody>\n",
       "    <tr>\n",
       "      <th>0</th>\n",
       "      <td>Risland</td>\n",
       "      <td>Skyrise Avenue Sukhumvit 64</td>\n",
       "      <td>14</td>\n",
       "    </tr>\n",
       "    <tr>\n",
       "      <th>1</th>\n",
       "      <td>Risland</td>\n",
       "      <td>The LIVIN Phetkasem</td>\n",
       "      <td>12</td>\n",
       "    </tr>\n",
       "  </tbody>\n",
       "</table>\n",
       "</div>"
      ],
      "text/plain": [
       "  Developer                 Project name  Creation Date\n",
       "0   Risland  Skyrise Avenue Sukhumvit 64             14\n",
       "1   Risland          The LIVIN Phetkasem             12"
      ]
     },
     "execution_count": 553,
     "metadata": {},
     "output_type": "execute_result"
    }
   ],
   "source": [
    "df[df['Developer']=='Risland'].groupby(['Developer','Project name']).count()['Creation Date'].sort_values(ascending=False).reset_index()"
   ]
  },
  {
   "cell_type": "markdown",
   "id": "94a687f7",
   "metadata": {
    "slideshow": {
     "slide_type": "subslide"
    }
   },
   "source": [
    "Assetwise"
   ]
  },
  {
   "cell_type": "code",
   "execution_count": 554,
   "id": "d47a2d0b",
   "metadata": {
    "slideshow": {
     "slide_type": "subslide"
    }
   },
   "outputs": [
    {
     "data": {
      "text/html": [
       "<div>\n",
       "<style scoped>\n",
       "    .dataframe tbody tr th:only-of-type {\n",
       "        vertical-align: middle;\n",
       "    }\n",
       "\n",
       "    .dataframe tbody tr th {\n",
       "        vertical-align: top;\n",
       "    }\n",
       "\n",
       "    .dataframe thead th {\n",
       "        text-align: right;\n",
       "    }\n",
       "</style>\n",
       "<table border=\"1\" class=\"dataframe\">\n",
       "  <thead>\n",
       "    <tr style=\"text-align: right;\">\n",
       "      <th></th>\n",
       "      <th>Developer</th>\n",
       "      <th>Project name</th>\n",
       "      <th>Creation Date</th>\n",
       "    </tr>\n",
       "  </thead>\n",
       "  <tbody>\n",
       "    <tr>\n",
       "      <th>0</th>\n",
       "      <td>ASSETWISE</td>\n",
       "      <td>Atmoz Ladprao 71</td>\n",
       "      <td>10</td>\n",
       "    </tr>\n",
       "    <tr>\n",
       "      <th>1</th>\n",
       "      <td>ASSETWISE</td>\n",
       "      <td>Kave Town Space</td>\n",
       "      <td>7</td>\n",
       "    </tr>\n",
       "    <tr>\n",
       "      <th>2</th>\n",
       "      <td>ASSETWISE</td>\n",
       "      <td>Kave Town Shift</td>\n",
       "      <td>6</td>\n",
       "    </tr>\n",
       "    <tr>\n",
       "      <th>3</th>\n",
       "      <td>ASSETWISE</td>\n",
       "      <td>Atmoz Chaengwattana</td>\n",
       "      <td>2</td>\n",
       "    </tr>\n",
       "  </tbody>\n",
       "</table>\n",
       "</div>"
      ],
      "text/plain": [
       "   Developer         Project name  Creation Date\n",
       "0  ASSETWISE     Atmoz Ladprao 71             10\n",
       "1  ASSETWISE      Kave Town Space              7\n",
       "2  ASSETWISE      Kave Town Shift              6\n",
       "3  ASSETWISE  Atmoz Chaengwattana              2"
      ]
     },
     "execution_count": 554,
     "metadata": {},
     "output_type": "execute_result"
    }
   ],
   "source": [
    "df[df['Developer']=='ASSETWISE'].groupby(['Developer','Project name']).count()['Creation Date'].sort_values(ascending=False).reset_index()"
   ]
  },
  {
   "cell_type": "markdown",
   "id": "7163a619",
   "metadata": {
    "slideshow": {
     "slide_type": "subslide"
    }
   },
   "source": [
    "Sansiri"
   ]
  },
  {
   "cell_type": "code",
   "execution_count": 555,
   "id": "8de8df93",
   "metadata": {
    "slideshow": {
     "slide_type": "subslide"
    }
   },
   "outputs": [
    {
     "data": {
      "text/html": [
       "<div>\n",
       "<style scoped>\n",
       "    .dataframe tbody tr th:only-of-type {\n",
       "        vertical-align: middle;\n",
       "    }\n",
       "\n",
       "    .dataframe tbody tr th {\n",
       "        vertical-align: top;\n",
       "    }\n",
       "\n",
       "    .dataframe thead th {\n",
       "        text-align: right;\n",
       "    }\n",
       "</style>\n",
       "<table border=\"1\" class=\"dataframe\">\n",
       "  <thead>\n",
       "    <tr style=\"text-align: right;\">\n",
       "      <th></th>\n",
       "      <th>Developer</th>\n",
       "      <th>Project name</th>\n",
       "      <th>Creation Date</th>\n",
       "    </tr>\n",
       "  </thead>\n",
       "  <tbody>\n",
       "    <tr>\n",
       "      <th>0</th>\n",
       "      <td>Sansiri</td>\n",
       "      <td>Edge Central Pattaya</td>\n",
       "      <td>17</td>\n",
       "    </tr>\n",
       "    <tr>\n",
       "      <th>1</th>\n",
       "      <td>Sansiri</td>\n",
       "      <td>Saransiri Srivaree</td>\n",
       "      <td>3</td>\n",
       "    </tr>\n",
       "    <tr>\n",
       "      <th>2</th>\n",
       "      <td>Sansiri</td>\n",
       "      <td>XT Phayathai</td>\n",
       "      <td>2</td>\n",
       "    </tr>\n",
       "    <tr>\n",
       "      <th>3</th>\n",
       "      <td>Sansiri</td>\n",
       "      <td>The Base Saphanmai</td>\n",
       "      <td>2</td>\n",
       "    </tr>\n",
       "  </tbody>\n",
       "</table>\n",
       "</div>"
      ],
      "text/plain": [
       "  Developer          Project name  Creation Date\n",
       "0   Sansiri  Edge Central Pattaya             17\n",
       "1   Sansiri    Saransiri Srivaree              3\n",
       "2   Sansiri          XT Phayathai              2\n",
       "3   Sansiri    The Base Saphanmai              2"
      ]
     },
     "execution_count": 555,
     "metadata": {},
     "output_type": "execute_result"
    }
   ],
   "source": [
    "df[df['Developer']=='Sansiri'].groupby(['Developer','Project name']).count()['Creation Date'].sort_values(ascending=False).reset_index()"
   ]
  },
  {
   "cell_type": "markdown",
   "id": "ccbf3455",
   "metadata": {
    "slideshow": {
     "slide_type": "subslide"
    }
   },
   "source": [
    "Origin"
   ]
  },
  {
   "cell_type": "code",
   "execution_count": 556,
   "id": "26baccdb",
   "metadata": {
    "slideshow": {
     "slide_type": "subslide"
    }
   },
   "outputs": [
    {
     "data": {
      "text/html": [
       "<div>\n",
       "<style scoped>\n",
       "    .dataframe tbody tr th:only-of-type {\n",
       "        vertical-align: middle;\n",
       "    }\n",
       "\n",
       "    .dataframe tbody tr th {\n",
       "        vertical-align: top;\n",
       "    }\n",
       "\n",
       "    .dataframe thead th {\n",
       "        text-align: right;\n",
       "    }\n",
       "</style>\n",
       "<table border=\"1\" class=\"dataframe\">\n",
       "  <thead>\n",
       "    <tr style=\"text-align: right;\">\n",
       "      <th></th>\n",
       "      <th>Developer</th>\n",
       "      <th>Project name</th>\n",
       "      <th>Creation Date</th>\n",
       "    </tr>\n",
       "  </thead>\n",
       "  <tbody>\n",
       "    <tr>\n",
       "      <th>0</th>\n",
       "      <td>Origin</td>\n",
       "      <td>Origin Plug &amp; Play Ramkhamhaeng Triple Station</td>\n",
       "      <td>18</td>\n",
       "    </tr>\n",
       "    <tr>\n",
       "      <th>1</th>\n",
       "      <td>Origin</td>\n",
       "      <td>The Origin Sukhumvit 105</td>\n",
       "      <td>4</td>\n",
       "    </tr>\n",
       "    <tr>\n",
       "      <th>2</th>\n",
       "      <td>Origin</td>\n",
       "      <td>KnightsBridge Space Ratchayothin</td>\n",
       "      <td>1</td>\n",
       "    </tr>\n",
       "  </tbody>\n",
       "</table>\n",
       "</div>"
      ],
      "text/plain": [
       "  Developer                                    Project name  Creation Date\n",
       "0    Origin  Origin Plug & Play Ramkhamhaeng Triple Station             18\n",
       "1    Origin                        The Origin Sukhumvit 105              4\n",
       "2    Origin                KnightsBridge Space Ratchayothin              1"
      ]
     },
     "execution_count": 556,
     "metadata": {},
     "output_type": "execute_result"
    }
   ],
   "source": [
    "df[df['Developer']=='Origin'].groupby(['Developer','Project name']).count()['Creation Date'].sort_values(ascending=False).reset_index()"
   ]
  },
  {
   "cell_type": "markdown",
   "id": "68f9d76b",
   "metadata": {
    "slideshow": {
     "slide_type": "subslide"
    }
   },
   "source": [
    "Noble"
   ]
  },
  {
   "cell_type": "code",
   "execution_count": 557,
   "id": "1317ebaf",
   "metadata": {
    "slideshow": {
     "slide_type": "subslide"
    }
   },
   "outputs": [
    {
     "data": {
      "text/html": [
       "<div>\n",
       "<style scoped>\n",
       "    .dataframe tbody tr th:only-of-type {\n",
       "        vertical-align: middle;\n",
       "    }\n",
       "\n",
       "    .dataframe tbody tr th {\n",
       "        vertical-align: top;\n",
       "    }\n",
       "\n",
       "    .dataframe thead th {\n",
       "        text-align: right;\n",
       "    }\n",
       "</style>\n",
       "<table border=\"1\" class=\"dataframe\">\n",
       "  <thead>\n",
       "    <tr style=\"text-align: right;\">\n",
       "      <th></th>\n",
       "      <th>Developer</th>\n",
       "      <th>Project name</th>\n",
       "      <th>Creation Date</th>\n",
       "    </tr>\n",
       "  </thead>\n",
       "  <tbody>\n",
       "    <tr>\n",
       "      <th>0</th>\n",
       "      <td>Noble</td>\n",
       "      <td>Noble BE19</td>\n",
       "      <td>19</td>\n",
       "    </tr>\n",
       "    <tr>\n",
       "      <th>1</th>\n",
       "      <td>Noble</td>\n",
       "      <td>Nue Noble Chaengwattana</td>\n",
       "      <td>3</td>\n",
       "    </tr>\n",
       "  </tbody>\n",
       "</table>\n",
       "</div>"
      ],
      "text/plain": [
       "  Developer             Project name  Creation Date\n",
       "0     Noble               Noble BE19             19\n",
       "1     Noble  Nue Noble Chaengwattana              3"
      ]
     },
     "execution_count": 557,
     "metadata": {},
     "output_type": "execute_result"
    }
   ],
   "source": [
    "df[df['Developer']=='Noble'].groupby(['Developer','Project name']).count()['Creation Date'].sort_values(ascending=False).reset_index()"
   ]
  },
  {
   "cell_type": "markdown",
   "id": "0cc2c58a",
   "metadata": {
    "slideshow": {
     "slide_type": "subslide"
    }
   },
   "source": [
    "The Urban Property"
   ]
  },
  {
   "cell_type": "code",
   "execution_count": 559,
   "id": "a3639f34",
   "metadata": {
    "slideshow": {
     "slide_type": "subslide"
    }
   },
   "outputs": [
    {
     "data": {
      "text/html": [
       "<div>\n",
       "<style scoped>\n",
       "    .dataframe tbody tr th:only-of-type {\n",
       "        vertical-align: middle;\n",
       "    }\n",
       "\n",
       "    .dataframe tbody tr th {\n",
       "        vertical-align: top;\n",
       "    }\n",
       "\n",
       "    .dataframe thead th {\n",
       "        text-align: right;\n",
       "    }\n",
       "</style>\n",
       "<table border=\"1\" class=\"dataframe\">\n",
       "  <thead>\n",
       "    <tr style=\"text-align: right;\">\n",
       "      <th></th>\n",
       "      <th>Developer</th>\n",
       "      <th>Project name</th>\n",
       "      <th>Creation Date</th>\n",
       "    </tr>\n",
       "  </thead>\n",
       "  <tbody>\n",
       "    <tr>\n",
       "      <th>0</th>\n",
       "      <td>The Urban Property</td>\n",
       "      <td>Aeras</td>\n",
       "      <td>15</td>\n",
       "    </tr>\n",
       "    <tr>\n",
       "      <th>1</th>\n",
       "      <td>The Urban Property</td>\n",
       "      <td>Attitude Lasalle</td>\n",
       "      <td>2</td>\n",
       "    </tr>\n",
       "    <tr>\n",
       "      <th>2</th>\n",
       "      <td>The Urban Property</td>\n",
       "      <td>Attitude BU</td>\n",
       "      <td>2</td>\n",
       "    </tr>\n",
       "  </tbody>\n",
       "</table>\n",
       "</div>"
      ],
      "text/plain": [
       "            Developer      Project name  Creation Date\n",
       "0  The Urban Property             Aeras             15\n",
       "1  The Urban Property  Attitude Lasalle              2\n",
       "2  The Urban Property       Attitude BU              2"
      ]
     },
     "execution_count": 559,
     "metadata": {},
     "output_type": "execute_result"
    }
   ],
   "source": [
    "df[df['Developer']=='The Urban Property'].groupby(['Developer','Project name']).count()['Creation Date'].sort_values(ascending=False).reset_index()"
   ]
  },
  {
   "cell_type": "markdown",
   "id": "b14aa840",
   "metadata": {
    "slideshow": {
     "slide_type": "subslide"
    }
   },
   "source": [
    "Ananda"
   ]
  },
  {
   "cell_type": "code",
   "execution_count": 560,
   "id": "ee977f6c",
   "metadata": {
    "slideshow": {
     "slide_type": "subslide"
    }
   },
   "outputs": [
    {
     "data": {
      "text/html": [
       "<div>\n",
       "<style scoped>\n",
       "    .dataframe tbody tr th:only-of-type {\n",
       "        vertical-align: middle;\n",
       "    }\n",
       "\n",
       "    .dataframe tbody tr th {\n",
       "        vertical-align: top;\n",
       "    }\n",
       "\n",
       "    .dataframe thead th {\n",
       "        text-align: right;\n",
       "    }\n",
       "</style>\n",
       "<table border=\"1\" class=\"dataframe\">\n",
       "  <thead>\n",
       "    <tr style=\"text-align: right;\">\n",
       "      <th></th>\n",
       "      <th>Developer</th>\n",
       "      <th>Project name</th>\n",
       "      <th>Creation Date</th>\n",
       "    </tr>\n",
       "  </thead>\n",
       "  <tbody>\n",
       "    <tr>\n",
       "      <th>0</th>\n",
       "      <td>Ananda</td>\n",
       "      <td>COCO Parc</td>\n",
       "      <td>8</td>\n",
       "    </tr>\n",
       "    <tr>\n",
       "      <th>1</th>\n",
       "      <td>Ananda</td>\n",
       "      <td>Ideo Mobi Bangsue Grand Interchange</td>\n",
       "      <td>5</td>\n",
       "    </tr>\n",
       "    <tr>\n",
       "      <th>2</th>\n",
       "      <td>Ananda</td>\n",
       "      <td>Ideo Rama 9 - Asoke</td>\n",
       "      <td>3</td>\n",
       "    </tr>\n",
       "    <tr>\n",
       "      <th>3</th>\n",
       "      <td>Ananda</td>\n",
       "      <td>Ideo Q Victory</td>\n",
       "      <td>2</td>\n",
       "    </tr>\n",
       "    <tr>\n",
       "      <th>4</th>\n",
       "      <td>Ananda</td>\n",
       "      <td>Ideo Mobi Asoke</td>\n",
       "      <td>1</td>\n",
       "    </tr>\n",
       "    <tr>\n",
       "      <th>5</th>\n",
       "      <td>Ananda</td>\n",
       "      <td>Ashton Residence 41</td>\n",
       "      <td>1</td>\n",
       "    </tr>\n",
       "  </tbody>\n",
       "</table>\n",
       "</div>"
      ],
      "text/plain": [
       "  Developer                         Project name  Creation Date\n",
       "0    Ananda                            COCO Parc              8\n",
       "1    Ananda  Ideo Mobi Bangsue Grand Interchange              5\n",
       "2    Ananda                  Ideo Rama 9 - Asoke              3\n",
       "3    Ananda                       Ideo Q Victory              2\n",
       "4    Ananda                      Ideo Mobi Asoke              1\n",
       "5    Ananda                  Ashton Residence 41              1"
      ]
     },
     "execution_count": 560,
     "metadata": {},
     "output_type": "execute_result"
    }
   ],
   "source": [
    "df[df['Developer']=='Ananda'].groupby(['Developer','Project name']).count()['Creation Date'].sort_values(ascending=False).reset_index()"
   ]
  },
  {
   "cell_type": "markdown",
   "id": "167285b7",
   "metadata": {
    "slideshow": {
     "slide_type": "subslide"
    }
   },
   "source": [
    "Land and Houses"
   ]
  },
  {
   "cell_type": "code",
   "execution_count": 561,
   "id": "54d45036",
   "metadata": {
    "slideshow": {
     "slide_type": "subslide"
    }
   },
   "outputs": [
    {
     "data": {
      "text/html": [
       "<div>\n",
       "<style scoped>\n",
       "    .dataframe tbody tr th:only-of-type {\n",
       "        vertical-align: middle;\n",
       "    }\n",
       "\n",
       "    .dataframe tbody tr th {\n",
       "        vertical-align: top;\n",
       "    }\n",
       "\n",
       "    .dataframe thead th {\n",
       "        text-align: right;\n",
       "    }\n",
       "</style>\n",
       "<table border=\"1\" class=\"dataframe\">\n",
       "  <thead>\n",
       "    <tr style=\"text-align: right;\">\n",
       "      <th></th>\n",
       "      <th>Developer</th>\n",
       "      <th>Project name</th>\n",
       "      <th>Creation Date</th>\n",
       "    </tr>\n",
       "  </thead>\n",
       "  <tbody>\n",
       "    <tr>\n",
       "      <th>0</th>\n",
       "      <td>Land and Houses</td>\n",
       "      <td>The Key MRT Phetkasem 48</td>\n",
       "      <td>12</td>\n",
       "    </tr>\n",
       "    <tr>\n",
       "      <th>1</th>\n",
       "      <td>Land and Houses</td>\n",
       "      <td>The Bangkok Thonglor</td>\n",
       "      <td>4</td>\n",
       "    </tr>\n",
       "  </tbody>\n",
       "</table>\n",
       "</div>"
      ],
      "text/plain": [
       "         Developer              Project name  Creation Date\n",
       "0  Land and Houses  The Key MRT Phetkasem 48             12\n",
       "1  Land and Houses      The Bangkok Thonglor              4"
      ]
     },
     "execution_count": 561,
     "metadata": {},
     "output_type": "execute_result"
    }
   ],
   "source": [
    "df[df['Developer']=='Land and Houses'].groupby(['Developer','Project name']).count()['Creation Date'].sort_values(ascending=False).reset_index()"
   ]
  },
  {
   "cell_type": "markdown",
   "id": "20246dae",
   "metadata": {
    "slideshow": {
     "slide_type": "subslide"
    }
   },
   "source": [
    "Sena"
   ]
  },
  {
   "cell_type": "code",
   "execution_count": 562,
   "id": "1de8d3d9",
   "metadata": {
    "slideshow": {
     "slide_type": "subslide"
    }
   },
   "outputs": [
    {
     "data": {
      "text/html": [
       "<div>\n",
       "<style scoped>\n",
       "    .dataframe tbody tr th:only-of-type {\n",
       "        vertical-align: middle;\n",
       "    }\n",
       "\n",
       "    .dataframe tbody tr th {\n",
       "        vertical-align: top;\n",
       "    }\n",
       "\n",
       "    .dataframe thead th {\n",
       "        text-align: right;\n",
       "    }\n",
       "</style>\n",
       "<table border=\"1\" class=\"dataframe\">\n",
       "  <thead>\n",
       "    <tr style=\"text-align: right;\">\n",
       "      <th></th>\n",
       "      <th>Developer</th>\n",
       "      <th>Project name</th>\n",
       "      <th>Creation Date</th>\n",
       "    </tr>\n",
       "  </thead>\n",
       "  <tbody>\n",
       "    <tr>\n",
       "      <th>0</th>\n",
       "      <td>SENA</td>\n",
       "      <td>Niche Mono Charoen Nakorn</td>\n",
       "      <td>9</td>\n",
       "    </tr>\n",
       "    <tr>\n",
       "      <th>1</th>\n",
       "      <td>SENA</td>\n",
       "      <td>Niche Mono Ramkhamhaeng</td>\n",
       "      <td>3</td>\n",
       "    </tr>\n",
       "  </tbody>\n",
       "</table>\n",
       "</div>"
      ],
      "text/plain": [
       "  Developer               Project name  Creation Date\n",
       "0      SENA  Niche Mono Charoen Nakorn              9\n",
       "1      SENA    Niche Mono Ramkhamhaeng              3"
      ]
     },
     "execution_count": 562,
     "metadata": {},
     "output_type": "execute_result"
    }
   ],
   "source": [
    "df[df['Developer']=='SENA'].groupby(['Developer','Project name']).count()['Creation Date'].sort_values(ascending=False).reset_index()"
   ]
  },
  {
   "cell_type": "markdown",
   "id": "83abe13b",
   "metadata": {},
   "source": [
    "# "
   ]
  },
  {
   "cell_type": "markdown",
   "id": "b354882f",
   "metadata": {
    "slideshow": {
     "slide_type": "slide"
    }
   },
   "source": [
    "# Pricing and Types of Leads:\n",
    "- Average Price of Leads\n",
    "- Lead Status\n",
    "- Type of Lead"
   ]
  },
  {
   "cell_type": "markdown",
   "id": "50998d28",
   "metadata": {
    "slideshow": {
     "slide_type": "subslide"
    }
   },
   "source": [
    "Average Price of Leads"
   ]
  },
  {
   "cell_type": "code",
   "execution_count": 476,
   "id": "80122225",
   "metadata": {
    "slideshow": {
     "slide_type": "subslide"
    }
   },
   "outputs": [
    {
     "data": {
      "text/plain": [
       "8137603.86"
      ]
     },
     "execution_count": 476,
     "metadata": {},
     "output_type": "execute_result"
    }
   ],
   "source": [
    "round((df['Price'].apply(lambda x : x[:-1])).astype(int).mean(),2)"
   ]
  },
  {
   "cell_type": "markdown",
   "id": "b705bf0e",
   "metadata": {
    "slideshow": {
     "slide_type": "subslide"
    }
   },
   "source": [
    "Lead Status"
   ]
  },
  {
   "cell_type": "code",
   "execution_count": 595,
   "id": "19f8c4d3",
   "metadata": {
    "slideshow": {
     "slide_type": "subslide"
    }
   },
   "outputs": [
    {
     "data": {
      "text/html": [
       "<div>\n",
       "<style scoped>\n",
       "    .dataframe tbody tr th:only-of-type {\n",
       "        vertical-align: middle;\n",
       "    }\n",
       "\n",
       "    .dataframe tbody tr th {\n",
       "        vertical-align: top;\n",
       "    }\n",
       "\n",
       "    .dataframe thead th {\n",
       "        text-align: right;\n",
       "    }\n",
       "</style>\n",
       "<table border=\"1\" class=\"dataframe\">\n",
       "  <thead>\n",
       "    <tr style=\"text-align: right;\">\n",
       "      <th></th>\n",
       "      <th>index</th>\n",
       "      <th>Status</th>\n",
       "    </tr>\n",
       "  </thead>\n",
       "  <tbody>\n",
       "    <tr>\n",
       "      <th>0</th>\n",
       "      <td>New</td>\n",
       "      <td>655</td>\n",
       "    </tr>\n",
       "    <tr>\n",
       "      <th>1</th>\n",
       "      <td>Contacted</td>\n",
       "      <td>74</td>\n",
       "    </tr>\n",
       "    <tr>\n",
       "      <th>2</th>\n",
       "      <td>Lost</td>\n",
       "      <td>13</td>\n",
       "    </tr>\n",
       "  </tbody>\n",
       "</table>\n",
       "</div>"
      ],
      "text/plain": [
       "       index  Status\n",
       "0        New     655\n",
       "1  Contacted      74\n",
       "2       Lost      13"
      ]
     },
     "execution_count": 595,
     "metadata": {},
     "output_type": "execute_result"
    }
   ],
   "source": [
    "df['Status'].value_counts().reset_index()"
   ]
  },
  {
   "cell_type": "markdown",
   "id": "be872cdd",
   "metadata": {
    "slideshow": {
     "slide_type": "subslide"
    }
   },
   "source": [
    "Type of Lead"
   ]
  },
  {
   "cell_type": "code",
   "execution_count": 594,
   "id": "989ec66d",
   "metadata": {
    "slideshow": {
     "slide_type": "subslide"
    }
   },
   "outputs": [
    {
     "data": {
      "text/html": [
       "<div>\n",
       "<style scoped>\n",
       "    .dataframe tbody tr th:only-of-type {\n",
       "        vertical-align: middle;\n",
       "    }\n",
       "\n",
       "    .dataframe tbody tr th {\n",
       "        vertical-align: top;\n",
       "    }\n",
       "\n",
       "    .dataframe thead th {\n",
       "        text-align: right;\n",
       "    }\n",
       "</style>\n",
       "<table border=\"1\" class=\"dataframe\">\n",
       "  <thead>\n",
       "    <tr style=\"text-align: right;\">\n",
       "      <th></th>\n",
       "      <th>index</th>\n",
       "      <th>Operation type</th>\n",
       "    </tr>\n",
       "  </thead>\n",
       "  <tbody>\n",
       "    <tr>\n",
       "      <th>0</th>\n",
       "      <td>Sale</td>\n",
       "      <td>721</td>\n",
       "    </tr>\n",
       "    <tr>\n",
       "      <th>1</th>\n",
       "      <td>Rent</td>\n",
       "      <td>21</td>\n",
       "    </tr>\n",
       "  </tbody>\n",
       "</table>\n",
       "</div>"
      ],
      "text/plain": [
       "  index  Operation type\n",
       "0  Sale             721\n",
       "1  Rent              21"
      ]
     },
     "execution_count": 594,
     "metadata": {},
     "output_type": "execute_result"
    }
   ],
   "source": [
    "df['Operation type'].value_counts().reset_index()"
   ]
  },
  {
   "cell_type": "markdown",
   "id": "7eb9fd7b",
   "metadata": {
    "slideshow": {
     "slide_type": "slide"
    }
   },
   "source": [
    "Leads Distribution\n",
    "- Count of Leads by Type\n",
    "- Price of Leads by Developer\n",
    "- Most number of searches (by Email count)\n",
    "- Contact Channels"
   ]
  },
  {
   "cell_type": "markdown",
   "id": "0d5b937d",
   "metadata": {
    "slideshow": {
     "slide_type": "subslide"
    }
   },
   "source": [
    "Count of Leads by Type"
   ]
  },
  {
   "cell_type": "code",
   "execution_count": 66,
   "id": "a4d00a23",
   "metadata": {
    "slideshow": {
     "slide_type": "subslide"
    }
   },
   "outputs": [
    {
     "data": {
      "text/html": [
       "<div>\n",
       "<style scoped>\n",
       "    .dataframe tbody tr th:only-of-type {\n",
       "        vertical-align: middle;\n",
       "    }\n",
       "\n",
       "    .dataframe tbody tr th {\n",
       "        vertical-align: top;\n",
       "    }\n",
       "\n",
       "    .dataframe thead th {\n",
       "        text-align: right;\n",
       "    }\n",
       "</style>\n",
       "<table border=\"1\" class=\"dataframe\">\n",
       "  <thead>\n",
       "    <tr style=\"text-align: right;\">\n",
       "      <th></th>\n",
       "      <th>index</th>\n",
       "      <th>Property type</th>\n",
       "    </tr>\n",
       "  </thead>\n",
       "  <tbody>\n",
       "    <tr>\n",
       "      <th>0</th>\n",
       "      <td>Condo</td>\n",
       "      <td>529</td>\n",
       "    </tr>\n",
       "    <tr>\n",
       "      <th>1</th>\n",
       "      <td>Villa</td>\n",
       "      <td>18</td>\n",
       "    </tr>\n",
       "    <tr>\n",
       "      <th>2</th>\n",
       "      <td>Apartment</td>\n",
       "      <td>8</td>\n",
       "    </tr>\n",
       "    <tr>\n",
       "      <th>3</th>\n",
       "      <td>House</td>\n",
       "      <td>6</td>\n",
       "    </tr>\n",
       "    <tr>\n",
       "      <th>4</th>\n",
       "      <td>Hotel</td>\n",
       "      <td>4</td>\n",
       "    </tr>\n",
       "    <tr>\n",
       "      <th>5</th>\n",
       "      <td>Townhouse</td>\n",
       "      <td>4</td>\n",
       "    </tr>\n",
       "  </tbody>\n",
       "</table>\n",
       "</div>"
      ],
      "text/plain": [
       "       index  Property type\n",
       "0      Condo            529\n",
       "1      Villa             18\n",
       "2  Apartment              8\n",
       "3      House              6\n",
       "4      Hotel              4\n",
       "5  Townhouse              4"
      ]
     },
     "execution_count": 66,
     "metadata": {},
     "output_type": "execute_result"
    }
   ],
   "source": [
    "df['Property type'].value_counts().reset_index()"
   ]
  },
  {
   "cell_type": "markdown",
   "id": "a1cab87a",
   "metadata": {
    "slideshow": {
     "slide_type": "subslide"
    }
   },
   "source": [
    "Price of Leads by Type"
   ]
  },
  {
   "cell_type": "code",
   "execution_count": 136,
   "id": "80d0772f",
   "metadata": {
    "slideshow": {
     "slide_type": "subslide"
    }
   },
   "outputs": [
    {
     "data": {
      "text/html": [
       "<div>\n",
       "<style scoped>\n",
       "    .dataframe tbody tr th:only-of-type {\n",
       "        vertical-align: middle;\n",
       "    }\n",
       "\n",
       "    .dataframe tbody tr th {\n",
       "        vertical-align: top;\n",
       "    }\n",
       "\n",
       "    .dataframe thead th {\n",
       "        text-align: right;\n",
       "    }\n",
       "</style>\n",
       "<table border=\"1\" class=\"dataframe\">\n",
       "  <thead>\n",
       "    <tr style=\"text-align: right;\">\n",
       "      <th></th>\n",
       "      <th>Property type</th>\n",
       "      <th>New_Price</th>\n",
       "    </tr>\n",
       "  </thead>\n",
       "  <tbody>\n",
       "    <tr>\n",
       "      <th>0</th>\n",
       "      <td>Apartment</td>\n",
       "      <td>932375</td>\n",
       "    </tr>\n",
       "    <tr>\n",
       "      <th>1</th>\n",
       "      <td>Condo</td>\n",
       "      <td>7892168</td>\n",
       "    </tr>\n",
       "    <tr>\n",
       "      <th>2</th>\n",
       "      <td>Hotel</td>\n",
       "      <td>12794550</td>\n",
       "    </tr>\n",
       "    <tr>\n",
       "      <th>3</th>\n",
       "      <td>House</td>\n",
       "      <td>7762000</td>\n",
       "    </tr>\n",
       "    <tr>\n",
       "      <th>4</th>\n",
       "      <td>Townhouse</td>\n",
       "      <td>5031400</td>\n",
       "    </tr>\n",
       "    <tr>\n",
       "      <th>5</th>\n",
       "      <td>Villa</td>\n",
       "      <td>18333583</td>\n",
       "    </tr>\n",
       "  </tbody>\n",
       "</table>\n",
       "</div>"
      ],
      "text/plain": [
       "  Property type  New_Price\n",
       "0     Apartment     932375\n",
       "1         Condo    7892168\n",
       "2         Hotel   12794550\n",
       "3         House    7762000\n",
       "4     Townhouse    5031400\n",
       "5         Villa   18333583"
      ]
     },
     "execution_count": 136,
     "metadata": {},
     "output_type": "execute_result"
    }
   ],
   "source": [
    "df.groupby('Property type').mean()['New_Price'].astype(int).reset_index()"
   ]
  },
  {
   "cell_type": "code",
   "execution_count": 567,
   "id": "4267fb2d",
   "metadata": {
    "slideshow": {
     "slide_type": "subslide"
    }
   },
   "outputs": [
    {
     "data": {
      "image/png": "[encoded data removed]",
      "text/plain": [
       "<Figure size 1200x600 with 1 Axes>"
      ]
     },
     "metadata": {
      "needs_background": "light"
     },
     "output_type": "display_data"
    }
   ],
   "source": [
    "plt.figure(dpi=100,figsize=(12,6))\n",
    "# errwidth removes variance lines in each bar\n",
    "sns.barplot(data=df,x='Property type',y='New_Price',palette='Paired',alpha=1,errwidth=0)\n",
    "plt.ticklabel_format(style='plain', axis='y');\n",
    "#ax.bar_label(ax.containers[0])\n",
    "plt.xlabel(\"Months\")\n",
    "plt.ylabel(\"Average Price in Baht\")\n",
    "plt.title(\"Leads per Property Type\")\n",
    "plt.show;"
   ]
  },
  {
   "cell_type": "markdown",
   "id": "7e3aa2c0",
   "metadata": {
    "slideshow": {
     "slide_type": "subslide"
    }
   },
   "source": [
    "Most number of searches (by Email count)"
   ]
  },
  {
   "cell_type": "code",
   "execution_count": 591,
   "id": "538ce4a5",
   "metadata": {
    "slideshow": {
     "slide_type": "subslide"
    }
   },
   "outputs": [
    {
     "data": {
      "text/html": [
       "<div>\n",
       "<style scoped>\n",
       "    .dataframe tbody tr th:only-of-type {\n",
       "        vertical-align: middle;\n",
       "    }\n",
       "\n",
       "    .dataframe tbody tr th {\n",
       "        vertical-align: top;\n",
       "    }\n",
       "\n",
       "    .dataframe thead th {\n",
       "        text-align: right;\n",
       "    }\n",
       "</style>\n",
       "<table border=\"1\" class=\"dataframe\">\n",
       "  <thead>\n",
       "    <tr style=\"text-align: right;\">\n",
       "      <th></th>\n",
       "      <th>index</th>\n",
       "      <th>Email</th>\n",
       "    </tr>\n",
       "  </thead>\n",
       "  <tbody>\n",
       "    <tr>\n",
       "      <th>0</th>\n",
       "      <td>tanguy.thomas@gmail.com</td>\n",
       "      <td>30</td>\n",
       "    </tr>\n",
       "    <tr>\n",
       "      <th>1</th>\n",
       "      <td>paulcy0620@gmail.com</td>\n",
       "      <td>13</td>\n",
       "    </tr>\n",
       "    <tr>\n",
       "      <th>2</th>\n",
       "      <td>petersax@gmail.com</td>\n",
       "      <td>12</td>\n",
       "    </tr>\n",
       "    <tr>\n",
       "      <th>3</th>\n",
       "      <td>lawrencethet@gmail.com</td>\n",
       "      <td>9</td>\n",
       "    </tr>\n",
       "    <tr>\n",
       "      <th>4</th>\n",
       "      <td>bakethar1992@gmail.com</td>\n",
       "      <td>8</td>\n",
       "    </tr>\n",
       "    <tr>\n",
       "      <th>5</th>\n",
       "      <td>pachsiry@hotmail.com</td>\n",
       "      <td>8</td>\n",
       "    </tr>\n",
       "    <tr>\n",
       "      <th>6</th>\n",
       "      <td>realtime2l6289@gmail.com</td>\n",
       "      <td>7</td>\n",
       "    </tr>\n",
       "    <tr>\n",
       "      <th>7</th>\n",
       "      <td>tamratnangul@gmail.com</td>\n",
       "      <td>7</td>\n",
       "    </tr>\n",
       "    <tr>\n",
       "      <th>8</th>\n",
       "      <td>naridsara.mu@propretyscout.ac.th</td>\n",
       "      <td>6</td>\n",
       "    </tr>\n",
       "    <tr>\n",
       "      <th>9</th>\n",
       "      <td>m.chuaymueang@gmail.com</td>\n",
       "      <td>6</td>\n",
       "    </tr>\n",
       "    <tr>\n",
       "      <th>10</th>\n",
       "      <td>rukna_nate@hotmail.com</td>\n",
       "      <td>6</td>\n",
       "    </tr>\n",
       "  </tbody>\n",
       "</table>\n",
       "</div>"
      ],
      "text/plain": [
       "                               index  Email\n",
       "0            tanguy.thomas@gmail.com     30\n",
       "1               paulcy0620@gmail.com     13\n",
       "2                 petersax@gmail.com     12\n",
       "3             lawrencethet@gmail.com      9\n",
       "4             bakethar1992@gmail.com      8\n",
       "5               pachsiry@hotmail.com      8\n",
       "6           realtime2l6289@gmail.com      7\n",
       "7             tamratnangul@gmail.com      7\n",
       "8   naridsara.mu@propretyscout.ac.th      6\n",
       "9            m.chuaymueang@gmail.com      6\n",
       "10            rukna_nate@hotmail.com      6"
      ]
     },
     "execution_count": 591,
     "metadata": {},
     "output_type": "execute_result"
    }
   ],
   "source": [
    "df['Email'].value_counts()[:11].reset_index()"
   ]
  },
  {
   "cell_type": "markdown",
   "id": "16f5d1b2",
   "metadata": {
    "slideshow": {
     "slide_type": "subslide"
    }
   },
   "source": [
    "Contact Channels"
   ]
  },
  {
   "cell_type": "code",
   "execution_count": 585,
   "id": "0d8310c2",
   "metadata": {},
   "outputs": [],
   "source": [
    "plt.rcParams[\"figure.dpi\"] = 140"
   ]
  },
  {
   "cell_type": "code",
   "execution_count": 586,
   "id": "33a97bec",
   "metadata": {
    "slideshow": {
     "slide_type": "subslide"
    }
   },
   "outputs": [
    {
     "data": {
      "image/png": "[encoded data removed]",
      "text/plain": [
       "<Figure size 1680x840 with 1 Axes>"
      ]
     },
     "metadata": {
      "needs_background": "light"
     },
     "output_type": "display_data"
    }
   ],
   "source": [
    "df['Lead type'].value_counts().reset_index().plot(x='index',kind='bar',rot=0,figsize=(12,6))\n",
    "plt.show;"
   ]
  },
  {
   "cell_type": "markdown",
   "id": "a4f3b2e7",
   "metadata": {},
   "source": [
    "# "
   ]
  },
  {
   "cell_type": "markdown",
   "id": "a173df33",
   "metadata": {
    "slideshow": {
     "slide_type": "slide"
    }
   },
   "source": [
    "# Timelines\n",
    "- Leads per Year\n",
    "- Leads per Year 2022\n",
    "- Leads per Year 2023\n",
    "- Leads per Weekday"
   ]
  },
  {
   "cell_type": "code",
   "execution_count": 570,
   "id": "923fddc3",
   "metadata": {
    "slideshow": {
     "slide_type": "subslide"
    }
   },
   "outputs": [
    {
     "data": {
      "image/png": "[encoded data removed]",
      "text/plain": [
       "<Figure size 1200x600 with 1 Axes>"
      ]
     },
     "metadata": {
      "needs_background": "light"
     },
     "output_type": "display_data"
    }
   ],
   "source": [
    "plt.figure(dpi=100,figsize=(12,6))\n",
    "sns.countplot(data=df,x='date_year',palette='Paired')\n",
    "plt.xlabel(\"Year\")\n",
    "plt.ylabel(\"Count\")\n",
    "plt.title(\"Leads per Year\")\n",
    "plt.show;"
   ]
  },
  {
   "cell_type": "code",
   "execution_count": 569,
   "id": "d82433ab",
   "metadata": {
    "slideshow": {
     "slide_type": "subslide"
    }
   },
   "outputs": [
    {
     "data": {
      "image/png": "[encoded data removed]",
      "text/plain": [
       "<Figure size 1200x600 with 1 Axes>"
      ]
     },
     "metadata": {
      "needs_background": "light"
     },
     "output_type": "display_data"
    }
   ],
   "source": [
    "plt.figure(dpi=100,figsize=(12,6))\n",
    "sns.countplot(data=df[df['date_year']==2022],x='date_month',palette='Paired',alpha=0.6)\n",
    "#sns.lineplot(data=df[df['date_year']==2022].groupby('date_month').count()['Creation Date'],markers=True)\n",
    "\n",
    "plt.xlabel(\"Months\")\n",
    "plt.ylabel(\"Count\")\n",
    "plt.title(\"Leads per Month in 2022\")\n",
    "plt.show;"
   ]
  },
  {
   "cell_type": "code",
   "execution_count": 571,
   "id": "b3aed5e4",
   "metadata": {
    "slideshow": {
     "slide_type": "subslide"
    }
   },
   "outputs": [
    {
     "data": {
      "image/png": "[encoded data removed]",
      "text/plain": [
       "<Figure size 1200x600 with 1 Axes>"
      ]
     },
     "metadata": {
      "needs_background": "light"
     },
     "output_type": "display_data"
    }
   ],
   "source": [
    "plt.figure(dpi=100,figsize=(12,6))\n",
    "sns.countplot(data=df[df['date_year']==2023],x='date_month',palette='Paired')\n",
    "plt.xlabel(\"Months\")\n",
    "#plt.ylabel(\"Values\")\n",
    "plt.title(\"Leads per Month in 2023\")\n",
    "plt.show;"
   ]
  },
  {
   "cell_type": "code",
   "execution_count": 574,
   "id": "44547a82",
   "metadata": {
    "slideshow": {
     "slide_type": "subslide"
    }
   },
   "outputs": [
    {
     "data": {
      "image/png": "[encoded data removed]",
      "text/plain": [
       "<Figure size 1200x800 with 1 Axes>"
      ]
     },
     "metadata": {
      "needs_background": "light"
     },
     "output_type": "display_data"
    }
   ],
   "source": [
    "plt.figure(dpi=100,figsize=(12,8))\n",
    "sns.countplot(data=df,x='date_weekday',alpha=0.8)\n",
    "plt.xlabel(\"Day of the Week\")\n",
    "plt.ylabel(\"Count\")\n",
    "plt.title(\"Leads per Weekday\")\n",
    "plt.show;"
   ]
  },
  {
   "cell_type": "markdown",
   "id": "01da471a",
   "metadata": {
    "slideshow": {
     "slide_type": "skip"
    }
   },
   "source": [
    "# END"
   ]
  },
  {
   "cell_type": "code",
   "execution_count": 29,
   "id": "ffe2f8bc",
   "metadata": {
    "slideshow": {
     "slide_type": "skip"
    }
   },
   "outputs": [
    {
     "name": "stderr",
     "output_type": "stream",
     "text": [
      "[NbConvertApp] Converting notebook Proppit_Analytics_Slide.ipynb to slides\n",
      "[NbConvertApp] Writing 735677 bytes to Proppit_Analytics_Slide.slides.html\n",
      "[NbConvertApp] Redirecting reveal.js requests to https://cdnjs.cloudflare.com/ajax/libs/reveal.js/3.5.0\n",
      "Traceback (most recent call last):\n",
      "  File \"C:\\Users\\User\\anaconda3\\Scripts\\jupyter-nbconvert-script.py\", line 10, in <module>\n",
      "    sys.exit(main())\n",
      "  File \"C:\\Users\\User\\anaconda3\\lib\\site-packages\\jupyter_core\\application.py\", line 270, in launch_instance\n",
      "    return super(JupyterApp, cls).launch_instance(argv=argv, **kwargs)\n",
      "  File \"C:\\Users\\User\\anaconda3\\lib\\site-packages\\traitlets\\config\\application.py\", line 845, in launch_instance\n",
      "    app.start()\n",
      "  File \"C:\\Users\\User\\anaconda3\\lib\\site-packages\\nbconvert\\nbconvertapp.py\", line 350, in start\n",
      "    self.convert_notebooks()\n",
      "  File \"C:\\Users\\User\\anaconda3\\lib\\site-packages\\nbconvert\\nbconvertapp.py\", line 524, in convert_notebooks\n",
      "    self.convert_single_notebook(notebook_filename)\n",
      "  File \"C:\\Users\\User\\anaconda3\\lib\\site-packages\\nbconvert\\nbconvertapp.py\", line 491, in convert_single_notebook\n",
      "    self.postprocess_single_notebook(write_results)\n",
      "  File \"C:\\Users\\User\\anaconda3\\lib\\site-packages\\nbconvert\\nbconvertapp.py\", line 463, in postprocess_single_notebook\n",
      "    self.postprocessor(write_results)\n",
      "  File \"C:\\Users\\User\\anaconda3\\lib\\site-packages\\nbconvert\\postprocessors\\base.py\", line 28, in __call__\n",
      "    self.postprocess(input)\n",
      "  File \"C:\\Users\\User\\anaconda3\\lib\\site-packages\\nbconvert\\postprocessors\\serve.py\", line 90, in postprocess\n",
      "    http_server.listen(self.port, address=self.ip)\n",
      "  File \"C:\\Users\\User\\anaconda3\\lib\\site-packages\\tornado\\tcpserver.py\", line 151, in listen\n",
      "    sockets = bind_sockets(port, address=address)\n",
      "  File \"C:\\Users\\User\\anaconda3\\lib\\site-packages\\tornado\\netutil.py\", line 174, in bind_sockets\n",
      "    sock.bind(sockaddr)\n",
      "OSError: [WinError 10048] Only one usage of each socket address (protocol/network address/port) is normally permitted\n"
     ]
    }
   ],
   "source": [
    "!jupyter nbconvert Proppit_Analytics_Slide.ipynb --to slides --no-input --no-prompt --post serve"
   ]
  },
  {
   "cell_type": "code",
   "execution_count": 19,
   "id": "be7b7419",
   "metadata": {
    "slideshow": {
     "slide_type": "skip"
    }
   },
   "outputs": [
    {
     "name": "stderr",
     "output_type": "stream",
     "text": [
      "[NbConvertApp] Converting notebook Proppit.ipynb to slides\n",
      "[NbConvertApp] Writing 740658 bytes to Proppit.slides.html\n"
     ]
    }
   ],
   "source": [
    "!jupyter nbconvert --to slides --TemplateExporter.exclude_input=True Proppit.ipynb"
   ]
  },
  {
   "cell_type": "code",
   "execution_count": null,
   "id": "cbe32bef",
   "metadata": {
    "slideshow": {
     "slide_type": "skip"
    }
   },
   "outputs": [],
   "source": [
    "#!jupyter nbconvert Proppit.ipynb --to slides --no-input --no-prompt --post serve --reveal-prefix \"http://cdn.jsdelivr.net/reveal.js/2.5.0\""
   ]
  },
  {
   "cell_type": "code",
   "execution_count": 22,
   "id": "bedc4f1b",
   "metadata": {
    "slideshow": {
     "slide_type": "skip"
    }
   },
   "outputs": [
    {
     "name": "stderr",
     "output_type": "stream",
     "text": [
      "[NbConvertApp] Converting notebook Proppit.ipynb to slides\n",
      "[NbConvertApp] Writing 736356 bytes to Proppit.slides.html\n"
     ]
    }
   ],
   "source": [
    "!jupyter nbconvert Proppit.ipynb --to slides --no-input --no-prompt --reveal-prefix \"http://cdn.jsdelivr.net/reveal.js/2.5.0\""
   ]
  },
  {
   "cell_type": "code",
   "execution_count": null,
   "id": "bd5822db",
   "metadata": {
    "slideshow": {
     "slide_type": "skip"
    }
   },
   "outputs": [],
   "source": []
  }
 ],
 "metadata": {
  "celltoolbar": "Slideshow",
  "kernelspec": {
   "display_name": "Python 3 (ipykernel)",
   "language": "python",
   "name": "python3"
  },
  "language_info": {
   "codemirror_mode": {
    "name": "ipython",
    "version": 3
   },
   "file_extension": ".py",
   "mimetype": "text/x-python",
   "name": "python",
   "nbconvert_exporter": "python",
   "pygments_lexer": "ipython3",
   "version": "3.9.5"
  }
 },
 "nbformat": 4,
 "nbformat_minor": 5
}
