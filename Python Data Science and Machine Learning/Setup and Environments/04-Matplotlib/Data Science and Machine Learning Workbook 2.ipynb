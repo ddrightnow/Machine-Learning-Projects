{
 "cells": [
  {
   "cell_type": "code",
   "execution_count": 2,
   "id": "f9a4defe",
   "metadata": {},
   "outputs": [],
   "source": [
    "import matplotlib.pyplot as plt"
   ]
  },
  {
   "cell_type": "code",
   "execution_count": 3,
   "id": "0965bbb1",
   "metadata": {},
   "outputs": [],
   "source": [
    "import numpy as np"
   ]
  },
  {
   "cell_type": "code",
   "execution_count": 4,
   "id": "800abe76",
   "metadata": {},
   "outputs": [],
   "source": [
    "x=np.arange(0,10)"
   ]
  },
  {
   "cell_type": "code",
   "execution_count": 6,
   "id": "46e488e3",
   "metadata": {},
   "outputs": [],
   "source": [
    "y = 2*x"
   ]
  },
  {
   "cell_type": "code",
   "execution_count": 7,
   "id": "d73ad502",
   "metadata": {},
   "outputs": [
    {
     "data": {
      "text/plain": [
       "array([0, 1, 2, 3, 4, 5, 6, 7, 8, 9])"
      ]
     },
     "execution_count": 7,
     "metadata": {},
     "output_type": "execute_result"
    }
   ],
   "source": [
    "x"
   ]
  },
  {
   "cell_type": "code",
   "execution_count": 8,
   "id": "3b9074eb",
   "metadata": {},
   "outputs": [
    {
     "data": {
      "text/plain": [
       "array([ 0,  2,  4,  6,  8, 10, 12, 14, 16, 18])"
      ]
     },
     "execution_count": 8,
     "metadata": {},
     "output_type": "execute_result"
    }
   ],
   "source": [
    "y"
   ]
  },
  {
   "cell_type": "code",
   "execution_count": 22,
   "id": "077a282c",
   "metadata": {},
   "outputs": [
    {
     "data": {
      "image/png": "[encoded data removed]",
      "text/plain": [
       "<Figure size 432x288 with 1 Axes>"
      ]
     },
     "metadata": {
      "needs_background": "light"
     },
     "output_type": "display_data"
    }
   ],
   "source": [
    "plt.plot(x,y)\n",
    "#plt.plot(x,y);\n",
    "plt.xlabel('X-axis')\n",
    "plt.ylabel('Y-axis')\n",
    "plt.xlim(0,6)\n",
    "plt.ylim(0,15)\n",
    "plt.title(\"String Title\")\n",
    "\n",
    "plt.savefig('myfirstplot.png')"
   ]
  },
  {
   "cell_type": "code",
   "execution_count": 21,
   "id": "3ade37fb",
   "metadata": {},
   "outputs": [],
   "source": [
    "#help(plt.savefig)"
   ]
  },
  {
   "cell_type": "code",
   "execution_count": null,
   "id": "c5763ea5",
   "metadata": {},
   "outputs": [],
   "source": []
  },
  {
   "cell_type": "code",
   "execution_count": 24,
   "id": "d731da96",
   "metadata": {},
   "outputs": [],
   "source": [
    "a = np.linspace(0,10,11)"
   ]
  },
  {
   "cell_type": "code",
   "execution_count": 25,
   "id": "2930a2f6",
   "metadata": {},
   "outputs": [],
   "source": [
    "b = a**4"
   ]
  },
  {
   "cell_type": "code",
   "execution_count": 26,
   "id": "f762264c",
   "metadata": {},
   "outputs": [
    {
     "data": {
      "text/plain": [
       "array([ 0.,  1.,  2.,  3.,  4.,  5.,  6.,  7.,  8.,  9., 10.])"
      ]
     },
     "execution_count": 26,
     "metadata": {},
     "output_type": "execute_result"
    }
   ],
   "source": [
    "a"
   ]
  },
  {
   "cell_type": "code",
   "execution_count": 27,
   "id": "3f9c0cfc",
   "metadata": {},
   "outputs": [
    {
     "data": {
      "text/plain": [
       "array([0.000e+00, 1.000e+00, 1.600e+01, 8.100e+01, 2.560e+02, 6.250e+02,\n",
       "       1.296e+03, 2.401e+03, 4.096e+03, 6.561e+03, 1.000e+04])"
      ]
     },
     "execution_count": 27,
     "metadata": {},
     "output_type": "execute_result"
    }
   ],
   "source": [
    "b"
   ]
  },
  {
   "cell_type": "code",
   "execution_count": 28,
   "id": "4f9ac3c1",
   "metadata": {},
   "outputs": [],
   "source": [
    "x= np.arange(0,10)"
   ]
  },
  {
   "cell_type": "code",
   "execution_count": 29,
   "id": "55e19688",
   "metadata": {},
   "outputs": [],
   "source": [
    "y = 2*x"
   ]
  },
  {
   "cell_type": "code",
   "execution_count": 30,
   "id": "b2f3247c",
   "metadata": {},
   "outputs": [
    {
     "data": {
      "text/plain": [
       "array([0, 1, 2, 3, 4, 5, 6, 7, 8, 9])"
      ]
     },
     "execution_count": 30,
     "metadata": {},
     "output_type": "execute_result"
    }
   ],
   "source": [
    "x"
   ]
  },
  {
   "cell_type": "code",
   "execution_count": 31,
   "id": "a31aef4d",
   "metadata": {},
   "outputs": [
    {
     "data": {
      "text/plain": [
       "array([ 0,  2,  4,  6,  8, 10, 12, 14, 16, 18])"
      ]
     },
     "execution_count": 31,
     "metadata": {},
     "output_type": "execute_result"
    }
   ],
   "source": [
    "y"
   ]
  },
  {
   "cell_type": "code",
   "execution_count": 43,
   "id": "6017a74a",
   "metadata": {},
   "outputs": [
    {
     "data": {
      "text/plain": [
       "[<matplotlib.lines.Line2D at 0x2e2acc28700>]"
      ]
     },
     "execution_count": 43,
     "metadata": {},
     "output_type": "execute_result"
    },
    {
     "data": {
      "image/png": "[encoded data removed]",
      "text/plain": [
       "<Figure size 432x288 with 2 Axes>"
      ]
     },
     "metadata": {
      "needs_background": "light"
     },
     "output_type": "display_data"
    }
   ],
   "source": [
    "fig = plt.figure()\n",
    "\n",
    "#LARGE AXES\n",
    "axes1 = fig.add_axes([0,0,1,1])\n",
    "axes1.plot(a,b)\n",
    "\n",
    "#SMALL AXES\n",
    "axes2 =fig.add_axes([0.2,0.5,0.25,0.25])\n",
    "axes2.plot(x,y)"
   ]
  },
  {
   "cell_type": "code",
   "execution_count": 37,
   "id": "79c854df",
   "metadata": {},
   "outputs": [
    {
     "data": {
      "text/plain": [
       "matplotlib.figure.Figure"
      ]
     },
     "execution_count": 37,
     "metadata": {},
     "output_type": "execute_result"
    }
   ],
   "source": [
    "type(fig)"
   ]
  },
  {
   "cell_type": "code",
   "execution_count": 52,
   "id": "6624ecfa",
   "metadata": {},
   "outputs": [
    {
     "data": {
      "text/plain": [
       "Text(0.5, 1.0, 'Zoomed In')"
      ]
     },
     "execution_count": 52,
     "metadata": {},
     "output_type": "execute_result"
    },
    {
     "data": {
      "image/png": "[encoded data removed]",
      "text/plain": [
       "<Figure size 432x288 with 2 Axes>"
      ]
     },
     "metadata": {
      "needs_background": "light"
     },
     "output_type": "display_data"
    }
   ],
   "source": [
    "fig = plt.figure()\n",
    "\n",
    "#LARGE AXES\n",
    "axes1 = fig.add_axes([0,0,1,1])\n",
    "axes1.plot(a,b)\n",
    "axes1.set_xlim(0,8)\n",
    "axes1.set_ylim(0,8000)\n",
    "axes1.set_xlabel('A')\n",
    "axes1.set_ylabel('B')\n",
    "axes1.set_title('Power of 4')\n",
    "\n",
    "\n",
    "#SMALL AXES\n",
    "axes2 =fig.add_axes([1,1,0.7,0.7])\n",
    "#axes2.plot(x,y)\n",
    "axes2.plot(a,b)\n",
    "axes2.set_xlim(1,2)\n",
    "axes2.set_ylim(0,50)\n",
    "axes2.set_xlabel('A')\n",
    "axes2.set_ylabel('B')\n",
    "axes2.set_title('Zoomed In')"
   ]
  },
  {
   "cell_type": "code",
   "execution_count": null,
   "id": "9930bfe9",
   "metadata": {},
   "outputs": [],
   "source": []
  },
  {
   "cell_type": "code",
   "execution_count": null,
   "id": "f5b6e03d",
   "metadata": {},
   "outputs": [],
   "source": []
  },
  {
   "cell_type": "code",
   "execution_count": 62,
   "id": "8261cab5",
   "metadata": {},
   "outputs": [
    {
     "data": {
      "image/png": "[encoded data removed]",
      "text/plain": [
       "<Figure size 400x400 with 1 Axes>"
      ]
     },
     "metadata": {
      "needs_background": "light"
     },
     "output_type": "display_data"
    }
   ],
   "source": [
    "fig = plt.figure(figsize = (2,2),dpi = 200)\n",
    "\n",
    "axes1 = fig.add_axes([0,0,1,1])\n",
    "axes1.plot(a,b)\n",
    "\n",
    "fig.savefig('new_figure.png',bbox_inches='tight')"
   ]
  },
  {
   "cell_type": "code",
   "execution_count": null,
   "id": "ce66cdd7",
   "metadata": {},
   "outputs": [],
   "source": []
  }
 ],
 "metadata": {
  "kernelspec": {
   "display_name": "Python 3",
   "language": "python",
   "name": "python3"
  },
  "language_info": {
   "codemirror_mode": {
    "name": "ipython",
    "version": 3
   },
   "file_extension": ".py",
   "mimetype": "text/x-python",
   "name": "python",
   "nbconvert_exporter": "python",
   "pygments_lexer": "ipython3",
   "version": "3.9.5"
  }
 },
 "nbformat": 4,
 "nbformat_minor": 5
}
